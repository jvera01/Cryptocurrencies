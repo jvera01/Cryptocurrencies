{
 "cells": [
  {
   "cell_type": "markdown",
   "metadata": {},
   "source": [
    "# Clustering Crypto"
   ]
  },
  {
   "cell_type": "code",
   "execution_count": 7,
   "metadata": {},
   "outputs": [],
   "source": [
    "# Initial imports\n",
    "import pandas as pd\n",
    "import hvplot.pandas\n",
    "from path import Path\n",
    "import plotly.express as px\n",
    "from sklearn.preprocessing import StandardScaler, MinMaxScaler\n",
    "from sklearn.decomposition import PCA\n",
    "from sklearn.cluster import KMeans\n"
   ]
  },
  {
   "cell_type": "markdown",
   "metadata": {},
   "source": [
    "### Deliverable 1: Preprocessing the Data for PCA"
   ]
  },
  {
   "cell_type": "code",
   "execution_count": 8,
   "metadata": {},
   "outputs": [
    {
     "data": {
      "text/html": [
       "<div>\n",
       "<style scoped>\n",
       "    .dataframe tbody tr th:only-of-type {\n",
       "        vertical-align: middle;\n",
       "    }\n",
       "\n",
       "    .dataframe tbody tr th {\n",
       "        vertical-align: top;\n",
       "    }\n",
       "\n",
       "    .dataframe thead th {\n",
       "        text-align: right;\n",
       "    }\n",
       "</style>\n",
       "<table border=\"1\" class=\"dataframe\">\n",
       "  <thead>\n",
       "    <tr style=\"text-align: right;\">\n",
       "      <th></th>\n",
       "      <th>CoinName</th>\n",
       "      <th>Algorithm</th>\n",
       "      <th>IsTrading</th>\n",
       "      <th>ProofType</th>\n",
       "      <th>TotalCoinsMined</th>\n",
       "      <th>TotalCoinSupply</th>\n",
       "    </tr>\n",
       "  </thead>\n",
       "  <tbody>\n",
       "    <tr>\n",
       "      <th>42</th>\n",
       "      <td>42 Coin</td>\n",
       "      <td>Scrypt</td>\n",
       "      <td>True</td>\n",
       "      <td>PoW/PoS</td>\n",
       "      <td>4.199995e+01</td>\n",
       "      <td>42</td>\n",
       "    </tr>\n",
       "    <tr>\n",
       "      <th>365</th>\n",
       "      <td>365Coin</td>\n",
       "      <td>X11</td>\n",
       "      <td>True</td>\n",
       "      <td>PoW/PoS</td>\n",
       "      <td>NaN</td>\n",
       "      <td>2300000000</td>\n",
       "    </tr>\n",
       "    <tr>\n",
       "      <th>404</th>\n",
       "      <td>404Coin</td>\n",
       "      <td>Scrypt</td>\n",
       "      <td>True</td>\n",
       "      <td>PoW/PoS</td>\n",
       "      <td>1.055185e+09</td>\n",
       "      <td>532000000</td>\n",
       "    </tr>\n",
       "    <tr>\n",
       "      <th>611</th>\n",
       "      <td>SixEleven</td>\n",
       "      <td>SHA-256</td>\n",
       "      <td>True</td>\n",
       "      <td>PoW</td>\n",
       "      <td>NaN</td>\n",
       "      <td>611000</td>\n",
       "    </tr>\n",
       "    <tr>\n",
       "      <th>808</th>\n",
       "      <td>808</td>\n",
       "      <td>SHA-256</td>\n",
       "      <td>True</td>\n",
       "      <td>PoW/PoS</td>\n",
       "      <td>0.000000e+00</td>\n",
       "      <td>0</td>\n",
       "    </tr>\n",
       "    <tr>\n",
       "      <th>1337</th>\n",
       "      <td>EliteCoin</td>\n",
       "      <td>X13</td>\n",
       "      <td>True</td>\n",
       "      <td>PoW/PoS</td>\n",
       "      <td>2.927942e+10</td>\n",
       "      <td>314159265359</td>\n",
       "    </tr>\n",
       "    <tr>\n",
       "      <th>2015</th>\n",
       "      <td>2015 coin</td>\n",
       "      <td>X11</td>\n",
       "      <td>True</td>\n",
       "      <td>PoW/PoS</td>\n",
       "      <td>NaN</td>\n",
       "      <td>0</td>\n",
       "    </tr>\n",
       "    <tr>\n",
       "      <th>BTC</th>\n",
       "      <td>Bitcoin</td>\n",
       "      <td>SHA-256</td>\n",
       "      <td>True</td>\n",
       "      <td>PoW</td>\n",
       "      <td>1.792718e+07</td>\n",
       "      <td>21000000</td>\n",
       "    </tr>\n",
       "    <tr>\n",
       "      <th>ETH</th>\n",
       "      <td>Ethereum</td>\n",
       "      <td>Ethash</td>\n",
       "      <td>True</td>\n",
       "      <td>PoW</td>\n",
       "      <td>1.076842e+08</td>\n",
       "      <td>0</td>\n",
       "    </tr>\n",
       "    <tr>\n",
       "      <th>LTC</th>\n",
       "      <td>Litecoin</td>\n",
       "      <td>Scrypt</td>\n",
       "      <td>True</td>\n",
       "      <td>PoW</td>\n",
       "      <td>6.303924e+07</td>\n",
       "      <td>84000000</td>\n",
       "    </tr>\n",
       "  </tbody>\n",
       "</table>\n",
       "</div>"
      ],
      "text/plain": [
       "       CoinName Algorithm  IsTrading ProofType  TotalCoinsMined  \\\n",
       "42      42 Coin    Scrypt       True   PoW/PoS     4.199995e+01   \n",
       "365     365Coin       X11       True   PoW/PoS              NaN   \n",
       "404     404Coin    Scrypt       True   PoW/PoS     1.055185e+09   \n",
       "611   SixEleven   SHA-256       True       PoW              NaN   \n",
       "808         808   SHA-256       True   PoW/PoS     0.000000e+00   \n",
       "1337  EliteCoin       X13       True   PoW/PoS     2.927942e+10   \n",
       "2015  2015 coin       X11       True   PoW/PoS              NaN   \n",
       "BTC     Bitcoin   SHA-256       True       PoW     1.792718e+07   \n",
       "ETH    Ethereum    Ethash       True       PoW     1.076842e+08   \n",
       "LTC    Litecoin    Scrypt       True       PoW     6.303924e+07   \n",
       "\n",
       "     TotalCoinSupply  \n",
       "42                42  \n",
       "365       2300000000  \n",
       "404        532000000  \n",
       "611           611000  \n",
       "808                0  \n",
       "1337    314159265359  \n",
       "2015               0  \n",
       "BTC         21000000  \n",
       "ETH                0  \n",
       "LTC         84000000  "
      ]
     },
     "execution_count": 8,
     "metadata": {},
     "output_type": "execute_result"
    }
   ],
   "source": [
    "# Load the crypto_data.csv dataset.\n",
    "file = \"resources/crypto_data.csv\"\n",
    "df_crypto = pd.read_csv(file).set_index(\"Unnamed: 0\")\n",
    "df_crypto.index.name = None\n",
    "df_crypto.head(10)"
   ]
  },
  {
   "cell_type": "code",
   "execution_count": 9,
   "metadata": {},
   "outputs": [
    {
     "data": {
      "text/html": [
       "<div>\n",
       "<style scoped>\n",
       "    .dataframe tbody tr th:only-of-type {\n",
       "        vertical-align: middle;\n",
       "    }\n",
       "\n",
       "    .dataframe tbody tr th {\n",
       "        vertical-align: top;\n",
       "    }\n",
       "\n",
       "    .dataframe thead th {\n",
       "        text-align: right;\n",
       "    }\n",
       "</style>\n",
       "<table border=\"1\" class=\"dataframe\">\n",
       "  <thead>\n",
       "    <tr style=\"text-align: right;\">\n",
       "      <th></th>\n",
       "      <th>CoinName</th>\n",
       "      <th>Algorithm</th>\n",
       "      <th>IsTrading</th>\n",
       "      <th>ProofType</th>\n",
       "      <th>TotalCoinsMined</th>\n",
       "      <th>TotalCoinSupply</th>\n",
       "    </tr>\n",
       "  </thead>\n",
       "  <tbody>\n",
       "    <tr>\n",
       "      <th>42</th>\n",
       "      <td>42 Coin</td>\n",
       "      <td>Scrypt</td>\n",
       "      <td>True</td>\n",
       "      <td>PoW/PoS</td>\n",
       "      <td>4.199995e+01</td>\n",
       "      <td>42</td>\n",
       "    </tr>\n",
       "    <tr>\n",
       "      <th>365</th>\n",
       "      <td>365Coin</td>\n",
       "      <td>X11</td>\n",
       "      <td>True</td>\n",
       "      <td>PoW/PoS</td>\n",
       "      <td>NaN</td>\n",
       "      <td>2300000000</td>\n",
       "    </tr>\n",
       "    <tr>\n",
       "      <th>404</th>\n",
       "      <td>404Coin</td>\n",
       "      <td>Scrypt</td>\n",
       "      <td>True</td>\n",
       "      <td>PoW/PoS</td>\n",
       "      <td>1.055185e+09</td>\n",
       "      <td>532000000</td>\n",
       "    </tr>\n",
       "    <tr>\n",
       "      <th>611</th>\n",
       "      <td>SixEleven</td>\n",
       "      <td>SHA-256</td>\n",
       "      <td>True</td>\n",
       "      <td>PoW</td>\n",
       "      <td>NaN</td>\n",
       "      <td>611000</td>\n",
       "    </tr>\n",
       "    <tr>\n",
       "      <th>808</th>\n",
       "      <td>808</td>\n",
       "      <td>SHA-256</td>\n",
       "      <td>True</td>\n",
       "      <td>PoW/PoS</td>\n",
       "      <td>0.000000e+00</td>\n",
       "      <td>0</td>\n",
       "    </tr>\n",
       "    <tr>\n",
       "      <th>1337</th>\n",
       "      <td>EliteCoin</td>\n",
       "      <td>X13</td>\n",
       "      <td>True</td>\n",
       "      <td>PoW/PoS</td>\n",
       "      <td>2.927942e+10</td>\n",
       "      <td>314159265359</td>\n",
       "    </tr>\n",
       "    <tr>\n",
       "      <th>2015</th>\n",
       "      <td>2015 coin</td>\n",
       "      <td>X11</td>\n",
       "      <td>True</td>\n",
       "      <td>PoW/PoS</td>\n",
       "      <td>NaN</td>\n",
       "      <td>0</td>\n",
       "    </tr>\n",
       "    <tr>\n",
       "      <th>BTC</th>\n",
       "      <td>Bitcoin</td>\n",
       "      <td>SHA-256</td>\n",
       "      <td>True</td>\n",
       "      <td>PoW</td>\n",
       "      <td>1.792718e+07</td>\n",
       "      <td>21000000</td>\n",
       "    </tr>\n",
       "    <tr>\n",
       "      <th>ETH</th>\n",
       "      <td>Ethereum</td>\n",
       "      <td>Ethash</td>\n",
       "      <td>True</td>\n",
       "      <td>PoW</td>\n",
       "      <td>1.076842e+08</td>\n",
       "      <td>0</td>\n",
       "    </tr>\n",
       "    <tr>\n",
       "      <th>LTC</th>\n",
       "      <td>Litecoin</td>\n",
       "      <td>Scrypt</td>\n",
       "      <td>True</td>\n",
       "      <td>PoW</td>\n",
       "      <td>6.303924e+07</td>\n",
       "      <td>84000000</td>\n",
       "    </tr>\n",
       "  </tbody>\n",
       "</table>\n",
       "</div>"
      ],
      "text/plain": [
       "       CoinName Algorithm  IsTrading ProofType  TotalCoinsMined  \\\n",
       "42      42 Coin    Scrypt       True   PoW/PoS     4.199995e+01   \n",
       "365     365Coin       X11       True   PoW/PoS              NaN   \n",
       "404     404Coin    Scrypt       True   PoW/PoS     1.055185e+09   \n",
       "611   SixEleven   SHA-256       True       PoW              NaN   \n",
       "808         808   SHA-256       True   PoW/PoS     0.000000e+00   \n",
       "1337  EliteCoin       X13       True   PoW/PoS     2.927942e+10   \n",
       "2015  2015 coin       X11       True   PoW/PoS              NaN   \n",
       "BTC     Bitcoin   SHA-256       True       PoW     1.792718e+07   \n",
       "ETH    Ethereum    Ethash       True       PoW     1.076842e+08   \n",
       "LTC    Litecoin    Scrypt       True       PoW     6.303924e+07   \n",
       "\n",
       "     TotalCoinSupply  \n",
       "42                42  \n",
       "365       2300000000  \n",
       "404        532000000  \n",
       "611           611000  \n",
       "808                0  \n",
       "1337    314159265359  \n",
       "2015               0  \n",
       "BTC         21000000  \n",
       "ETH                0  \n",
       "LTC         84000000  "
      ]
     },
     "execution_count": 9,
     "metadata": {},
     "output_type": "execute_result"
    }
   ],
   "source": [
    "# Keep all the cryptocurrencies that are being traded.\n",
    "traded_df = df_crypto[df_crypto.IsTrading == True]\n",
    "traded_df.head(10)"
   ]
  },
  {
   "cell_type": "code",
   "execution_count": 14,
   "metadata": {},
   "outputs": [
    {
     "data": {
      "text/html": [
       "<div>\n",
       "<style scoped>\n",
       "    .dataframe tbody tr th:only-of-type {\n",
       "        vertical-align: middle;\n",
       "    }\n",
       "\n",
       "    .dataframe tbody tr th {\n",
       "        vertical-align: top;\n",
       "    }\n",
       "\n",
       "    .dataframe thead th {\n",
       "        text-align: right;\n",
       "    }\n",
       "</style>\n",
       "<table border=\"1\" class=\"dataframe\">\n",
       "  <thead>\n",
       "    <tr style=\"text-align: right;\">\n",
       "      <th></th>\n",
       "      <th>CoinName</th>\n",
       "      <th>Algorithm</th>\n",
       "      <th>IsTrading</th>\n",
       "      <th>ProofType</th>\n",
       "      <th>TotalCoinsMined</th>\n",
       "      <th>TotalCoinSupply</th>\n",
       "    </tr>\n",
       "  </thead>\n",
       "  <tbody>\n",
       "    <tr>\n",
       "      <th>42</th>\n",
       "      <td>42 Coin</td>\n",
       "      <td>Scrypt</td>\n",
       "      <td>True</td>\n",
       "      <td>PoW/PoS</td>\n",
       "      <td>4.199995e+01</td>\n",
       "      <td>42</td>\n",
       "    </tr>\n",
       "    <tr>\n",
       "      <th>365</th>\n",
       "      <td>365Coin</td>\n",
       "      <td>X11</td>\n",
       "      <td>True</td>\n",
       "      <td>PoW/PoS</td>\n",
       "      <td>NaN</td>\n",
       "      <td>2300000000</td>\n",
       "    </tr>\n",
       "    <tr>\n",
       "      <th>404</th>\n",
       "      <td>404Coin</td>\n",
       "      <td>Scrypt</td>\n",
       "      <td>True</td>\n",
       "      <td>PoW/PoS</td>\n",
       "      <td>1.055185e+09</td>\n",
       "      <td>532000000</td>\n",
       "    </tr>\n",
       "    <tr>\n",
       "      <th>611</th>\n",
       "      <td>SixEleven</td>\n",
       "      <td>SHA-256</td>\n",
       "      <td>True</td>\n",
       "      <td>PoW</td>\n",
       "      <td>NaN</td>\n",
       "      <td>611000</td>\n",
       "    </tr>\n",
       "    <tr>\n",
       "      <th>808</th>\n",
       "      <td>808</td>\n",
       "      <td>SHA-256</td>\n",
       "      <td>True</td>\n",
       "      <td>PoW/PoS</td>\n",
       "      <td>0.000000e+00</td>\n",
       "      <td>0</td>\n",
       "    </tr>\n",
       "    <tr>\n",
       "      <th>1337</th>\n",
       "      <td>EliteCoin</td>\n",
       "      <td>X13</td>\n",
       "      <td>True</td>\n",
       "      <td>PoW/PoS</td>\n",
       "      <td>2.927942e+10</td>\n",
       "      <td>314159265359</td>\n",
       "    </tr>\n",
       "    <tr>\n",
       "      <th>2015</th>\n",
       "      <td>2015 coin</td>\n",
       "      <td>X11</td>\n",
       "      <td>True</td>\n",
       "      <td>PoW/PoS</td>\n",
       "      <td>NaN</td>\n",
       "      <td>0</td>\n",
       "    </tr>\n",
       "    <tr>\n",
       "      <th>BTC</th>\n",
       "      <td>Bitcoin</td>\n",
       "      <td>SHA-256</td>\n",
       "      <td>True</td>\n",
       "      <td>PoW</td>\n",
       "      <td>1.792718e+07</td>\n",
       "      <td>21000000</td>\n",
       "    </tr>\n",
       "    <tr>\n",
       "      <th>ETH</th>\n",
       "      <td>Ethereum</td>\n",
       "      <td>Ethash</td>\n",
       "      <td>True</td>\n",
       "      <td>PoW</td>\n",
       "      <td>1.076842e+08</td>\n",
       "      <td>0</td>\n",
       "    </tr>\n",
       "    <tr>\n",
       "      <th>LTC</th>\n",
       "      <td>Litecoin</td>\n",
       "      <td>Scrypt</td>\n",
       "      <td>True</td>\n",
       "      <td>PoW</td>\n",
       "      <td>6.303924e+07</td>\n",
       "      <td>84000000</td>\n",
       "    </tr>\n",
       "  </tbody>\n",
       "</table>\n",
       "</div>"
      ],
      "text/plain": [
       "       CoinName Algorithm  IsTrading ProofType  TotalCoinsMined  \\\n",
       "42      42 Coin    Scrypt       True   PoW/PoS     4.199995e+01   \n",
       "365     365Coin       X11       True   PoW/PoS              NaN   \n",
       "404     404Coin    Scrypt       True   PoW/PoS     1.055185e+09   \n",
       "611   SixEleven   SHA-256       True       PoW              NaN   \n",
       "808         808   SHA-256       True   PoW/PoS     0.000000e+00   \n",
       "1337  EliteCoin       X13       True   PoW/PoS     2.927942e+10   \n",
       "2015  2015 coin       X11       True   PoW/PoS              NaN   \n",
       "BTC     Bitcoin   SHA-256       True       PoW     1.792718e+07   \n",
       "ETH    Ethereum    Ethash       True       PoW     1.076842e+08   \n",
       "LTC    Litecoin    Scrypt       True       PoW     6.303924e+07   \n",
       "\n",
       "     TotalCoinSupply  \n",
       "42                42  \n",
       "365       2300000000  \n",
       "404        532000000  \n",
       "611           611000  \n",
       "808                0  \n",
       "1337    314159265359  \n",
       "2015               0  \n",
       "BTC         21000000  \n",
       "ETH                0  \n",
       "LTC         84000000  "
      ]
     },
     "execution_count": 14,
     "metadata": {},
     "output_type": "execute_result"
    }
   ],
   "source": [
    "# Keep all the cryptocurrencies that have a working algorithm.\n",
    "working_df = traded_df.dropna(axis=0, subset=[\"Algorithm\"])\n",
    "working_df.head(10)"
   ]
  },
  {
   "cell_type": "code",
   "execution_count": 15,
   "metadata": {},
   "outputs": [
    {
     "data": {
      "text/html": [
       "<div>\n",
       "<style scoped>\n",
       "    .dataframe tbody tr th:only-of-type {\n",
       "        vertical-align: middle;\n",
       "    }\n",
       "\n",
       "    .dataframe tbody tr th {\n",
       "        vertical-align: top;\n",
       "    }\n",
       "\n",
       "    .dataframe thead th {\n",
       "        text-align: right;\n",
       "    }\n",
       "</style>\n",
       "<table border=\"1\" class=\"dataframe\">\n",
       "  <thead>\n",
       "    <tr style=\"text-align: right;\">\n",
       "      <th></th>\n",
       "      <th>CoinName</th>\n",
       "      <th>Algorithm</th>\n",
       "      <th>ProofType</th>\n",
       "      <th>TotalCoinsMined</th>\n",
       "      <th>TotalCoinSupply</th>\n",
       "    </tr>\n",
       "  </thead>\n",
       "  <tbody>\n",
       "    <tr>\n",
       "      <th>42</th>\n",
       "      <td>42 Coin</td>\n",
       "      <td>Scrypt</td>\n",
       "      <td>PoW/PoS</td>\n",
       "      <td>4.199995e+01</td>\n",
       "      <td>42</td>\n",
       "    </tr>\n",
       "    <tr>\n",
       "      <th>365</th>\n",
       "      <td>365Coin</td>\n",
       "      <td>X11</td>\n",
       "      <td>PoW/PoS</td>\n",
       "      <td>NaN</td>\n",
       "      <td>2300000000</td>\n",
       "    </tr>\n",
       "    <tr>\n",
       "      <th>404</th>\n",
       "      <td>404Coin</td>\n",
       "      <td>Scrypt</td>\n",
       "      <td>PoW/PoS</td>\n",
       "      <td>1.055185e+09</td>\n",
       "      <td>532000000</td>\n",
       "    </tr>\n",
       "    <tr>\n",
       "      <th>611</th>\n",
       "      <td>SixEleven</td>\n",
       "      <td>SHA-256</td>\n",
       "      <td>PoW</td>\n",
       "      <td>NaN</td>\n",
       "      <td>611000</td>\n",
       "    </tr>\n",
       "    <tr>\n",
       "      <th>808</th>\n",
       "      <td>808</td>\n",
       "      <td>SHA-256</td>\n",
       "      <td>PoW/PoS</td>\n",
       "      <td>0.000000e+00</td>\n",
       "      <td>0</td>\n",
       "    </tr>\n",
       "    <tr>\n",
       "      <th>1337</th>\n",
       "      <td>EliteCoin</td>\n",
       "      <td>X13</td>\n",
       "      <td>PoW/PoS</td>\n",
       "      <td>2.927942e+10</td>\n",
       "      <td>314159265359</td>\n",
       "    </tr>\n",
       "    <tr>\n",
       "      <th>2015</th>\n",
       "      <td>2015 coin</td>\n",
       "      <td>X11</td>\n",
       "      <td>PoW/PoS</td>\n",
       "      <td>NaN</td>\n",
       "      <td>0</td>\n",
       "    </tr>\n",
       "    <tr>\n",
       "      <th>BTC</th>\n",
       "      <td>Bitcoin</td>\n",
       "      <td>SHA-256</td>\n",
       "      <td>PoW</td>\n",
       "      <td>1.792718e+07</td>\n",
       "      <td>21000000</td>\n",
       "    </tr>\n",
       "    <tr>\n",
       "      <th>ETH</th>\n",
       "      <td>Ethereum</td>\n",
       "      <td>Ethash</td>\n",
       "      <td>PoW</td>\n",
       "      <td>1.076842e+08</td>\n",
       "      <td>0</td>\n",
       "    </tr>\n",
       "    <tr>\n",
       "      <th>LTC</th>\n",
       "      <td>Litecoin</td>\n",
       "      <td>Scrypt</td>\n",
       "      <td>PoW</td>\n",
       "      <td>6.303924e+07</td>\n",
       "      <td>84000000</td>\n",
       "    </tr>\n",
       "  </tbody>\n",
       "</table>\n",
       "</div>"
      ],
      "text/plain": [
       "       CoinName Algorithm ProofType  TotalCoinsMined TotalCoinSupply\n",
       "42      42 Coin    Scrypt   PoW/PoS     4.199995e+01              42\n",
       "365     365Coin       X11   PoW/PoS              NaN      2300000000\n",
       "404     404Coin    Scrypt   PoW/PoS     1.055185e+09       532000000\n",
       "611   SixEleven   SHA-256       PoW              NaN          611000\n",
       "808         808   SHA-256   PoW/PoS     0.000000e+00               0\n",
       "1337  EliteCoin       X13   PoW/PoS     2.927942e+10    314159265359\n",
       "2015  2015 coin       X11   PoW/PoS              NaN               0\n",
       "BTC     Bitcoin   SHA-256       PoW     1.792718e+07        21000000\n",
       "ETH    Ethereum    Ethash       PoW     1.076842e+08               0\n",
       "LTC    Litecoin    Scrypt       PoW     6.303924e+07        84000000"
      ]
     },
     "execution_count": 15,
     "metadata": {},
     "output_type": "execute_result"
    }
   ],
   "source": [
    "# Remove the \"IsTrading\" column. \n",
    "new_crypto = working_df.drop(\"IsTrading\", axis=1)\n",
    "new_crypto.head(10)"
   ]
  },
  {
   "cell_type": "code",
   "execution_count": 16,
   "metadata": {},
   "outputs": [
    {
     "data": {
      "text/html": [
       "<div>\n",
       "<style scoped>\n",
       "    .dataframe tbody tr th:only-of-type {\n",
       "        vertical-align: middle;\n",
       "    }\n",
       "\n",
       "    .dataframe tbody tr th {\n",
       "        vertical-align: top;\n",
       "    }\n",
       "\n",
       "    .dataframe thead th {\n",
       "        text-align: right;\n",
       "    }\n",
       "</style>\n",
       "<table border=\"1\" class=\"dataframe\">\n",
       "  <thead>\n",
       "    <tr style=\"text-align: right;\">\n",
       "      <th></th>\n",
       "      <th>CoinName</th>\n",
       "      <th>Algorithm</th>\n",
       "      <th>ProofType</th>\n",
       "      <th>TotalCoinsMined</th>\n",
       "      <th>TotalCoinSupply</th>\n",
       "    </tr>\n",
       "  </thead>\n",
       "  <tbody>\n",
       "    <tr>\n",
       "      <th>42</th>\n",
       "      <td>42 Coin</td>\n",
       "      <td>Scrypt</td>\n",
       "      <td>PoW/PoS</td>\n",
       "      <td>4.199995e+01</td>\n",
       "      <td>42</td>\n",
       "    </tr>\n",
       "    <tr>\n",
       "      <th>404</th>\n",
       "      <td>404Coin</td>\n",
       "      <td>Scrypt</td>\n",
       "      <td>PoW/PoS</td>\n",
       "      <td>1.055185e+09</td>\n",
       "      <td>532000000</td>\n",
       "    </tr>\n",
       "    <tr>\n",
       "      <th>808</th>\n",
       "      <td>808</td>\n",
       "      <td>SHA-256</td>\n",
       "      <td>PoW/PoS</td>\n",
       "      <td>0.000000e+00</td>\n",
       "      <td>0</td>\n",
       "    </tr>\n",
       "    <tr>\n",
       "      <th>1337</th>\n",
       "      <td>EliteCoin</td>\n",
       "      <td>X13</td>\n",
       "      <td>PoW/PoS</td>\n",
       "      <td>2.927942e+10</td>\n",
       "      <td>314159265359</td>\n",
       "    </tr>\n",
       "    <tr>\n",
       "      <th>BTC</th>\n",
       "      <td>Bitcoin</td>\n",
       "      <td>SHA-256</td>\n",
       "      <td>PoW</td>\n",
       "      <td>1.792718e+07</td>\n",
       "      <td>21000000</td>\n",
       "    </tr>\n",
       "    <tr>\n",
       "      <th>ETH</th>\n",
       "      <td>Ethereum</td>\n",
       "      <td>Ethash</td>\n",
       "      <td>PoW</td>\n",
       "      <td>1.076842e+08</td>\n",
       "      <td>0</td>\n",
       "    </tr>\n",
       "    <tr>\n",
       "      <th>LTC</th>\n",
       "      <td>Litecoin</td>\n",
       "      <td>Scrypt</td>\n",
       "      <td>PoW</td>\n",
       "      <td>6.303924e+07</td>\n",
       "      <td>84000000</td>\n",
       "    </tr>\n",
       "    <tr>\n",
       "      <th>DASH</th>\n",
       "      <td>Dash</td>\n",
       "      <td>X11</td>\n",
       "      <td>PoW/PoS</td>\n",
       "      <td>9.031294e+06</td>\n",
       "      <td>22000000</td>\n",
       "    </tr>\n",
       "    <tr>\n",
       "      <th>XMR</th>\n",
       "      <td>Monero</td>\n",
       "      <td>CryptoNight-V7</td>\n",
       "      <td>PoW</td>\n",
       "      <td>1.720114e+07</td>\n",
       "      <td>0</td>\n",
       "    </tr>\n",
       "    <tr>\n",
       "      <th>ETC</th>\n",
       "      <td>Ethereum Classic</td>\n",
       "      <td>Ethash</td>\n",
       "      <td>PoW</td>\n",
       "      <td>1.133597e+08</td>\n",
       "      <td>210000000</td>\n",
       "    </tr>\n",
       "  </tbody>\n",
       "</table>\n",
       "</div>"
      ],
      "text/plain": [
       "              CoinName       Algorithm ProofType  TotalCoinsMined  \\\n",
       "42             42 Coin          Scrypt   PoW/PoS     4.199995e+01   \n",
       "404            404Coin          Scrypt   PoW/PoS     1.055185e+09   \n",
       "808                808         SHA-256   PoW/PoS     0.000000e+00   \n",
       "1337         EliteCoin             X13   PoW/PoS     2.927942e+10   \n",
       "BTC            Bitcoin         SHA-256       PoW     1.792718e+07   \n",
       "ETH           Ethereum          Ethash       PoW     1.076842e+08   \n",
       "LTC           Litecoin          Scrypt       PoW     6.303924e+07   \n",
       "DASH              Dash             X11   PoW/PoS     9.031294e+06   \n",
       "XMR             Monero  CryptoNight-V7       PoW     1.720114e+07   \n",
       "ETC   Ethereum Classic          Ethash       PoW     1.133597e+08   \n",
       "\n",
       "     TotalCoinSupply  \n",
       "42                42  \n",
       "404        532000000  \n",
       "808                0  \n",
       "1337    314159265359  \n",
       "BTC         21000000  \n",
       "ETH                0  \n",
       "LTC         84000000  \n",
       "DASH        22000000  \n",
       "XMR                0  \n",
       "ETC        210000000  "
      ]
     },
     "execution_count": 16,
     "metadata": {},
     "output_type": "execute_result"
    }
   ],
   "source": [
    "# Remove rows that have at least 1 null value.\n",
    "new_crypto.dropna(inplace=True)\n",
    "new_crypto.head(10)"
   ]
  },
  {
   "cell_type": "code",
   "execution_count": 17,
   "metadata": {},
   "outputs": [
    {
     "data": {
      "text/html": [
       "<div>\n",
       "<style scoped>\n",
       "    .dataframe tbody tr th:only-of-type {\n",
       "        vertical-align: middle;\n",
       "    }\n",
       "\n",
       "    .dataframe tbody tr th {\n",
       "        vertical-align: top;\n",
       "    }\n",
       "\n",
       "    .dataframe thead th {\n",
       "        text-align: right;\n",
       "    }\n",
       "</style>\n",
       "<table border=\"1\" class=\"dataframe\">\n",
       "  <thead>\n",
       "    <tr style=\"text-align: right;\">\n",
       "      <th></th>\n",
       "      <th>CoinName</th>\n",
       "      <th>Algorithm</th>\n",
       "      <th>ProofType</th>\n",
       "      <th>TotalCoinsMined</th>\n",
       "      <th>TotalCoinSupply</th>\n",
       "    </tr>\n",
       "  </thead>\n",
       "  <tbody>\n",
       "    <tr>\n",
       "      <th>42</th>\n",
       "      <td>42 Coin</td>\n",
       "      <td>Scrypt</td>\n",
       "      <td>PoW/PoS</td>\n",
       "      <td>4.199995e+01</td>\n",
       "      <td>42</td>\n",
       "    </tr>\n",
       "    <tr>\n",
       "      <th>404</th>\n",
       "      <td>404Coin</td>\n",
       "      <td>Scrypt</td>\n",
       "      <td>PoW/PoS</td>\n",
       "      <td>1.055185e+09</td>\n",
       "      <td>532000000</td>\n",
       "    </tr>\n",
       "    <tr>\n",
       "      <th>1337</th>\n",
       "      <td>EliteCoin</td>\n",
       "      <td>X13</td>\n",
       "      <td>PoW/PoS</td>\n",
       "      <td>2.927942e+10</td>\n",
       "      <td>314159265359</td>\n",
       "    </tr>\n",
       "    <tr>\n",
       "      <th>BTC</th>\n",
       "      <td>Bitcoin</td>\n",
       "      <td>SHA-256</td>\n",
       "      <td>PoW</td>\n",
       "      <td>1.792718e+07</td>\n",
       "      <td>21000000</td>\n",
       "    </tr>\n",
       "    <tr>\n",
       "      <th>ETH</th>\n",
       "      <td>Ethereum</td>\n",
       "      <td>Ethash</td>\n",
       "      <td>PoW</td>\n",
       "      <td>1.076842e+08</td>\n",
       "      <td>0</td>\n",
       "    </tr>\n",
       "    <tr>\n",
       "      <th>LTC</th>\n",
       "      <td>Litecoin</td>\n",
       "      <td>Scrypt</td>\n",
       "      <td>PoW</td>\n",
       "      <td>6.303924e+07</td>\n",
       "      <td>84000000</td>\n",
       "    </tr>\n",
       "    <tr>\n",
       "      <th>DASH</th>\n",
       "      <td>Dash</td>\n",
       "      <td>X11</td>\n",
       "      <td>PoW/PoS</td>\n",
       "      <td>9.031294e+06</td>\n",
       "      <td>22000000</td>\n",
       "    </tr>\n",
       "    <tr>\n",
       "      <th>XMR</th>\n",
       "      <td>Monero</td>\n",
       "      <td>CryptoNight-V7</td>\n",
       "      <td>PoW</td>\n",
       "      <td>1.720114e+07</td>\n",
       "      <td>0</td>\n",
       "    </tr>\n",
       "    <tr>\n",
       "      <th>ETC</th>\n",
       "      <td>Ethereum Classic</td>\n",
       "      <td>Ethash</td>\n",
       "      <td>PoW</td>\n",
       "      <td>1.133597e+08</td>\n",
       "      <td>210000000</td>\n",
       "    </tr>\n",
       "    <tr>\n",
       "      <th>ZEC</th>\n",
       "      <td>ZCash</td>\n",
       "      <td>Equihash</td>\n",
       "      <td>PoW</td>\n",
       "      <td>7.383056e+06</td>\n",
       "      <td>21000000</td>\n",
       "    </tr>\n",
       "  </tbody>\n",
       "</table>\n",
       "</div>"
      ],
      "text/plain": [
       "              CoinName       Algorithm ProofType  TotalCoinsMined  \\\n",
       "42             42 Coin          Scrypt   PoW/PoS     4.199995e+01   \n",
       "404            404Coin          Scrypt   PoW/PoS     1.055185e+09   \n",
       "1337         EliteCoin             X13   PoW/PoS     2.927942e+10   \n",
       "BTC            Bitcoin         SHA-256       PoW     1.792718e+07   \n",
       "ETH           Ethereum          Ethash       PoW     1.076842e+08   \n",
       "LTC           Litecoin          Scrypt       PoW     6.303924e+07   \n",
       "DASH              Dash             X11   PoW/PoS     9.031294e+06   \n",
       "XMR             Monero  CryptoNight-V7       PoW     1.720114e+07   \n",
       "ETC   Ethereum Classic          Ethash       PoW     1.133597e+08   \n",
       "ZEC              ZCash        Equihash       PoW     7.383056e+06   \n",
       "\n",
       "     TotalCoinSupply  \n",
       "42                42  \n",
       "404        532000000  \n",
       "1337    314159265359  \n",
       "BTC         21000000  \n",
       "ETH                0  \n",
       "LTC         84000000  \n",
       "DASH        22000000  \n",
       "XMR                0  \n",
       "ETC        210000000  \n",
       "ZEC         21000000  "
      ]
     },
     "execution_count": 17,
     "metadata": {},
     "output_type": "execute_result"
    }
   ],
   "source": [
    "# Keep the rows where coins are mined.\n",
    "newer_crypto = new_crypto[new_crypto.TotalCoinsMined > 0]\n",
    "newer_crypto.head(10)"
   ]
  },
  {
   "cell_type": "code",
   "execution_count": 18,
   "metadata": {},
   "outputs": [
    {
     "data": {
      "text/html": [
       "<div>\n",
       "<style scoped>\n",
       "    .dataframe tbody tr th:only-of-type {\n",
       "        vertical-align: middle;\n",
       "    }\n",
       "\n",
       "    .dataframe tbody tr th {\n",
       "        vertical-align: top;\n",
       "    }\n",
       "\n",
       "    .dataframe thead th {\n",
       "        text-align: right;\n",
       "    }\n",
       "</style>\n",
       "<table border=\"1\" class=\"dataframe\">\n",
       "  <thead>\n",
       "    <tr style=\"text-align: right;\">\n",
       "      <th></th>\n",
       "      <th>CoinName</th>\n",
       "    </tr>\n",
       "  </thead>\n",
       "  <tbody>\n",
       "    <tr>\n",
       "      <th>42</th>\n",
       "      <td>42 Coin</td>\n",
       "    </tr>\n",
       "    <tr>\n",
       "      <th>404</th>\n",
       "      <td>404Coin</td>\n",
       "    </tr>\n",
       "    <tr>\n",
       "      <th>1337</th>\n",
       "      <td>EliteCoin</td>\n",
       "    </tr>\n",
       "    <tr>\n",
       "      <th>BTC</th>\n",
       "      <td>Bitcoin</td>\n",
       "    </tr>\n",
       "    <tr>\n",
       "      <th>ETH</th>\n",
       "      <td>Ethereum</td>\n",
       "    </tr>\n",
       "  </tbody>\n",
       "</table>\n",
       "</div>"
      ],
      "text/plain": [
       "       CoinName\n",
       "42      42 Coin\n",
       "404     404Coin\n",
       "1337  EliteCoin\n",
       "BTC     Bitcoin\n",
       "ETH    Ethereum"
      ]
     },
     "execution_count": 18,
     "metadata": {},
     "output_type": "execute_result"
    }
   ],
   "source": [
    "# Create a new DataFrame that holds only the cryptocurrencies names.\n",
    "coin_name_df = pd.DataFrame(newer_crypto[\"CoinName\"])\n",
    "coin_name_df.head()"
   ]
  },
  {
   "cell_type": "code",
   "execution_count": 19,
   "metadata": {},
   "outputs": [
    {
     "data": {
      "text/html": [
       "<div>\n",
       "<style scoped>\n",
       "    .dataframe tbody tr th:only-of-type {\n",
       "        vertical-align: middle;\n",
       "    }\n",
       "\n",
       "    .dataframe tbody tr th {\n",
       "        vertical-align: top;\n",
       "    }\n",
       "\n",
       "    .dataframe thead th {\n",
       "        text-align: right;\n",
       "    }\n",
       "</style>\n",
       "<table border=\"1\" class=\"dataframe\">\n",
       "  <thead>\n",
       "    <tr style=\"text-align: right;\">\n",
       "      <th></th>\n",
       "      <th>Algorithm</th>\n",
       "      <th>ProofType</th>\n",
       "      <th>TotalCoinsMined</th>\n",
       "      <th>TotalCoinSupply</th>\n",
       "    </tr>\n",
       "  </thead>\n",
       "  <tbody>\n",
       "    <tr>\n",
       "      <th>42</th>\n",
       "      <td>Scrypt</td>\n",
       "      <td>PoW/PoS</td>\n",
       "      <td>4.199995e+01</td>\n",
       "      <td>42</td>\n",
       "    </tr>\n",
       "    <tr>\n",
       "      <th>404</th>\n",
       "      <td>Scrypt</td>\n",
       "      <td>PoW/PoS</td>\n",
       "      <td>1.055185e+09</td>\n",
       "      <td>532000000</td>\n",
       "    </tr>\n",
       "    <tr>\n",
       "      <th>1337</th>\n",
       "      <td>X13</td>\n",
       "      <td>PoW/PoS</td>\n",
       "      <td>2.927942e+10</td>\n",
       "      <td>314159265359</td>\n",
       "    </tr>\n",
       "    <tr>\n",
       "      <th>BTC</th>\n",
       "      <td>SHA-256</td>\n",
       "      <td>PoW</td>\n",
       "      <td>1.792718e+07</td>\n",
       "      <td>21000000</td>\n",
       "    </tr>\n",
       "    <tr>\n",
       "      <th>ETH</th>\n",
       "      <td>Ethash</td>\n",
       "      <td>PoW</td>\n",
       "      <td>1.076842e+08</td>\n",
       "      <td>0</td>\n",
       "    </tr>\n",
       "    <tr>\n",
       "      <th>LTC</th>\n",
       "      <td>Scrypt</td>\n",
       "      <td>PoW</td>\n",
       "      <td>6.303924e+07</td>\n",
       "      <td>84000000</td>\n",
       "    </tr>\n",
       "    <tr>\n",
       "      <th>DASH</th>\n",
       "      <td>X11</td>\n",
       "      <td>PoW/PoS</td>\n",
       "      <td>9.031294e+06</td>\n",
       "      <td>22000000</td>\n",
       "    </tr>\n",
       "    <tr>\n",
       "      <th>XMR</th>\n",
       "      <td>CryptoNight-V7</td>\n",
       "      <td>PoW</td>\n",
       "      <td>1.720114e+07</td>\n",
       "      <td>0</td>\n",
       "    </tr>\n",
       "    <tr>\n",
       "      <th>ETC</th>\n",
       "      <td>Ethash</td>\n",
       "      <td>PoW</td>\n",
       "      <td>1.133597e+08</td>\n",
       "      <td>210000000</td>\n",
       "    </tr>\n",
       "    <tr>\n",
       "      <th>ZEC</th>\n",
       "      <td>Equihash</td>\n",
       "      <td>PoW</td>\n",
       "      <td>7.383056e+06</td>\n",
       "      <td>21000000</td>\n",
       "    </tr>\n",
       "  </tbody>\n",
       "</table>\n",
       "</div>"
      ],
      "text/plain": [
       "           Algorithm ProofType  TotalCoinsMined TotalCoinSupply\n",
       "42            Scrypt   PoW/PoS     4.199995e+01              42\n",
       "404           Scrypt   PoW/PoS     1.055185e+09       532000000\n",
       "1337             X13   PoW/PoS     2.927942e+10    314159265359\n",
       "BTC          SHA-256       PoW     1.792718e+07        21000000\n",
       "ETH           Ethash       PoW     1.076842e+08               0\n",
       "LTC           Scrypt       PoW     6.303924e+07        84000000\n",
       "DASH             X11   PoW/PoS     9.031294e+06        22000000\n",
       "XMR   CryptoNight-V7       PoW     1.720114e+07               0\n",
       "ETC           Ethash       PoW     1.133597e+08       210000000\n",
       "ZEC         Equihash       PoW     7.383056e+06        21000000"
      ]
     },
     "execution_count": 19,
     "metadata": {},
     "output_type": "execute_result"
    }
   ],
   "source": [
    "# Drop the 'CoinName' column since it's not going to be used on the clustering algorithm.\n",
    "crypto_df = newer_crypto.drop([\"CoinName\"], axis=1)\n",
    "crypto_df.head(10)"
   ]
  },
  {
   "cell_type": "code",
   "execution_count": 20,
   "metadata": {},
   "outputs": [
    {
     "data": {
      "text/html": [
       "<div>\n",
       "<style scoped>\n",
       "    .dataframe tbody tr th:only-of-type {\n",
       "        vertical-align: middle;\n",
       "    }\n",
       "\n",
       "    .dataframe tbody tr th {\n",
       "        vertical-align: top;\n",
       "    }\n",
       "\n",
       "    .dataframe thead th {\n",
       "        text-align: right;\n",
       "    }\n",
       "</style>\n",
       "<table border=\"1\" class=\"dataframe\">\n",
       "  <thead>\n",
       "    <tr style=\"text-align: right;\">\n",
       "      <th></th>\n",
       "      <th>TotalCoinsMined</th>\n",
       "      <th>TotalCoinSupply</th>\n",
       "      <th>Algorithm_1GB AES Pattern Search</th>\n",
       "      <th>Algorithm_536</th>\n",
       "      <th>Algorithm_Argon2d</th>\n",
       "      <th>Algorithm_BLAKE256</th>\n",
       "      <th>Algorithm_Blake</th>\n",
       "      <th>Algorithm_Blake2S</th>\n",
       "      <th>Algorithm_Blake2b</th>\n",
       "      <th>Algorithm_C11</th>\n",
       "      <th>...</th>\n",
       "      <th>ProofType_PoW/PoS</th>\n",
       "      <th>ProofType_PoW/PoS</th>\n",
       "      <th>ProofType_PoW/PoW</th>\n",
       "      <th>ProofType_PoW/nPoS</th>\n",
       "      <th>ProofType_Pos</th>\n",
       "      <th>ProofType_Proof of Authority</th>\n",
       "      <th>ProofType_Proof of Trust</th>\n",
       "      <th>ProofType_TPoS</th>\n",
       "      <th>ProofType_Zero-Knowledge Proof</th>\n",
       "      <th>ProofType_dPoW/PoW</th>\n",
       "    </tr>\n",
       "  </thead>\n",
       "  <tbody>\n",
       "    <tr>\n",
       "      <th>42</th>\n",
       "      <td>4.199995e+01</td>\n",
       "      <td>42</td>\n",
       "      <td>0</td>\n",
       "      <td>0</td>\n",
       "      <td>0</td>\n",
       "      <td>0</td>\n",
       "      <td>0</td>\n",
       "      <td>0</td>\n",
       "      <td>0</td>\n",
       "      <td>0</td>\n",
       "      <td>...</td>\n",
       "      <td>1</td>\n",
       "      <td>0</td>\n",
       "      <td>0</td>\n",
       "      <td>0</td>\n",
       "      <td>0</td>\n",
       "      <td>0</td>\n",
       "      <td>0</td>\n",
       "      <td>0</td>\n",
       "      <td>0</td>\n",
       "      <td>0</td>\n",
       "    </tr>\n",
       "    <tr>\n",
       "      <th>404</th>\n",
       "      <td>1.055185e+09</td>\n",
       "      <td>532000000</td>\n",
       "      <td>0</td>\n",
       "      <td>0</td>\n",
       "      <td>0</td>\n",
       "      <td>0</td>\n",
       "      <td>0</td>\n",
       "      <td>0</td>\n",
       "      <td>0</td>\n",
       "      <td>0</td>\n",
       "      <td>...</td>\n",
       "      <td>1</td>\n",
       "      <td>0</td>\n",
       "      <td>0</td>\n",
       "      <td>0</td>\n",
       "      <td>0</td>\n",
       "      <td>0</td>\n",
       "      <td>0</td>\n",
       "      <td>0</td>\n",
       "      <td>0</td>\n",
       "      <td>0</td>\n",
       "    </tr>\n",
       "    <tr>\n",
       "      <th>1337</th>\n",
       "      <td>2.927942e+10</td>\n",
       "      <td>314159265359</td>\n",
       "      <td>0</td>\n",
       "      <td>0</td>\n",
       "      <td>0</td>\n",
       "      <td>0</td>\n",
       "      <td>0</td>\n",
       "      <td>0</td>\n",
       "      <td>0</td>\n",
       "      <td>0</td>\n",
       "      <td>...</td>\n",
       "      <td>1</td>\n",
       "      <td>0</td>\n",
       "      <td>0</td>\n",
       "      <td>0</td>\n",
       "      <td>0</td>\n",
       "      <td>0</td>\n",
       "      <td>0</td>\n",
       "      <td>0</td>\n",
       "      <td>0</td>\n",
       "      <td>0</td>\n",
       "    </tr>\n",
       "    <tr>\n",
       "      <th>BTC</th>\n",
       "      <td>1.792718e+07</td>\n",
       "      <td>21000000</td>\n",
       "      <td>0</td>\n",
       "      <td>0</td>\n",
       "      <td>0</td>\n",
       "      <td>0</td>\n",
       "      <td>0</td>\n",
       "      <td>0</td>\n",
       "      <td>0</td>\n",
       "      <td>0</td>\n",
       "      <td>...</td>\n",
       "      <td>0</td>\n",
       "      <td>0</td>\n",
       "      <td>0</td>\n",
       "      <td>0</td>\n",
       "      <td>0</td>\n",
       "      <td>0</td>\n",
       "      <td>0</td>\n",
       "      <td>0</td>\n",
       "      <td>0</td>\n",
       "      <td>0</td>\n",
       "    </tr>\n",
       "    <tr>\n",
       "      <th>ETH</th>\n",
       "      <td>1.076842e+08</td>\n",
       "      <td>0</td>\n",
       "      <td>0</td>\n",
       "      <td>0</td>\n",
       "      <td>0</td>\n",
       "      <td>0</td>\n",
       "      <td>0</td>\n",
       "      <td>0</td>\n",
       "      <td>0</td>\n",
       "      <td>0</td>\n",
       "      <td>...</td>\n",
       "      <td>0</td>\n",
       "      <td>0</td>\n",
       "      <td>0</td>\n",
       "      <td>0</td>\n",
       "      <td>0</td>\n",
       "      <td>0</td>\n",
       "      <td>0</td>\n",
       "      <td>0</td>\n",
       "      <td>0</td>\n",
       "      <td>0</td>\n",
       "    </tr>\n",
       "    <tr>\n",
       "      <th>LTC</th>\n",
       "      <td>6.303924e+07</td>\n",
       "      <td>84000000</td>\n",
       "      <td>0</td>\n",
       "      <td>0</td>\n",
       "      <td>0</td>\n",
       "      <td>0</td>\n",
       "      <td>0</td>\n",
       "      <td>0</td>\n",
       "      <td>0</td>\n",
       "      <td>0</td>\n",
       "      <td>...</td>\n",
       "      <td>0</td>\n",
       "      <td>0</td>\n",
       "      <td>0</td>\n",
       "      <td>0</td>\n",
       "      <td>0</td>\n",
       "      <td>0</td>\n",
       "      <td>0</td>\n",
       "      <td>0</td>\n",
       "      <td>0</td>\n",
       "      <td>0</td>\n",
       "    </tr>\n",
       "    <tr>\n",
       "      <th>DASH</th>\n",
       "      <td>9.031294e+06</td>\n",
       "      <td>22000000</td>\n",
       "      <td>0</td>\n",
       "      <td>0</td>\n",
       "      <td>0</td>\n",
       "      <td>0</td>\n",
       "      <td>0</td>\n",
       "      <td>0</td>\n",
       "      <td>0</td>\n",
       "      <td>0</td>\n",
       "      <td>...</td>\n",
       "      <td>1</td>\n",
       "      <td>0</td>\n",
       "      <td>0</td>\n",
       "      <td>0</td>\n",
       "      <td>0</td>\n",
       "      <td>0</td>\n",
       "      <td>0</td>\n",
       "      <td>0</td>\n",
       "      <td>0</td>\n",
       "      <td>0</td>\n",
       "    </tr>\n",
       "    <tr>\n",
       "      <th>XMR</th>\n",
       "      <td>1.720114e+07</td>\n",
       "      <td>0</td>\n",
       "      <td>0</td>\n",
       "      <td>0</td>\n",
       "      <td>0</td>\n",
       "      <td>0</td>\n",
       "      <td>0</td>\n",
       "      <td>0</td>\n",
       "      <td>0</td>\n",
       "      <td>0</td>\n",
       "      <td>...</td>\n",
       "      <td>0</td>\n",
       "      <td>0</td>\n",
       "      <td>0</td>\n",
       "      <td>0</td>\n",
       "      <td>0</td>\n",
       "      <td>0</td>\n",
       "      <td>0</td>\n",
       "      <td>0</td>\n",
       "      <td>0</td>\n",
       "      <td>0</td>\n",
       "    </tr>\n",
       "    <tr>\n",
       "      <th>ETC</th>\n",
       "      <td>1.133597e+08</td>\n",
       "      <td>210000000</td>\n",
       "      <td>0</td>\n",
       "      <td>0</td>\n",
       "      <td>0</td>\n",
       "      <td>0</td>\n",
       "      <td>0</td>\n",
       "      <td>0</td>\n",
       "      <td>0</td>\n",
       "      <td>0</td>\n",
       "      <td>...</td>\n",
       "      <td>0</td>\n",
       "      <td>0</td>\n",
       "      <td>0</td>\n",
       "      <td>0</td>\n",
       "      <td>0</td>\n",
       "      <td>0</td>\n",
       "      <td>0</td>\n",
       "      <td>0</td>\n",
       "      <td>0</td>\n",
       "      <td>0</td>\n",
       "    </tr>\n",
       "    <tr>\n",
       "      <th>ZEC</th>\n",
       "      <td>7.383056e+06</td>\n",
       "      <td>21000000</td>\n",
       "      <td>0</td>\n",
       "      <td>0</td>\n",
       "      <td>0</td>\n",
       "      <td>0</td>\n",
       "      <td>0</td>\n",
       "      <td>0</td>\n",
       "      <td>0</td>\n",
       "      <td>0</td>\n",
       "      <td>...</td>\n",
       "      <td>0</td>\n",
       "      <td>0</td>\n",
       "      <td>0</td>\n",
       "      <td>0</td>\n",
       "      <td>0</td>\n",
       "      <td>0</td>\n",
       "      <td>0</td>\n",
       "      <td>0</td>\n",
       "      <td>0</td>\n",
       "      <td>0</td>\n",
       "    </tr>\n",
       "  </tbody>\n",
       "</table>\n",
       "<p>10 rows × 98 columns</p>\n",
       "</div>"
      ],
      "text/plain": [
       "      TotalCoinsMined TotalCoinSupply  Algorithm_1GB AES Pattern Search  \\\n",
       "42       4.199995e+01              42                                 0   \n",
       "404      1.055185e+09       532000000                                 0   \n",
       "1337     2.927942e+10    314159265359                                 0   \n",
       "BTC      1.792718e+07        21000000                                 0   \n",
       "ETH      1.076842e+08               0                                 0   \n",
       "LTC      6.303924e+07        84000000                                 0   \n",
       "DASH     9.031294e+06        22000000                                 0   \n",
       "XMR      1.720114e+07               0                                 0   \n",
       "ETC      1.133597e+08       210000000                                 0   \n",
       "ZEC      7.383056e+06        21000000                                 0   \n",
       "\n",
       "      Algorithm_536  Algorithm_Argon2d  Algorithm_BLAKE256  Algorithm_Blake  \\\n",
       "42                0                  0                   0                0   \n",
       "404               0                  0                   0                0   \n",
       "1337              0                  0                   0                0   \n",
       "BTC               0                  0                   0                0   \n",
       "ETH               0                  0                   0                0   \n",
       "LTC               0                  0                   0                0   \n",
       "DASH              0                  0                   0                0   \n",
       "XMR               0                  0                   0                0   \n",
       "ETC               0                  0                   0                0   \n",
       "ZEC               0                  0                   0                0   \n",
       "\n",
       "      Algorithm_Blake2S  Algorithm_Blake2b  Algorithm_C11  ...  \\\n",
       "42                    0                  0              0  ...   \n",
       "404                   0                  0              0  ...   \n",
       "1337                  0                  0              0  ...   \n",
       "BTC                   0                  0              0  ...   \n",
       "ETH                   0                  0              0  ...   \n",
       "LTC                   0                  0              0  ...   \n",
       "DASH                  0                  0              0  ...   \n",
       "XMR                   0                  0              0  ...   \n",
       "ETC                   0                  0              0  ...   \n",
       "ZEC                   0                  0              0  ...   \n",
       "\n",
       "      ProofType_PoW/PoS  ProofType_PoW/PoS   ProofType_PoW/PoW  \\\n",
       "42                    1                   0                  0   \n",
       "404                   1                   0                  0   \n",
       "1337                  1                   0                  0   \n",
       "BTC                   0                   0                  0   \n",
       "ETH                   0                   0                  0   \n",
       "LTC                   0                   0                  0   \n",
       "DASH                  1                   0                  0   \n",
       "XMR                   0                   0                  0   \n",
       "ETC                   0                   0                  0   \n",
       "ZEC                   0                   0                  0   \n",
       "\n",
       "      ProofType_PoW/nPoS  ProofType_Pos  ProofType_Proof of Authority  \\\n",
       "42                     0              0                             0   \n",
       "404                    0              0                             0   \n",
       "1337                   0              0                             0   \n",
       "BTC                    0              0                             0   \n",
       "ETH                    0              0                             0   \n",
       "LTC                    0              0                             0   \n",
       "DASH                   0              0                             0   \n",
       "XMR                    0              0                             0   \n",
       "ETC                    0              0                             0   \n",
       "ZEC                    0              0                             0   \n",
       "\n",
       "      ProofType_Proof of Trust  ProofType_TPoS  \\\n",
       "42                           0               0   \n",
       "404                          0               0   \n",
       "1337                         0               0   \n",
       "BTC                          0               0   \n",
       "ETH                          0               0   \n",
       "LTC                          0               0   \n",
       "DASH                         0               0   \n",
       "XMR                          0               0   \n",
       "ETC                          0               0   \n",
       "ZEC                          0               0   \n",
       "\n",
       "      ProofType_Zero-Knowledge Proof  ProofType_dPoW/PoW  \n",
       "42                                 0                   0  \n",
       "404                                0                   0  \n",
       "1337                               0                   0  \n",
       "BTC                                0                   0  \n",
       "ETH                                0                   0  \n",
       "LTC                                0                   0  \n",
       "DASH                               0                   0  \n",
       "XMR                                0                   0  \n",
       "ETC                                0                   0  \n",
       "ZEC                                0                   0  \n",
       "\n",
       "[10 rows x 98 columns]"
      ]
     },
     "execution_count": 20,
     "metadata": {},
     "output_type": "execute_result"
    }
   ],
   "source": [
    "# Use get_dummies() to create variables for text features.\n",
    "X = pd.get_dummies(crypto_df, columns=[\"Algorithm\", \"ProofType\"])\n",
    "X.head(10)"
   ]
  },
  {
   "cell_type": "code",
   "execution_count": 21,
   "metadata": {},
   "outputs": [
    {
     "name": "stdout",
     "output_type": "stream",
     "text": [
      "[[-0.11710817 -0.1528703  -0.0433963  -0.0433963  -0.0433963  -0.06142951\n",
      "  -0.07530656 -0.0433963  -0.06142951 -0.06142951 -0.0433963  -0.0433963\n",
      "  -0.19245009 -0.06142951 -0.09740465 -0.0433963  -0.11547005 -0.07530656\n",
      "  -0.0433963  -0.0433963  -0.15191091 -0.0433963  -0.13118084 -0.0433963\n",
      "  -0.0433963  -0.08703883 -0.0433963  -0.0433963  -0.0433963  -0.0433963\n",
      "  -0.06142951 -0.0433963  -0.08703883 -0.08703883 -0.08703883 -0.0433963\n",
      "  -0.13118084 -0.13840913 -0.13840913 -0.0433963  -0.06142951 -0.0433963\n",
      "  -0.07530656 -0.18168574 -0.0433963  -0.0433963  -0.0433963  -0.07530656\n",
      "  -0.15826614 -0.31491833 -0.0433963  -0.08703883 -0.07530656 -0.06142951\n",
      "   1.38675049 -0.0433963  -0.0433963  -0.06142951 -0.0433963  -0.0433963\n",
      "  -0.0433963  -0.0433963  -0.0433963  -0.0433963  -0.0433963  -0.0433963\n",
      "  -0.39879994 -0.0433963  -0.18168574 -0.0433963  -0.08703883 -0.08703883\n",
      "  -0.10680283 -0.0433963  -0.13118084 -0.0433963  -0.0433963  -0.0433963\n",
      "  -0.0433963  -0.07530656 -0.43911856 -0.0433963  -0.06142951 -0.0433963\n",
      "  -0.0433963  -0.89632016 -0.0433963  -0.0433963   1.42222617 -0.0433963\n",
      "  -0.0433963  -0.0433963  -0.0433963  -0.0433963  -0.0433963  -0.0433963\n",
      "  -0.0433963  -0.0433963 ]\n",
      " [-0.09396955 -0.145009   -0.0433963  -0.0433963  -0.0433963  -0.06142951\n",
      "  -0.07530656 -0.0433963  -0.06142951 -0.06142951 -0.0433963  -0.0433963\n",
      "  -0.19245009 -0.06142951 -0.09740465 -0.0433963  -0.11547005 -0.07530656\n",
      "  -0.0433963  -0.0433963  -0.15191091 -0.0433963  -0.13118084 -0.0433963\n",
      "  -0.0433963  -0.08703883 -0.0433963  -0.0433963  -0.0433963  -0.0433963\n",
      "  -0.06142951 -0.0433963  -0.08703883 -0.08703883 -0.08703883 -0.0433963\n",
      "  -0.13118084 -0.13840913 -0.13840913 -0.0433963  -0.06142951 -0.0433963\n",
      "  -0.07530656 -0.18168574 -0.0433963  -0.0433963  -0.0433963  -0.07530656\n",
      "  -0.15826614 -0.31491833 -0.0433963  -0.08703883 -0.07530656 -0.06142951\n",
      "   1.38675049 -0.0433963  -0.0433963  -0.06142951 -0.0433963  -0.0433963\n",
      "  -0.0433963  -0.0433963  -0.0433963  -0.0433963  -0.0433963  -0.0433963\n",
      "  -0.39879994 -0.0433963  -0.18168574 -0.0433963  -0.08703883 -0.08703883\n",
      "  -0.10680283 -0.0433963  -0.13118084 -0.0433963  -0.0433963  -0.0433963\n",
      "  -0.0433963  -0.07530656 -0.43911856 -0.0433963  -0.06142951 -0.0433963\n",
      "  -0.0433963  -0.89632016 -0.0433963  -0.0433963   1.42222617 -0.0433963\n",
      "  -0.0433963  -0.0433963  -0.0433963  -0.0433963  -0.0433963  -0.0433963\n",
      "  -0.0433963  -0.0433963 ]\n",
      " [ 0.52494561  4.48942416 -0.0433963  -0.0433963  -0.0433963  -0.06142951\n",
      "  -0.07530656 -0.0433963  -0.06142951 -0.06142951 -0.0433963  -0.0433963\n",
      "  -0.19245009 -0.06142951 -0.09740465 -0.0433963  -0.11547005 -0.07530656\n",
      "  -0.0433963  -0.0433963  -0.15191091 -0.0433963  -0.13118084 -0.0433963\n",
      "  -0.0433963  -0.08703883 -0.0433963  -0.0433963  -0.0433963  -0.0433963\n",
      "  -0.06142951 -0.0433963  -0.08703883 -0.08703883 -0.08703883 -0.0433963\n",
      "  -0.13118084 -0.13840913 -0.13840913 -0.0433963  -0.06142951 -0.0433963\n",
      "  -0.07530656 -0.18168574 -0.0433963  -0.0433963  -0.0433963  -0.07530656\n",
      "  -0.15826614 -0.31491833 -0.0433963  -0.08703883 -0.07530656 -0.06142951\n",
      "  -0.72111026 -0.0433963  -0.0433963  -0.06142951 -0.0433963  -0.0433963\n",
      "  -0.0433963  -0.0433963  -0.0433963  -0.0433963  -0.0433963  -0.0433963\n",
      "  -0.39879994 -0.0433963   5.50400923 -0.0433963  -0.08703883 -0.08703883\n",
      "  -0.10680283 -0.0433963  -0.13118084 -0.0433963  -0.0433963  -0.0433963\n",
      "  -0.0433963  -0.07530656 -0.43911856 -0.0433963  -0.06142951 -0.0433963\n",
      "  -0.0433963  -0.89632016 -0.0433963  -0.0433963   1.42222617 -0.0433963\n",
      "  -0.0433963  -0.0433963  -0.0433963  -0.0433963  -0.0433963  -0.0433963\n",
      "  -0.0433963  -0.0433963 ]\n",
      " [-0.11671506 -0.15255998 -0.0433963  -0.0433963  -0.0433963  -0.06142951\n",
      "  -0.07530656 -0.0433963  -0.06142951 -0.06142951 -0.0433963  -0.0433963\n",
      "  -0.19245009 -0.06142951 -0.09740465 -0.0433963  -0.11547005 -0.07530656\n",
      "  -0.0433963  -0.0433963  -0.15191091 -0.0433963  -0.13118084 -0.0433963\n",
      "  -0.0433963  -0.08703883 -0.0433963  -0.0433963  -0.0433963  -0.0433963\n",
      "  -0.06142951 -0.0433963  -0.08703883 -0.08703883 -0.08703883 -0.0433963\n",
      "  -0.13118084 -0.13840913 -0.13840913 -0.0433963  -0.06142951 -0.0433963\n",
      "  -0.07530656 -0.18168574 -0.0433963  -0.0433963  -0.0433963  -0.07530656\n",
      "  -0.15826614  3.17542648 -0.0433963  -0.08703883 -0.07530656 -0.06142951\n",
      "  -0.72111026 -0.0433963  -0.0433963  -0.06142951 -0.0433963  -0.0433963\n",
      "  -0.0433963  -0.0433963  -0.0433963  -0.0433963  -0.0433963  -0.0433963\n",
      "  -0.39879994 -0.0433963  -0.18168574 -0.0433963  -0.08703883 -0.08703883\n",
      "  -0.10680283 -0.0433963  -0.13118084 -0.0433963  -0.0433963  -0.0433963\n",
      "  -0.0433963  -0.07530656 -0.43911856 -0.0433963  -0.06142951 -0.0433963\n",
      "  -0.0433963   1.11567277 -0.0433963  -0.0433963  -0.70312305 -0.0433963\n",
      "  -0.0433963  -0.0433963  -0.0433963  -0.0433963  -0.0433963  -0.0433963\n",
      "  -0.0433963  -0.0433963 ]\n",
      " [-0.11474682 -0.1528703  -0.0433963  -0.0433963  -0.0433963  -0.06142951\n",
      "  -0.07530656 -0.0433963  -0.06142951 -0.06142951 -0.0433963  -0.0433963\n",
      "  -0.19245009 -0.06142951 -0.09740465 -0.0433963  -0.11547005 -0.07530656\n",
      "  -0.0433963  -0.0433963  -0.15191091 -0.0433963   7.62306442 -0.0433963\n",
      "  -0.0433963  -0.08703883 -0.0433963  -0.0433963  -0.0433963  -0.0433963\n",
      "  -0.06142951 -0.0433963  -0.08703883 -0.08703883 -0.08703883 -0.0433963\n",
      "  -0.13118084 -0.13840913 -0.13840913 -0.0433963  -0.06142951 -0.0433963\n",
      "  -0.07530656 -0.18168574 -0.0433963  -0.0433963  -0.0433963  -0.07530656\n",
      "  -0.15826614 -0.31491833 -0.0433963  -0.08703883 -0.07530656 -0.06142951\n",
      "  -0.72111026 -0.0433963  -0.0433963  -0.06142951 -0.0433963  -0.0433963\n",
      "  -0.0433963  -0.0433963  -0.0433963  -0.0433963  -0.0433963  -0.0433963\n",
      "  -0.39879994 -0.0433963  -0.18168574 -0.0433963  -0.08703883 -0.08703883\n",
      "  -0.10680283 -0.0433963  -0.13118084 -0.0433963  -0.0433963  -0.0433963\n",
      "  -0.0433963  -0.07530656 -0.43911856 -0.0433963  -0.06142951 -0.0433963\n",
      "  -0.0433963   1.11567277 -0.0433963  -0.0433963  -0.70312305 -0.0433963\n",
      "  -0.0433963  -0.0433963  -0.0433963  -0.0433963  -0.0433963  -0.0433963\n",
      "  -0.0433963  -0.0433963 ]]\n"
     ]
    }
   ],
   "source": [
    "# Standardize the data with StandardScaler().\n",
    "X_scaled = StandardScaler().fit_transform(X)\n",
    "print(X_scaled[0:5])"
   ]
  },
  {
   "cell_type": "markdown",
   "metadata": {},
   "source": [
    "### Deliverable 2: Reducing Data Dimensions Using PCA"
   ]
  },
  {
   "cell_type": "code",
   "execution_count": 22,
   "metadata": {},
   "outputs": [
    {
     "data": {
      "text/plain": [
       "array([[-0.32716051,  0.97568064, -0.50300381],\n",
       "       [-0.31048276,  0.97568132, -0.50331615],\n",
       "       [ 2.3073399 ,  1.61300024, -0.5969578 ],\n",
       "       ...,\n",
       "       [ 0.32551604, -2.29154468,  0.3977362 ],\n",
       "       [-0.15888877, -1.98248976,  0.28964422],\n",
       "       [-0.28074807,  0.82871782, -0.24789521]])"
      ]
     },
     "execution_count": 22,
     "metadata": {},
     "output_type": "execute_result"
    }
   ],
   "source": [
    "# Using PCA to reduce dimension to three principal components.\n",
    "pca = PCA(n_components=3)\n",
    "X_pca = pca.fit_transform(X_scaled)\n",
    "X_pca"
   ]
  },
  {
   "cell_type": "code",
   "execution_count": 23,
   "metadata": {},
   "outputs": [
    {
     "data": {
      "text/html": [
       "<div>\n",
       "<style scoped>\n",
       "    .dataframe tbody tr th:only-of-type {\n",
       "        vertical-align: middle;\n",
       "    }\n",
       "\n",
       "    .dataframe tbody tr th {\n",
       "        vertical-align: top;\n",
       "    }\n",
       "\n",
       "    .dataframe thead th {\n",
       "        text-align: right;\n",
       "    }\n",
       "</style>\n",
       "<table border=\"1\" class=\"dataframe\">\n",
       "  <thead>\n",
       "    <tr style=\"text-align: right;\">\n",
       "      <th></th>\n",
       "      <th>PC 1</th>\n",
       "      <th>PC 2</th>\n",
       "      <th>PC 3</th>\n",
       "    </tr>\n",
       "  </thead>\n",
       "  <tbody>\n",
       "    <tr>\n",
       "      <th>42</th>\n",
       "      <td>-0.327161</td>\n",
       "      <td>0.975681</td>\n",
       "      <td>-0.503004</td>\n",
       "    </tr>\n",
       "    <tr>\n",
       "      <th>404</th>\n",
       "      <td>-0.310483</td>\n",
       "      <td>0.975681</td>\n",
       "      <td>-0.503316</td>\n",
       "    </tr>\n",
       "    <tr>\n",
       "      <th>1337</th>\n",
       "      <td>2.307340</td>\n",
       "      <td>1.613000</td>\n",
       "      <td>-0.596958</td>\n",
       "    </tr>\n",
       "    <tr>\n",
       "      <th>BTC</th>\n",
       "      <td>-0.153519</td>\n",
       "      <td>-1.290651</td>\n",
       "      <td>0.174046</td>\n",
       "    </tr>\n",
       "    <tr>\n",
       "      <th>ETH</th>\n",
       "      <td>-0.157078</td>\n",
       "      <td>-2.020472</td>\n",
       "      <td>0.357423</td>\n",
       "    </tr>\n",
       "    <tr>\n",
       "      <th>LTC</th>\n",
       "      <td>-0.158306</td>\n",
       "      <td>-1.148971</td>\n",
       "      <td>0.016349</td>\n",
       "    </tr>\n",
       "    <tr>\n",
       "      <th>DASH</th>\n",
       "      <td>-0.403950</td>\n",
       "      <td>1.217871</td>\n",
       "      <td>-0.443210</td>\n",
       "    </tr>\n",
       "    <tr>\n",
       "      <th>XMR</th>\n",
       "      <td>-0.150733</td>\n",
       "      <td>-2.229827</td>\n",
       "      <td>0.395196</td>\n",
       "    </tr>\n",
       "    <tr>\n",
       "      <th>ETC</th>\n",
       "      <td>-0.155519</td>\n",
       "      <td>-2.020588</td>\n",
       "      <td>0.357414</td>\n",
       "    </tr>\n",
       "    <tr>\n",
       "      <th>ZEC</th>\n",
       "      <td>-0.158888</td>\n",
       "      <td>-1.982490</td>\n",
       "      <td>0.289644</td>\n",
       "    </tr>\n",
       "  </tbody>\n",
       "</table>\n",
       "</div>"
      ],
      "text/plain": [
       "          PC 1      PC 2      PC 3\n",
       "42   -0.327161  0.975681 -0.503004\n",
       "404  -0.310483  0.975681 -0.503316\n",
       "1337  2.307340  1.613000 -0.596958\n",
       "BTC  -0.153519 -1.290651  0.174046\n",
       "ETH  -0.157078 -2.020472  0.357423\n",
       "LTC  -0.158306 -1.148971  0.016349\n",
       "DASH -0.403950  1.217871 -0.443210\n",
       "XMR  -0.150733 -2.229827  0.395196\n",
       "ETC  -0.155519 -2.020588  0.357414\n",
       "ZEC  -0.158888 -1.982490  0.289644"
      ]
     },
     "execution_count": 23,
     "metadata": {},
     "output_type": "execute_result"
    }
   ],
   "source": [
    "# Create a DataFrame with the three principal components.\n",
    "pcs_df = pd.DataFrame(\n",
    "    data=X_pca,\n",
    "    columns=['PC 1', 'PC 2', 'PC 3'],\n",
    "    index=X.index\n",
    ")\n",
    "pcs_df.head(10)"
   ]
  },
  {
   "cell_type": "markdown",
   "metadata": {},
   "source": [
    "### Deliverable 3: Clustering Crytocurrencies Using K-Means\n",
    "\n",
    "#### Finding the Best Value for `k` Using the Elbow Curve"
   ]
  },
  {
   "cell_type": "code",
   "execution_count": 24,
   "metadata": {},
   "outputs": [
    {
     "name": "stderr",
     "output_type": "stream",
     "text": [
      "C:\\Users\\Jesus\\anaconda3\\envs\\mlenv\\lib\\site-packages\\sklearn\\cluster\\_kmeans.py:881: UserWarning: KMeans is known to have a memory leak on Windows with MKL, when there are less chunks than available threads. You can avoid it by setting the environment variable OMP_NUM_THREADS=3.\n",
      "  warnings.warn(\n"
     ]
    },
    {
     "data": {},
     "metadata": {},
     "output_type": "display_data"
    },
    {
     "data": {
      "application/vnd.holoviews_exec.v0+json": "",
      "text/html": [
       "<div id='1002'>\n",
       "\n",
       "\n",
       "\n",
       "\n",
       "\n",
       "  <div class=\"bk-root\" id=\"b407f9b8-9b6e-43fd-91b6-c198832f1807\" data-root-id=\"1002\"></div>\n",
       "</div>\n",
       "<script type=\"application/javascript\">(function(root) {\n",
       "  function embed_document(root) {\n",
       "    var docs_json = {\"4bd3c1cb-066b-4e86-82ce-c938a8976e3e\":{\"defs\":[],\"roots\":{\"references\":[{\"attributes\":{\"axis_label\":\"inertia\",\"formatter\":{\"id\":\"1052\"},\"major_label_policy\":{\"id\":\"1054\"},\"ticker\":{\"id\":\"1021\"}},\"id\":\"1020\",\"type\":\"LinearAxis\"},{\"attributes\":{\"data_source\":{\"id\":\"1037\"},\"glyph\":{\"id\":\"1040\"},\"hover_glyph\":null,\"muted_glyph\":{\"id\":\"1042\"},\"nonselection_glyph\":{\"id\":\"1041\"},\"selection_glyph\":{\"id\":\"1045\"},\"view\":{\"id\":\"1044\"}},\"id\":\"1043\",\"type\":\"GlyphRenderer\"},{\"attributes\":{\"data\":{\"inertia\":{\"__ndarray__\":\"JYjZjuJvrEBe2ChsrFKjQAjV7vK7MZdAgiHQSpQRhEAY+DTn6q96QP48H0KqTXBAxJXrScxPaUAcSJ7RjlVjQOJj69dl4V1ATazioYp3V0A=\",\"dtype\":\"float64\",\"order\":\"little\",\"shape\":[10]},\"k\":[1,2,3,4,5,6,7,8,9,10]},\"selected\":{\"id\":\"1038\"},\"selection_policy\":{\"id\":\"1062\"}},\"id\":\"1037\",\"type\":\"ColumnDataSource\"},{\"attributes\":{},\"id\":\"1049\",\"type\":\"AllLabels\"},{\"attributes\":{},\"id\":\"1021\",\"type\":\"BasicTicker\"},{\"attributes\":{\"margin\":[5,5,5,5],\"name\":\"HSpacer01629\",\"sizing_mode\":\"stretch_width\"},\"id\":\"1003\",\"type\":\"Spacer\"},{\"attributes\":{\"bottom_units\":\"screen\",\"fill_alpha\":0.5,\"fill_color\":\"lightgrey\",\"left_units\":\"screen\",\"level\":\"overlay\",\"line_alpha\":1.0,\"line_color\":\"black\",\"line_dash\":[4,4],\"line_width\":2,\"right_units\":\"screen\",\"syncable\":false,\"top_units\":\"screen\"},\"id\":\"1029\",\"type\":\"BoxAnnotation\"},{\"attributes\":{},\"id\":\"1024\",\"type\":\"SaveTool\"},{\"attributes\":{},\"id\":\"1028\",\"type\":\"ResetTool\"},{\"attributes\":{\"axis_label\":\"k\",\"formatter\":{\"id\":\"1047\"},\"major_label_policy\":{\"id\":\"1049\"},\"ticker\":{\"id\":\"1046\"}},\"id\":\"1016\",\"type\":\"LinearAxis\"},{\"attributes\":{},\"id\":\"1062\",\"type\":\"UnionRenderers\"},{\"attributes\":{\"margin\":[5,5,5,5],\"name\":\"HSpacer01630\",\"sizing_mode\":\"stretch_width\"},\"id\":\"1073\",\"type\":\"Spacer\"},{\"attributes\":{\"end\":10.0,\"reset_end\":10.0,\"reset_start\":1.0,\"start\":1.0,\"tags\":[[[\"k\",\"k\",null]]]},\"id\":\"1004\",\"type\":\"Range1d\"},{\"attributes\":{\"line_alpha\":0.2,\"line_color\":\"#30a2da\",\"line_width\":2,\"x\":{\"field\":\"k\"},\"y\":{\"field\":\"inertia\"}},\"id\":\"1042\",\"type\":\"Line\"},{\"attributes\":{\"text\":\"Elbow Curve\",\"text_color\":\"black\",\"text_font_size\":\"12pt\"},\"id\":\"1008\",\"type\":\"Title\"},{\"attributes\":{},\"id\":\"1052\",\"type\":\"BasicTickFormatter\"},{\"attributes\":{\"children\":[{\"id\":\"1003\"},{\"id\":\"1007\"},{\"id\":\"1073\"}],\"margin\":[0,0,0,0],\"name\":\"Row01625\",\"tags\":[\"embedded\"]},\"id\":\"1002\",\"type\":\"Row\"},{\"attributes\":{\"callback\":null,\"renderers\":[{\"id\":\"1043\"}],\"tags\":[\"hv_created\"],\"tooltips\":[[\"k\",\"@{k}\"],[\"inertia\",\"@{inertia}\"]]},\"id\":\"1006\",\"type\":\"HoverTool\"},{\"attributes\":{\"source\":{\"id\":\"1037\"}},\"id\":\"1044\",\"type\":\"CDSView\"},{\"attributes\":{},\"id\":\"1054\",\"type\":\"AllLabels\"},{\"attributes\":{},\"id\":\"1025\",\"type\":\"PanTool\"},{\"attributes\":{\"line_alpha\":0.1,\"line_color\":\"#30a2da\",\"line_width\":2,\"x\":{\"field\":\"k\"},\"y\":{\"field\":\"inertia\"}},\"id\":\"1041\",\"type\":\"Line\"},{\"attributes\":{\"axis\":{\"id\":\"1020\"},\"dimension\":1,\"grid_line_color\":null,\"ticker\":null},\"id\":\"1023\",\"type\":\"Grid\"},{\"attributes\":{},\"id\":\"1012\",\"type\":\"LinearScale\"},{\"attributes\":{\"active_multi\":null,\"tools\":[{\"id\":\"1006\"},{\"id\":\"1024\"},{\"id\":\"1025\"},{\"id\":\"1026\"},{\"id\":\"1027\"},{\"id\":\"1028\"}]},\"id\":\"1030\",\"type\":\"Toolbar\"},{\"attributes\":{\"overlay\":{\"id\":\"1029\"}},\"id\":\"1027\",\"type\":\"BoxZoomTool\"},{\"attributes\":{},\"id\":\"1026\",\"type\":\"WheelZoomTool\"},{\"attributes\":{},\"id\":\"1047\",\"type\":\"BasicTickFormatter\"},{\"attributes\":{\"ticks\":[1,2,3,4,5,6,7,8,9,10]},\"id\":\"1046\",\"type\":\"FixedTicker\"},{\"attributes\":{\"end\":3994.5499620728683,\"reset_end\":3994.5499620728683,\"reset_start\":-260.7396295178323,\"start\":-260.7396295178323,\"tags\":[[[\"inertia\",\"inertia\",null]]]},\"id\":\"1005\",\"type\":\"Range1d\"},{\"attributes\":{},\"id\":\"1038\",\"type\":\"Selection\"},{\"attributes\":{\"line_color\":\"#30a2da\",\"line_width\":2,\"x\":{\"field\":\"k\"},\"y\":{\"field\":\"inertia\"}},\"id\":\"1040\",\"type\":\"Line\"},{\"attributes\":{\"axis\":{\"id\":\"1016\"},\"grid_line_color\":null,\"ticker\":null},\"id\":\"1019\",\"type\":\"Grid\"},{\"attributes\":{\"below\":[{\"id\":\"1016\"}],\"center\":[{\"id\":\"1019\"},{\"id\":\"1023\"}],\"height\":300,\"left\":[{\"id\":\"1020\"}],\"margin\":[5,5,5,5],\"min_border_bottom\":10,\"min_border_left\":10,\"min_border_right\":10,\"min_border_top\":10,\"renderers\":[{\"id\":\"1043\"}],\"sizing_mode\":\"fixed\",\"title\":{\"id\":\"1008\"},\"toolbar\":{\"id\":\"1030\"},\"width\":700,\"x_range\":{\"id\":\"1004\"},\"x_scale\":{\"id\":\"1012\"},\"y_range\":{\"id\":\"1005\"},\"y_scale\":{\"id\":\"1014\"}},\"id\":\"1007\",\"subtype\":\"Figure\",\"type\":\"Plot\"},{\"attributes\":{},\"id\":\"1014\",\"type\":\"LinearScale\"},{\"attributes\":{\"line_color\":\"#30a2da\",\"line_width\":2,\"x\":{\"field\":\"k\"},\"y\":{\"field\":\"inertia\"}},\"id\":\"1045\",\"type\":\"Line\"}],\"root_ids\":[\"1002\"]},\"title\":\"Bokeh Application\",\"version\":\"2.3.2\"}};\n",
       "    var render_items = [{\"docid\":\"4bd3c1cb-066b-4e86-82ce-c938a8976e3e\",\"root_ids\":[\"1002\"],\"roots\":{\"1002\":\"b407f9b8-9b6e-43fd-91b6-c198832f1807\"}}];\n",
       "    root.Bokeh.embed.embed_items_notebook(docs_json, render_items);\n",
       "  }\n",
       "  if (root.Bokeh !== undefined && root.Bokeh.Panel !== undefined) {\n",
       "    embed_document(root);\n",
       "  } else {\n",
       "    var attempts = 0;\n",
       "    var timer = setInterval(function(root) {\n",
       "      if (root.Bokeh !== undefined && root.Bokeh.Panel !== undefined) {\n",
       "        clearInterval(timer);\n",
       "        embed_document(root);\n",
       "      } else if (document.readyState == \"complete\") {\n",
       "        attempts++;\n",
       "        if (attempts > 100) {\n",
       "          clearInterval(timer);\n",
       "          console.log(\"Bokeh: ERROR: Unable to run BokehJS code because BokehJS library is missing\");\n",
       "        }\n",
       "      }\n",
       "    }, 10, root)\n",
       "  }\n",
       "})(window);</script>"
      ],
      "text/plain": [
       ":Curve   [k]   (inertia)"
      ]
     },
     "execution_count": 24,
     "metadata": {
      "application/vnd.holoviews_exec.v0+json": {
       "id": "1002"
      }
     },
     "output_type": "execute_result"
    }
   ],
   "source": [
    "# Create an elbow curve to find the best value for K.\n",
    "inertia = []\n",
    "k = list(range(1, 11))\n",
    "\n",
    "# Calculate the inertia for the range of K values\n",
    "for i in k:\n",
    "   km = KMeans(n_clusters=i, random_state=0)\n",
    "   km.fit(pcs_df)\n",
    "   inertia.append(km.inertia_)\n",
    "\n",
    "# Define a DataFrame to plot the Elbow Curve using hvPlot\n",
    "elbow_data = {\"k\": k, \"inertia\": inertia}\n",
    "df_elbow = pd.DataFrame(elbow_data)\n",
    "df_elbow.hvplot.line(x=\"k\", y=\"inertia\", title=\"Elbow Curve\", xticks=k)"
   ]
  },
  {
   "cell_type": "markdown",
   "metadata": {},
   "source": [
    "Running K-Means with `k=4`"
   ]
  },
  {
   "cell_type": "code",
   "execution_count": 39,
   "metadata": {},
   "outputs": [
    {
     "data": {
      "text/plain": [
       "array([2, 2, 2, 0, 0, 0, 2, 0, 0, 0, 2, 0, 2, 2, 0, 2, 0, 0, 2, 2, 0, 0,\n",
       "       0, 0, 0, 2, 0, 0, 0, 2, 0, 2, 0, 0, 2, 2, 0, 0, 0, 0, 0, 0, 2, 2,\n",
       "       0, 0, 0, 0, 0, 2, 2, 0, 2, 0, 0, 0, 0, 2, 0, 0, 2, 0, 2, 2, 2, 0,\n",
       "       0, 0, 2, 2, 2, 2, 2, 0, 0, 0, 2, 2, 0, 2, 0, 2, 2, 0, 0, 0, 0, 2,\n",
       "       2, 0, 2, 0, 0, 2, 2, 0, 2, 2, 0, 0, 2, 2, 0, 2, 2, 0, 2, 0, 2, 0,\n",
       "       2, 0, 2, 2, 0, 0, 2, 0, 0, 0, 2, 0, 0, 0, 0, 0, 2, 2, 0, 0, 0, 2,\n",
       "       0, 2, 0, 0, 2, 0, 2, 0, 2, 2, 0, 0, 2, 0, 0, 2, 2, 0, 2, 0, 2, 2,\n",
       "       2, 0, 0, 0, 0, 2, 2, 2, 2, 2, 0, 0, 2, 2, 2, 2, 2, 0, 2, 2, 2, 2,\n",
       "       2, 0, 2, 0, 2, 2, 0, 2, 0, 2, 2, 0, 2, 0, 2, 0, 2, 0, 2, 2, 2, 2,\n",
       "       0, 2, 2, 2, 2, 2, 0, 0, 2, 2, 0, 0, 2, 2, 2, 2, 2, 0, 2, 2, 2, 2,\n",
       "       2, 2, 2, 2, 0, 2, 2, 2, 2, 2, 2, 0, 0, 0, 2, 2, 2, 2, 0, 2, 0, 2,\n",
       "       2, 0, 2, 0, 0, 2, 0, 0, 2, 0, 2, 2, 2, 0, 2, 2, 0, 2, 2, 2, 2, 2,\n",
       "       2, 2, 0, 2, 0, 2, 2, 2, 2, 0, 2, 0, 2, 0, 0, 0, 0, 2, 0, 2, 2, 0,\n",
       "       2, 0, 0, 0, 2, 0, 2, 0, 0, 0, 2, 0, 2, 0, 2, 2, 1, 0, 2, 0, 0, 0,\n",
       "       0, 0, 2, 2, 0, 2, 2, 2, 0, 2, 0, 2, 0, 2, 0, 2, 2, 2, 2, 0, 2, 2,\n",
       "       0, 2, 2, 2, 0, 0, 0, 0, 2, 2, 2, 2, 0, 2, 0, 0, 0, 2, 2, 0, 0, 2,\n",
       "       2, 0, 2, 0, 0, 0, 2, 0, 0, 2, 2, 2, 0, 0, 0, 2, 2, 2, 0, 0, 2, 0,\n",
       "       0, 0, 0, 2, 1, 1, 0, 0, 0, 2, 1, 2, 2, 2, 2, 0, 0, 0, 0, 2, 2, 2,\n",
       "       0, 2, 0, 2, 2, 2, 2, 0, 2, 2, 0, 2, 2, 0, 0, 2, 0, 2, 0, 0, 0, 0,\n",
       "       2, 2, 0, 2, 0, 2, 2, 2, 2, 2, 2, 0, 0, 0, 2, 2, 2, 2, 2, 2, 0, 2,\n",
       "       0, 0, 0, 0, 2, 2, 2, 2, 0, 2, 2, 0, 2, 2, 0, 1, 0, 2, 0, 0, 2, 2,\n",
       "       0, 2, 0, 0, 2, 0, 0, 2, 0, 2, 0, 2, 2, 0, 2, 2, 2, 2, 2, 0, 0, 0,\n",
       "       2, 2, 2, 0, 2, 0, 2, 0, 2, 2, 2, 2, 0, 2, 2, 2, 0, 2, 0, 2, 0, 2,\n",
       "       2, 2, 0, 0, 2, 2, 2, 2, 2, 2, 0, 2, 0, 2, 0, 2, 2, 1, 2, 3, 2, 2,\n",
       "       2, 0, 0, 2])"
      ]
     },
     "execution_count": 39,
     "metadata": {},
     "output_type": "execute_result"
    }
   ],
   "source": [
    "# Initialize the K-Means model.\n",
    "model = KMeans(n_clusters=4, random_state=0)\n",
    "    \n",
    "# Fit the model\n",
    "model.fit(pcs_df)\n",
    "    \n",
    "# Predict clusters\n",
    "predictions = model.predict(pcs_df)\n",
    "predictions"
   ]
  },
  {
   "cell_type": "code",
   "execution_count": 40,
   "metadata": {},
   "outputs": [
    {
     "name": "stdout",
     "output_type": "stream",
     "text": [
      "(532, 9)\n"
     ]
    },
    {
     "data": {
      "text/html": [
       "<div>\n",
       "<style scoped>\n",
       "    .dataframe tbody tr th:only-of-type {\n",
       "        vertical-align: middle;\n",
       "    }\n",
       "\n",
       "    .dataframe tbody tr th {\n",
       "        vertical-align: top;\n",
       "    }\n",
       "\n",
       "    .dataframe thead th {\n",
       "        text-align: right;\n",
       "    }\n",
       "</style>\n",
       "<table border=\"1\" class=\"dataframe\">\n",
       "  <thead>\n",
       "    <tr style=\"text-align: right;\">\n",
       "      <th></th>\n",
       "      <th>Algorithm</th>\n",
       "      <th>ProofType</th>\n",
       "      <th>TotalCoinsMined</th>\n",
       "      <th>TotalCoinSupply</th>\n",
       "      <th>PC 1</th>\n",
       "      <th>PC 2</th>\n",
       "      <th>PC 3</th>\n",
       "      <th>CoinName</th>\n",
       "      <th>Class</th>\n",
       "    </tr>\n",
       "  </thead>\n",
       "  <tbody>\n",
       "    <tr>\n",
       "      <th>42</th>\n",
       "      <td>Scrypt</td>\n",
       "      <td>PoW/PoS</td>\n",
       "      <td>4.199995e+01</td>\n",
       "      <td>42</td>\n",
       "      <td>-0.327161</td>\n",
       "      <td>0.975681</td>\n",
       "      <td>-0.503004</td>\n",
       "      <td>42 Coin</td>\n",
       "      <td>2</td>\n",
       "    </tr>\n",
       "    <tr>\n",
       "      <th>404</th>\n",
       "      <td>Scrypt</td>\n",
       "      <td>PoW/PoS</td>\n",
       "      <td>1.055185e+09</td>\n",
       "      <td>532000000</td>\n",
       "      <td>-0.310483</td>\n",
       "      <td>0.975681</td>\n",
       "      <td>-0.503316</td>\n",
       "      <td>404Coin</td>\n",
       "      <td>2</td>\n",
       "    </tr>\n",
       "    <tr>\n",
       "      <th>1337</th>\n",
       "      <td>X13</td>\n",
       "      <td>PoW/PoS</td>\n",
       "      <td>2.927942e+10</td>\n",
       "      <td>314159265359</td>\n",
       "      <td>2.307340</td>\n",
       "      <td>1.613000</td>\n",
       "      <td>-0.596958</td>\n",
       "      <td>EliteCoin</td>\n",
       "      <td>2</td>\n",
       "    </tr>\n",
       "    <tr>\n",
       "      <th>BTC</th>\n",
       "      <td>SHA-256</td>\n",
       "      <td>PoW</td>\n",
       "      <td>1.792718e+07</td>\n",
       "      <td>21000000</td>\n",
       "      <td>-0.153519</td>\n",
       "      <td>-1.290651</td>\n",
       "      <td>0.174046</td>\n",
       "      <td>Bitcoin</td>\n",
       "      <td>0</td>\n",
       "    </tr>\n",
       "    <tr>\n",
       "      <th>ETH</th>\n",
       "      <td>Ethash</td>\n",
       "      <td>PoW</td>\n",
       "      <td>1.076842e+08</td>\n",
       "      <td>0</td>\n",
       "      <td>-0.157078</td>\n",
       "      <td>-2.020472</td>\n",
       "      <td>0.357423</td>\n",
       "      <td>Ethereum</td>\n",
       "      <td>0</td>\n",
       "    </tr>\n",
       "    <tr>\n",
       "      <th>LTC</th>\n",
       "      <td>Scrypt</td>\n",
       "      <td>PoW</td>\n",
       "      <td>6.303924e+07</td>\n",
       "      <td>84000000</td>\n",
       "      <td>-0.158306</td>\n",
       "      <td>-1.148971</td>\n",
       "      <td>0.016349</td>\n",
       "      <td>Litecoin</td>\n",
       "      <td>0</td>\n",
       "    </tr>\n",
       "    <tr>\n",
       "      <th>DASH</th>\n",
       "      <td>X11</td>\n",
       "      <td>PoW/PoS</td>\n",
       "      <td>9.031294e+06</td>\n",
       "      <td>22000000</td>\n",
       "      <td>-0.403950</td>\n",
       "      <td>1.217871</td>\n",
       "      <td>-0.443210</td>\n",
       "      <td>Dash</td>\n",
       "      <td>2</td>\n",
       "    </tr>\n",
       "    <tr>\n",
       "      <th>XMR</th>\n",
       "      <td>CryptoNight-V7</td>\n",
       "      <td>PoW</td>\n",
       "      <td>1.720114e+07</td>\n",
       "      <td>0</td>\n",
       "      <td>-0.150733</td>\n",
       "      <td>-2.229827</td>\n",
       "      <td>0.395196</td>\n",
       "      <td>Monero</td>\n",
       "      <td>0</td>\n",
       "    </tr>\n",
       "    <tr>\n",
       "      <th>ETC</th>\n",
       "      <td>Ethash</td>\n",
       "      <td>PoW</td>\n",
       "      <td>1.133597e+08</td>\n",
       "      <td>210000000</td>\n",
       "      <td>-0.155519</td>\n",
       "      <td>-2.020588</td>\n",
       "      <td>0.357414</td>\n",
       "      <td>Ethereum Classic</td>\n",
       "      <td>0</td>\n",
       "    </tr>\n",
       "    <tr>\n",
       "      <th>ZEC</th>\n",
       "      <td>Equihash</td>\n",
       "      <td>PoW</td>\n",
       "      <td>7.383056e+06</td>\n",
       "      <td>21000000</td>\n",
       "      <td>-0.158888</td>\n",
       "      <td>-1.982490</td>\n",
       "      <td>0.289644</td>\n",
       "      <td>ZCash</td>\n",
       "      <td>0</td>\n",
       "    </tr>\n",
       "  </tbody>\n",
       "</table>\n",
       "</div>"
      ],
      "text/plain": [
       "           Algorithm ProofType  TotalCoinsMined TotalCoinSupply      PC 1  \\\n",
       "42            Scrypt   PoW/PoS     4.199995e+01              42 -0.327161   \n",
       "404           Scrypt   PoW/PoS     1.055185e+09       532000000 -0.310483   \n",
       "1337             X13   PoW/PoS     2.927942e+10    314159265359  2.307340   \n",
       "BTC          SHA-256       PoW     1.792718e+07        21000000 -0.153519   \n",
       "ETH           Ethash       PoW     1.076842e+08               0 -0.157078   \n",
       "LTC           Scrypt       PoW     6.303924e+07        84000000 -0.158306   \n",
       "DASH             X11   PoW/PoS     9.031294e+06        22000000 -0.403950   \n",
       "XMR   CryptoNight-V7       PoW     1.720114e+07               0 -0.150733   \n",
       "ETC           Ethash       PoW     1.133597e+08       210000000 -0.155519   \n",
       "ZEC         Equihash       PoW     7.383056e+06        21000000 -0.158888   \n",
       "\n",
       "          PC 2      PC 3          CoinName  Class  \n",
       "42    0.975681 -0.503004           42 Coin      2  \n",
       "404   0.975681 -0.503316           404Coin      2  \n",
       "1337  1.613000 -0.596958         EliteCoin      2  \n",
       "BTC  -1.290651  0.174046           Bitcoin      0  \n",
       "ETH  -2.020472  0.357423          Ethereum      0  \n",
       "LTC  -1.148971  0.016349          Litecoin      0  \n",
       "DASH  1.217871 -0.443210              Dash      2  \n",
       "XMR  -2.229827  0.395196            Monero      0  \n",
       "ETC  -2.020588  0.357414  Ethereum Classic      0  \n",
       "ZEC  -1.982490  0.289644             ZCash      0  "
      ]
     },
     "execution_count": 40,
     "metadata": {},
     "output_type": "execute_result"
    }
   ],
   "source": [
    "# Create a new DataFrame including predicted clusters and cryptocurrencies features.\n",
    "# Concatentate the crypto_df and pcs_df DataFrames on the same columns.\n",
    "clustered_df = pd.concat([crypto_df, pcs_df], axis=1)\n",
    "\n",
    "#  Add a new column, \"CoinName\" to the clustered_df DataFrame that holds the names of the cryptocurrencies. \n",
    "clustered_df['CoinName'] = coin_name_df[\"CoinName\"]\n",
    "\n",
    "#  Add a new column, \"Class\" to the clustered_df DataFrame that holds the predictions.\n",
    "clustered_df[\"Class\"] = model.labels_\n",
    "\n",
    "# Print the shape of the clustered_df\n",
    "print(clustered_df.shape)\n",
    "clustered_df.head(10)"
   ]
  },
  {
   "cell_type": "markdown",
   "metadata": {},
   "source": [
    "### Deliverable 4: Visualizing Cryptocurrencies Results\n",
    "\n",
    "#### 3D-Scatter with Clusters"
   ]
  },
  {
   "cell_type": "code",
   "execution_count": 49,
   "metadata": {
    "tags": []
   },
   "outputs": [
    {
     "data": {
      "application/vnd.plotly.v1+json": {
       "config": {
        "plotlyServerURL": "https://plot.ly"
       },
       "data": [
        {
         "customdata": [
          [
           "Scrypt"
          ],
          [
           "Scrypt"
          ],
          [
           "X13"
          ],
          [
           "X11"
          ],
          [
           "SHA-512"
          ],
          [
           "SHA-256"
          ],
          [
           "SHA-256"
          ],
          [
           "X15"
          ],
          [
           "Scrypt"
          ],
          [
           "Scrypt"
          ],
          [
           "Scrypt"
          ],
          [
           "Scrypt"
          ],
          [
           "Scrypt"
          ],
          [
           "Scrypt"
          ],
          [
           "Groestl"
          ],
          [
           "PoS"
          ],
          [
           "Scrypt"
          ],
          [
           "Scrypt"
          ],
          [
           "X11"
          ],
          [
           "X11"
          ],
          [
           "SHA3"
          ],
          [
           "Scrypt"
          ],
          [
           "SHA-256"
          ],
          [
           "Scrypt"
          ],
          [
           "X13"
          ],
          [
           "X13"
          ],
          [
           "NeoScrypt"
          ],
          [
           "Scrypt"
          ],
          [
           "Scrypt"
          ],
          [
           "Scrypt"
          ],
          [
           "X11"
          ],
          [
           "X11"
          ],
          [
           "Multiple"
          ],
          [
           "PHI1612"
          ],
          [
           "X11"
          ],
          [
           "Scrypt"
          ],
          [
           "Scrypt"
          ],
          [
           "Scrypt"
          ],
          [
           "X11"
          ],
          [
           "Multiple"
          ],
          [
           "X13"
          ],
          [
           "Scrypt"
          ],
          [
           "Shabal256"
          ],
          [
           "Counterparty"
          ],
          [
           "SHA-256"
          ],
          [
           "Groestl"
          ],
          [
           "Scrypt"
          ],
          [
           "X13"
          ],
          [
           "Scrypt"
          ],
          [
           "Scrypt"
          ],
          [
           "X13"
          ],
          [
           "X11"
          ],
          [
           "Scrypt"
          ],
          [
           "X11"
          ],
          [
           "SHA3"
          ],
          [
           "QUAIT"
          ],
          [
           "X11"
          ],
          [
           "Scrypt"
          ],
          [
           "X13"
          ],
          [
           "SHA-256"
          ],
          [
           "X15"
          ],
          [
           "BLAKE256"
          ],
          [
           "SHA-256"
          ],
          [
           "X11"
          ],
          [
           "SHA-256"
          ],
          [
           "NIST5"
          ],
          [
           "Scrypt"
          ],
          [
           "Scrypt"
          ],
          [
           "X11"
          ],
          [
           "Scrypt"
          ],
          [
           "SHA-256"
          ],
          [
           "Scrypt"
          ],
          [
           "PoS"
          ],
          [
           "X11"
          ],
          [
           "SHA-256"
          ],
          [
           "SHA-256"
          ],
          [
           "NIST5"
          ],
          [
           "X11"
          ],
          [
           "POS 3.0"
          ],
          [
           "Scrypt"
          ],
          [
           "Scrypt"
          ],
          [
           "Scrypt"
          ],
          [
           "X13"
          ],
          [
           "X11"
          ],
          [
           "X11"
          ],
          [
           "Scrypt"
          ],
          [
           "SHA-256"
          ],
          [
           "X11"
          ],
          [
           "Scrypt"
          ],
          [
           "Scrypt"
          ],
          [
           "Scrypt"
          ],
          [
           "Scrypt"
          ],
          [
           "SHA-256D"
          ],
          [
           "PoS"
          ],
          [
           "Scrypt"
          ],
          [
           "X11"
          ],
          [
           "PoS"
          ],
          [
           "X13"
          ],
          [
           "X14"
          ],
          [
           "PoS"
          ],
          [
           "SHA-256D"
          ],
          [
           "DPoS"
          ],
          [
           "X11"
          ],
          [
           "X13"
          ],
          [
           "X11"
          ],
          [
           "PoS"
          ],
          [
           "Scrypt"
          ],
          [
           "Scrypt"
          ],
          [
           "PoS"
          ],
          [
           "X11"
          ],
          [
           "SHA-256"
          ],
          [
           "Scrypt"
          ],
          [
           "X11"
          ],
          [
           "Scrypt"
          ],
          [
           "Scrypt"
          ],
          [
           "X11"
          ],
          [
           "Scrypt"
          ],
          [
           "Scrypt"
          ],
          [
           "Scrypt"
          ],
          [
           "Scrypt"
          ],
          [
           "Quark"
          ],
          [
           "QuBit"
          ],
          [
           "Scrypt"
          ],
          [
           "SHA-256"
          ],
          [
           "X11"
          ],
          [
           "Scrypt"
          ],
          [
           "Scrypt"
          ],
          [
           "Scrypt"
          ],
          [
           "Scrypt"
          ],
          [
           "X13"
          ],
          [
           "Scrypt"
          ],
          [
           "Scrypt"
          ],
          [
           "X11"
          ],
          [
           "Blake2S"
          ],
          [
           "X11"
          ],
          [
           "PoS"
          ],
          [
           "X11"
          ],
          [
           "PoS"
          ],
          [
           "X11"
          ],
          [
           "Scrypt"
          ],
          [
           "Scrypt"
          ],
          [
           "Scrypt"
          ],
          [
           "SHA-256"
          ],
          [
           "X11"
          ],
          [
           "Scrypt"
          ],
          [
           "PoS"
          ],
          [
           "Scrypt"
          ],
          [
           "X15"
          ],
          [
           "SHA-256"
          ],
          [
           "POS 3.0"
          ],
          [
           "536"
          ],
          [
           "NIST5"
          ],
          [
           "NIST5"
          ],
          [
           "Skein"
          ],
          [
           "X13"
          ],
          [
           "Scrypt"
          ],
          [
           "X13"
          ],
          [
           "SkunkHash v2 Raptor"
          ],
          [
           "Skein"
          ],
          [
           "X11"
          ],
          [
           "Scrypt"
          ],
          [
           "PoS"
          ],
          [
           "Scrypt"
          ],
          [
           "Scrypt"
          ],
          [
           "SHA-512"
          ],
          [
           "Ouroboros"
          ],
          [
           "X11"
          ],
          [
           "NeoScrypt"
          ],
          [
           "Scrypt"
          ],
          [
           "Lyra2REv2"
          ],
          [
           "Scrypt"
          ],
          [
           "SHA-256"
          ],
          [
           "NIST5"
          ],
          [
           "PHI1612"
          ],
          [
           "Scrypt"
          ],
          [
           "Quark"
          ],
          [
           "POS 2.0"
          ],
          [
           "Scrypt"
          ],
          [
           "SHA-256"
          ],
          [
           "X11"
          ],
          [
           "DPoS"
          ],
          [
           "NIST5"
          ],
          [
           "X13"
          ],
          [
           "Scrypt"
          ],
          [
           "NIST5"
          ],
          [
           "Quark"
          ],
          [
           "Scrypt"
          ],
          [
           "Scrypt"
          ],
          [
           "X11"
          ],
          [
           "Quark"
          ],
          [
           "Scrypt"
          ],
          [
           "Scrypt"
          ],
          [
           "X11"
          ],
          [
           "POS 3.0"
          ],
          [
           "Ethash"
          ],
          [
           "Scrypt"
          ],
          [
           "Scrypt"
          ],
          [
           "X13"
          ],
          [
           "C11"
          ],
          [
           "X11"
          ],
          [
           "XEVAN"
          ],
          [
           "Scrypt"
          ],
          [
           "VBFT"
          ],
          [
           "NIST5"
          ],
          [
           "Scrypt"
          ],
          [
           "Scrypt"
          ],
          [
           "Scrypt"
          ],
          [
           "Green Protocol"
          ],
          [
           "PoS"
          ],
          [
           "Scrypt"
          ],
          [
           "Semux BFT consensus"
          ],
          [
           "Quark"
          ],
          [
           "PoS"
          ],
          [
           "X16R"
          ],
          [
           "Scrypt"
          ],
          [
           "XEVAN"
          ],
          [
           "Scrypt"
          ],
          [
           "Scrypt"
          ],
          [
           "Scrypt"
          ],
          [
           "SHA-256D"
          ],
          [
           "Scrypt"
          ],
          [
           "X15"
          ],
          [
           "Scrypt"
          ],
          [
           "Quark"
          ],
          [
           "SHA-256"
          ],
          [
           "DPoS"
          ],
          [
           "X16R"
          ],
          [
           "Quark"
          ],
          [
           "Quark"
          ],
          [
           "Scrypt"
          ],
          [
           "Lyra2REv2"
          ],
          [
           "Quark"
          ],
          [
           "Scrypt"
          ],
          [
           "X11"
          ],
          [
           "X11"
          ],
          [
           "Scrypt"
          ],
          [
           "PoS"
          ],
          [
           "Keccak"
          ],
          [
           "X11"
          ],
          [
           "Scrypt"
          ],
          [
           "SHA-512"
          ],
          [
           "XEVAN"
          ],
          [
           "XEVAN"
          ],
          [
           "X11"
          ],
          [
           "Quark"
          ],
          [
           "Equihash"
          ],
          [
           "Scrypt"
          ],
          [
           "Quark"
          ],
          [
           "Quark"
          ],
          [
           "Scrypt"
          ],
          [
           "X11"
          ],
          [
           "Scrypt"
          ],
          [
           "XEVAN"
          ],
          [
           "SHA-256D"
          ],
          [
           "X11"
          ],
          [
           "X11"
          ],
          [
           "DPoS"
          ],
          [
           "Scrypt"
          ],
          [
           "X11"
          ],
          [
           "Scrypt"
          ],
          [
           "Scrypt"
          ],
          [
           "SHA-256"
          ],
          [
           "Scrypt"
          ],
          [
           "X11"
          ],
          [
           "Scrypt"
          ],
          [
           "SHA-256"
          ],
          [
           "X11"
          ],
          [
           "Scrypt"
          ],
          [
           "Scrypt"
          ],
          [
           "X11"
          ],
          [
           "Scrypt"
          ],
          [
           "PoS"
          ],
          [
           "X11"
          ],
          [
           "SHA-256"
          ],
          [
           "DPoS"
          ],
          [
           "Scrypt"
          ],
          [
           "Scrypt"
          ],
          [
           "NeoScrypt"
          ],
          [
           "X13"
          ],
          [
           "DPoS"
          ],
          [
           "DPoS"
          ],
          [
           "SHA-256"
          ],
          [
           "PoS"
          ],
          [
           "PoS"
          ],
          [
           "SHA-256"
          ],
          [
           "Scrypt"
          ],
          [
           "Scrypt"
          ]
         ],
         "hovertemplate": "<b>%{hovertext}</b><br><br>Class=%{marker.color}<br>PC 1=%{x}<br>PC 2=%{y}<br>PC 3=%{z}<br>Algorithm=%{customdata[0]}<extra></extra>",
         "hovertext": [
          "42 Coin",
          "404Coin",
          "EliteCoin",
          "Dash",
          "Bitshares",
          "BitcoinDark",
          "PayCoin",
          "KoboCoin",
          "Aurora Coin",
          "BlueCoin",
          "EnergyCoin",
          "BitBar",
          "CryptoBullion",
          "CasinoCoin",
          "Diamond",
          "Exclusive Coin",
          "FlutterCoin",
          "HoboNickels",
          "HyperStake",
          "IOCoin",
          "MaxCoin",
          "MintCoin",
          "MazaCoin",
          "Nautilus Coin",
          "NavCoin",
          "OpalCoin",
          "Orbitcoin",
          "PotCoin",
          "PhoenixCoin",
          "Reddcoin",
          "SuperCoin",
          "SyncCoin",
          "TeslaCoin",
          "TittieCoin",
          "TorCoin",
          "UnitaryStatus Dollar",
          "UltraCoin",
          "VeriCoin",
          "X11 Coin",
          "Crypti",
          "StealthCoin",
          "ZCC Coin",
          "BurstCoin",
          "StorjCoin",
          "Neutron",
          "FairCoin",
          "RubyCoin",
          "Kore",
          "Dnotes",
          "8BIT Coin",
          "Sativa Coin",
          "Ucoin",
          "Vtorrent",
          "IslaCoin",
          "Nexus",
          "Droidz",
          "Squall Coin",
          "Diggits",
          "Paycon",
          "Emercoin",
          "EverGreenCoin",
          "Decred",
          "EDRCoin",
          "Hitcoin",
          "DubaiCoin",
          "PWR Coin",
          "BillaryCoin",
          "GPU Coin",
          "EuropeCoin",
          "ZeitCoin",
          "SwingCoin",
          "SafeExchangeCoin",
          "Nebuchadnezzar",
          "Ratecoin",
          "Revenu",
          "Clockcoin",
          "VIP Tokens",
          "BitSend",
          "Let it Ride",
          "PutinCoin",
          "iBankCoin",
          "Frankywillcoin",
          "MudraCoin",
          "Lutetium Coin",
          "GoldBlocks",
          "CarterCoin",
          "BitTokens",
          "MustangCoin",
          "ZoneCoin",
          "RootCoin",
          "BitCurrency",
          "Swiscoin",
          "BuzzCoin",
          "Opair",
          "PesoBit",
          "Halloween Coin",
          "CoffeeCoin",
          "RoyalCoin",
          "GanjaCoin V2",
          "TeamUP",
          "LanaCoin",
          "ARK",
          "InsaneCoin",
          "EmberCoin",
          "XenixCoin",
          "FreeCoin",
          "PLNCoin",
          "AquariusCoin",
          "Creatio",
          "Eternity",
          "Eurocoin",
          "BitcoinFast",
          "Stakenet",
          "BitConnect Coin",
          "MoneyCoin",
          "Enigma",
          "Russiacoin",
          "PandaCoin",
          "GameUnits",
          "GAKHcoin",
          "Allsafe",
          "LiteCreed",
          "Klingon Empire Darsek",
          "Internet of People",
          "KushCoin",
          "Printerium",
          "Impeach",
          "Zilbercoin",
          "FirstCoin",
          "FindCoin",
          "OpenChat",
          "RenosCoin",
          "VirtacoinPlus",
          "TajCoin",
          "Impact",
          "Atmos",
          "HappyCoin",
          "MacronCoin",
          "Condensate",
          "Independent Money System",
          "ArgusCoin",
          "LomoCoin",
          "ProCurrency",
          "GoldReserve",
          "GrowthCoin",
          "Phreak",
          "Degas Coin",
          "HTML5 Coin",
          "Ultimate Secure Cash",
          "QTUM",
          "Espers",
          "Denarius",
          "Virta Unique Coin",
          "Bitcoin Planet",
          "BritCoin",
          "Linda",
          "DeepOnion",
          "Signatum",
          "Cream",
          "Monoeci",
          "Draftcoin",
          "Stakecoin",
          "CoinonatX",
          "Ethereum Dark",
          "Obsidian",
          "Cardano",
          "Regalcoin",
          "TrezarCoin",
          "TerraNovaCoin",
          "Rupee",
          "WomenCoin",
          "Theresa May Coin",
          "NamoCoin",
          "LUXCoin",
          "Xios",
          "Bitcloud 2.0",
          "KekCoin",
          "BlackholeCoin",
          "Infinity Economics",
          "Magnet",
          "Lamden Tau",
          "Electra",
          "Bitcoin Diamond",
          "Cash & Back Coin",
          "Bulwark",
          "Kalkulus",
          "GermanCoin",
          "LiteCoin Ultra",
          "PhantomX",
          "Digiwage",
          "Trollcoin",
          "Litecoin Plus",
          "Monkey Project",
          "TokenPay",
          "1717 Masonic Commemorative Token",
          "My Big Coin",
          "Unified Society USDEX",
          "Tokyo Coin",
          "Stipend",
          "Pushi",
          "Ellerium",
          "Velox",
          "Ontology",
          "Bitspace",
          "Briacoin",
          "Ignition",
          "MedicCoin",
          "Bitcoin Green",
          "Deviant Coin",
          "Abjcoin",
          "Semux",
          "Carebit",
          "Zealium",
          "Proton",
          "iDealCash",
          "Bitcoin Incognito",
          "HollyWoodCoin",
          "Swisscoin",
          "Xt3ch",
          "TheVig",
          "EmaratCoin",
          "Dekado",
          "Lynx",
          "Poseidon Quark",
          "BitcoinWSpectrum",
          "Muse",
          "Trivechain",
          "Dystem",
          "Giant",
          "Peony Coin",
          "Absolute Coin",
          "Vitae",
          "TPCash",
          "ARENON",
          "EUNO",
          "MMOCoin",
          "Ketan",
          "XDNA",
          "PAXEX",
          "ThunderStake",
          "Kcash",
          "Bettex coin",
          "BitMoney",
          "Junson Ming Chan Coin",
          "HerbCoin",
          "PirateCash",
          "Oduwa",
          "Galilel",
          "Crypto Sports",
          "Credit",
          "Dash Platinum",
          "Nasdacoin",
          "Beetle Coin",
          "Titan Coin",
          "Award",
          "Insane Coin",
          "ALAX",
          "LiteDoge",
          "TruckCoin",
          "OrangeCoin",
          "BitstarCoin",
          "NeosCoin",
          "HyperCoin",
          "PinkCoin",
          "AudioCoin",
          "IncaKoin",
          "Piggy Coin",
          "Genstake",
          "XiaoMiCoin",
          "CapriCoin",
          " ClubCoin",
          "Radium",
          "Creditbit ",
          "OKCash",
          "Lisk",
          "HiCoin",
          "WhiteCoin",
          "FriendshipCoin",
          "Triangles Coin",
          "EOS",
          "Oxycoin",
          "TigerCash",
          "Particl",
          "Nxt",
          "ZEPHYR",
          "Gapcoin",
          "BitcoinPlus"
         ],
         "legendgroup": "2",
         "marker": {
          "color": [
           2,
           2,
           2,
           2,
           2,
           2,
           2,
           2,
           2,
           2,
           2,
           2,
           2,
           2,
           2,
           2,
           2,
           2,
           2,
           2,
           2,
           2,
           2,
           2,
           2,
           2,
           2,
           2,
           2,
           2,
           2,
           2,
           2,
           2,
           2,
           2,
           2,
           2,
           2,
           2,
           2,
           2,
           2,
           2,
           2,
           2,
           2,
           2,
           2,
           2,
           2,
           2,
           2,
           2,
           2,
           2,
           2,
           2,
           2,
           2,
           2,
           2,
           2,
           2,
           2,
           2,
           2,
           2,
           2,
           2,
           2,
           2,
           2,
           2,
           2,
           2,
           2,
           2,
           2,
           2,
           2,
           2,
           2,
           2,
           2,
           2,
           2,
           2,
           2,
           2,
           2,
           2,
           2,
           2,
           2,
           2,
           2,
           2,
           2,
           2,
           2,
           2,
           2,
           2,
           2,
           2,
           2,
           2,
           2,
           2,
           2,
           2,
           2,
           2,
           2,
           2,
           2,
           2,
           2,
           2,
           2,
           2,
           2,
           2,
           2,
           2,
           2,
           2,
           2,
           2,
           2,
           2,
           2,
           2,
           2,
           2,
           2,
           2,
           2,
           2,
           2,
           2,
           2,
           2,
           2,
           2,
           2,
           2,
           2,
           2,
           2,
           2,
           2,
           2,
           2,
           2,
           2,
           2,
           2,
           2,
           2,
           2,
           2,
           2,
           2,
           2,
           2,
           2,
           2,
           2,
           2,
           2,
           2,
           2,
           2,
           2,
           2,
           2,
           2,
           2,
           2,
           2,
           2,
           2,
           2,
           2,
           2,
           2,
           2,
           2,
           2,
           2,
           2,
           2,
           2,
           2,
           2,
           2,
           2,
           2,
           2,
           2,
           2,
           2,
           2,
           2,
           2,
           2,
           2,
           2,
           2,
           2,
           2,
           2,
           2,
           2,
           2,
           2,
           2,
           2,
           2,
           2,
           2,
           2,
           2,
           2,
           2,
           2,
           2,
           2,
           2,
           2,
           2,
           2,
           2,
           2,
           2,
           2,
           2,
           2,
           2,
           2,
           2,
           2,
           2,
           2,
           2,
           2,
           2,
           2,
           2,
           2,
           2,
           2,
           2,
           2,
           2,
           2,
           2,
           2,
           2,
           2,
           2,
           2,
           2,
           2,
           2,
           2,
           2,
           2,
           2,
           2,
           2,
           2,
           2,
           2,
           2,
           2,
           2,
           2,
           2,
           2,
           2,
           2,
           2,
           2,
           2
          ],
          "coloraxis": "coloraxis",
          "symbol": "circle"
         },
         "mode": "markers",
         "name": "2",
         "scene": "scene",
         "showlegend": true,
         "type": "scatter3d",
         "x": [
          -0.3271605103997055,
          -0.31048276320710755,
          2.307339896145503,
          -0.40394998395040577,
          -0.19917346571753178,
          -0.32120338727463565,
          -0.27473608466646854,
          -0.2470788688058806,
          -0.32681977547250546,
          -0.3193902874157625,
          -0.3256556488577068,
          -0.3271564430557837,
          -0.327140709514698,
          0.7135669902242239,
          -0.3784905357263918,
          -0.35622990837031027,
          -0.2601823663005043,
          -0.3252175242804903,
          -0.33728709835822757,
          -0.4038445797103161,
          -0.3951176947524897,
          -0.0203658847826317,
          -0.28447647899740597,
          -0.2804440776926217,
          -0.2788378065249793,
          -0.27946060838174697,
          -0.3499452777552523,
          -0.3214576428369544,
          -0.32556080156072165,
          0.03132225532697469,
          -0.3571926556887526,
          -0.4042164897839331,
          -0.2516590090800006,
          -0.317940553171611,
          -0.40412805248677075,
          -0.30237014476282975,
          -0.32583671922437935,
          -0.25114099034855886,
          -0.4040924914228234,
          -0.25212712118549035,
          -0.2792412629811319,
          -0.3182558735200484,
          0.10312826255643812,
          -0.3378887762485295,
          -0.3204143840924229,
          -0.37791154428803037,
          -0.2804243066056049,
          -0.27953607565625577,
          -0.27507360924155644,
          -0.32714256185013335,
          -0.2794882140965209,
          -0.3576379385808629,
          -0.3268767048674439,
          -0.40419800107901593,
          -0.36398868531990397,
          -0.430420299646046,
          -0.41193879484186235,
          -0.27882439347743737,
          -0.279009424590586,
          -0.31375373172069265,
          -0.24952240649911633,
          -0.09714103997813232,
          -0.3211742735118163,
          -0.08137804121245426,
          -0.32123802027549553,
          -0.2386327797365735,
          -0.3267524828900453,
          -0.2786934019304975,
          -0.4013647851808751,
          0.8737429827997754,
          -0.3210379141162644,
          -0.01787085843191769,
          -0.35591289488719746,
          -0.4020389968893895,
          -0.31978039431188954,
          -0.31744662714661553,
          -0.36010711672300777,
          -0.4029320897970752,
          -0.3401477569329757,
          -0.3030277801012719,
          -0.32679061857833913,
          -0.3252281749965589,
          -0.2317620325616184,
          -0.34511728082184373,
          -0.40367144223451,
          -0.3259941200730958,
          -0.3212189618099001,
          -0.40418718456776404,
          -0.32697994382328166,
          -0.3271367894537815,
          -0.27868280832765324,
          -0.22229395461209814,
          0.028874915871095943,
          -0.3548690199279046,
          -0.3267505787580409,
          -0.3903374859996653,
          -0.3541969945983594,
          -0.23319385429407183,
          -0.38087285328598436,
          -0.3539458873035426,
          -0.28594149568247257,
          3.700126329862308,
          -0.4037793592661324,
          0.8537563725124524,
          -0.4041420520429385,
          -0.35533319402277913,
          -0.3266780931140032,
          -0.32683256877309286,
          -0.35591289488719746,
          -0.4037165940124966,
          -0.32108150320246703,
          -0.3266788255657349,
          -0.40205370817762376,
          -0.32682635293011536,
          -0.32241064467510094,
          -0.40417107437881544,
          -0.32603638999822737,
          0.3634160354514613,
          -0.3270258077706638,
          -0.32709643901963537,
          -0.3547006259616445,
          -0.35522130973004107,
          -0.3233199766100737,
          -0.3211953530370896,
          -0.4040809433304829,
          -0.32687405122916396,
          -0.3270011267180157,
          -0.2803307683876928,
          -0.25447601946727455,
          -0.2329614961302013,
          -0.3078371490640131,
          -0.28007163722496176,
          -0.4033460565401943,
          -0.41099826860334593,
          -0.4020832327946052,
          -0.35415784506603615,
          -0.40324384448579803,
          -0.3485526357974283,
          -0.399181260066881,
          -0.32694435869720906,
          -0.32694355339552217,
          -0.3200594445798507,
          0.2583794911171616,
          -0.40372273448009416,
          -0.26295778743323195,
          -0.35594722920732075,
          -0.326154357489176,
          0.8858664270481594,
          -0.2734253877376474,
          -0.33892499361594763,
          0.5706864066547717,
          -0.3616441692681775,
          -0.3601450523876808,
          -0.42678866508748703,
          -0.2791730230989076,
          0.13819223158685975,
          -0.2792438545959716,
          -0.3260743708025179,
          -0.4262930789403977,
          -0.40399535554409577,
          -0.2804050132754567,
          -0.35581339967010644,
          -0.3265792274789614,
          -0.32707935309026764,
          -0.2572902729085232,
          0.6484877119427979,
          -0.4039361399284723,
          -0.34494005058475313,
          -0.32703493458819444,
          -0.31557909381880506,
          0.44279558346948417,
          -0.31954010682045414,
          -0.34639738852023677,
          -0.3999739347287551,
          -0.3269852299446924,
          -0.399544903493222,
          -0.3418973317810582,
          -0.32685550119242346,
          -0.1010611962383338,
          -0.4027277300539092,
          3.7049866871024726,
          0.19835888909968422,
          -0.27591167735103633,
          -0.3243134992537974,
          -0.3150037101505781,
          -0.354586424793565,
          0.08764694775513582,
          -0.32599331244611535,
          -0.40330935485147357,
          -0.353750439918974,
          -0.31354778571057185,
          -0.3271015055178476,
          -0.3576098420684459,
          -0.34042993564807494,
          -0.27944763538375444,
          -0.2715870853056898,
          -0.32264268588896056,
          -0.22475001354114046,
          -0.364128060967359,
          -0.4040126283830769,
          -0.341631903361381,
          -0.2795642749940933,
          -0.34244066962152936,
          -0.3612427770037542,
          -0.32712888554834796,
          -0.3271105805918026,
          -0.27394062797553737,
          -0.3282570344757363,
          -0.355407490449275,
          -0.3268268398072405,
          3.8921506692596095,
          -0.39821166387596457,
          -0.35559633319120676,
          -0.3103170717891073,
          -0.27364989739150436,
          -0.3495066923832865,
          -0.2800989382039359,
          -0.1300622173090999,
          -0.28035124901903813,
          -0.35131339131653133,
          -0.32630040963223844,
          -0.20246179194688266,
          2.2538791930581548,
          -0.35029073120441756,
          -0.27355316326024703,
          1.007699145962629,
          -0.3560568026464803,
          -0.3547000654872843,
          -0.401230515355397,
          -0.16098119057637555,
          -0.3619111143122292,
          -0.35341843676054263,
          -0.3199994788737414,
          -0.3571868719064772,
          -0.4034854817143922,
          -0.2775942613312708,
          -0.35469536613387415,
          -0.3353956426401901,
          -0.3570481499386091,
          -0.18648981475225596,
          -0.1231509900320625,
          -0.29522119926617446,
          0.4598511702972751,
          -0.147362731140662,
          -0.4005245080951259,
          -0.27930147519855986,
          -0.3268308112816695,
          -0.4009810358531701,
          -0.3548171480437313,
          0.5804913421083157,
          -0.35766420781291675,
          -0.32631328384221314,
          -0.3360825542264694,
          -0.3059935029352172,
          -0.40104806630663087,
          -0.4037129205146214,
          3.717239683540474,
          0.10848845141059851,
          -0.40125021572541497,
          -0.3256982670065277,
          -0.32652394836420356,
          -0.27476875110711313,
          -0.32704273695166863,
          -0.39533312415505717,
          -0.24067071154146644,
          -0.10065288786856866,
          -0.3910777814803207,
          -0.3263203823416457,
          -0.3193783827208577,
          -0.40027839566807977,
          -0.3247581880652361,
          -0.3561887797997332,
          -0.41138044642011523,
          -0.3197170974373152,
          3.700518492452713,
          -0.08745742779028183,
          -0.32195039819247123,
          -0.3495708180880595,
          -0.2796433737323195,
          3.7103959579595425,
          3.711641271817503,
          -0.2556480932942351,
          -0.35612458530807184,
          -0.38434669468130506,
          2.4542432289118135,
          -0.3252041901547046,
          -0.2807480655046486
         ],
         "y": [
          0.9756806365463208,
          0.9756813154732469,
          1.6130002370157512,
          1.2178709014942615,
          1.4379940110447953,
          0.8339662458569697,
          0.687012321739471,
          1.8274960860397942,
          0.9756763677667627,
          0.9758608832185455,
          0.975715545000903,
          0.9756803679607806,
          0.9756803699666964,
          0.35224106340143213,
          0.8617711225129011,
          1.5739357314736413,
          0.18538894425831187,
          0.9756385962332285,
          1.0713945305057566,
          1.2178733465669873,
          2.1844924905957814,
          0.8347586551103996,
          0.8330779964956658,
          0.8287138495898879,
          1.781067063293727,
          1.7810526160966023,
          0.4892359980259131,
          0.9755080346115389,
          0.9756466037267642,
          0.9839963972410576,
          1.0709327792962846,
          1.2178806891368101,
          0.162536579782546,
          1.6367611051449,
          1.2178754820193087,
          0.9750942080087157,
          0.9756387513705947,
          0.4069846820324882,
          1.2178795736324033,
          0.16259831426194857,
          1.7810577042738562,
          0.975161265102888,
          0.6958535643569695,
          1.6443561168052772,
          0.8339511555143931,
          0.8617877330228974,
          0.8287260538214142,
          1.7810421542759254,
          0.8284872078704448,
          0.9756810529311143,
          1.7810447163917833,
          1.0709079313598133,
          0.9756727013776297,
          1.2178811187470857,
          2.691625276321075,
          1.8438502642753865,
          0.9072620075729809,
          0.8286905738438279,
          1.7810267855908217,
          0.8334290935663614,
          1.8276743890888412,
          0.779435643122421,
          0.8339669212118449,
          1.2060960785095558,
          0.8339737907039041,
          1.4649943477923764,
          0.9756596124362684,
          0.828605736339905,
          1.2176680827806174,
          0.7836319985438347,
          0.8339570175563038,
          0.3627522256845097,
          1.5739285666026257,
          1.2178767563916302,
          0.8338535422201191,
          0.8336882473844154,
          1.4621111614256133,
          1.217809579499266,
          1.685597246155362,
          0.974788579484403,
          0.9756570339549245,
          0.9756528678320706,
          1.633975170935888,
          1.0707359548467996,
          1.2178570367239758,
          0.9756423594596092,
          0.833966610506142,
          1.217879191859096,
          0.9756695805999902,
          0.9756811868339713,
          0.8287664515316004,
          0.15654907661198897,
          1.8658791261432544,
          1.5739135810803921,
          0.9756901458022086,
          1.217113742662447,
          1.5739538519231668,
          1.6340853285462054,
          2.0527380067260896,
          1.5737702082375677,
          1.8676461080330402,
          2.066958556021194,
          1.2178690520263427,
          1.8067229207940825,
          1.2178796193445376,
          1.573920235984852,
          0.9756638497923334,
          0.9756577546760082,
          1.5739285666026257,
          1.2178487300013683,
          0.8339705250804709,
          0.9756678544716629,
          0.7596856137490346,
          0.9756680619307407,
          0.9753184840950682,
          1.2178781137023078,
          0.9756021785255747,
          0.8200576241988036,
          0.9756743241552325,
          0.9756797158056242,
          1.606113074639136,
          0.550868428697821,
          0.97540675920997,
          0.8339671581612123,
          1.2178770437679964,
          0.9756727629343432,
          0.9756684116808189,
          0.8286882973092642,
          0.2777615895404988,
          1.6340819894325882,
          0.9754029492988562,
          0.8287092434440055,
          1.2178282880671278,
          2.009351966031871,
          1.2178503225839012,
          1.5739037341363356,
          1.2178306590904036,
          1.5738234486439486,
          1.2176345259771335,
          0.9756702520860456,
          0.9756649076598553,
          0.9751194274841559,
          0.6449431392342337,
          1.217863106224897,
          0.8276793599610459,
          1.5739205108136731,
          0.9756277534177717,
          1.788697217736687,
          0.6869065525036308,
          1.6855773361589443,
          1.7049670133985757,
          1.4621335809218752,
          1.4620885034313387,
          1.7506109879388068,
          1.7810375092443904,
          0.9501788093693644,
          1.7810439253335526,
          1.7152454308922356,
          1.750622484100356,
          1.2178789178919476,
          0.8287138658559354,
          1.573900675806253,
          0.9756590929248679,
          0.975679470271495,
          1.4391933011371132,
          1.6486512744766257,
          1.2178675929692824,
          0.48906446825934863,
          0.9756721282222814,
          0.7485987734154071,
          0.9753930545816029,
          0.8339482063486273,
          1.461623401481814,
          1.7845229861601775,
          0.9756694579773022,
          1.7529772469504783,
          1.6925085211291728,
          0.9756769766050417,
          0.6845167506503727,
          1.2178106903865786,
          2.0667990772547715,
          1.4533532904981412,
          1.7809824950276036,
          0.975594233001856,
          1.315163916446703,
          1.606112094108941,
          0.9490063053517747,
          0.9755988222004996,
          1.2178654361013088,
          1.6060588932110522,
          0.9753430724107733,
          0.975679101586057,
          1.0709078571842012,
          1.6855968708598539,
          -0.042843385387919854,
          0.2195899553777723,
          0.9756170204959969,
          1.6337022695071208,
          0.98200191366204,
          1.217867270525388,
          1.4816390398119939,
          0.8286559883406072,
          1.536749261074161,
          1.4621138547293415,
          0.9756791923819721,
          0.9756781651374276,
          0.8285134897504852,
          1.66738931736914,
          1.573890927060511,
          0.9756665987701463,
          2.0463265215186235,
          1.7530081742435741,
          1.5738923539223189,
          0.828652851833554,
          0.9732037330470378,
          1.1710451317323416,
          0.8287147271609124,
          0.9728482265148825,
          0.8286958074835196,
          1.8715059311053597,
          0.975639610029363,
          1.6806810883238077,
          0.035037996288074275,
          1.6057544038099014,
          0.6869760525851313,
          1.8309113132336365,
          0.9756032935731599,
          1.6061087320411447,
          1.7530795930067333,
          0.8192430348634105,
          0.8955420429543446,
          1.6060811133861816,
          0.9751208185146543,
          1.0708929871356918,
          1.2178613504688083,
          0.8286029600260081,
          1.5738188824257822,
          0.9142647811041269,
          1.0708635380878062,
          0.9658769906958765,
          1.242521708786771,
          1.3346841657397281,
          1.2060597046667902,
          1.0758002250972065,
          1.7530605092156648,
          -0.0048753529580978575,
          0.9756730400425125,
          1.753075300625611,
          1.6061115549358755,
          0.9424357221205908,
          1.0709075397697723,
          0.9756393113850236,
          1.4814483579997866,
          1.8690001482807896,
          1.2176492961438752,
          1.2178705932127236,
          2.0667203446275644,
          0.9603787662302888,
          1.2179494988195296,
          0.9755693697377209,
          0.9756560166505457,
          0.6870053935403291,
          0.9756833685792939,
          1.2177237915717607,
          0.9700646502140865,
          0.8389604211255055,
          1.2174595365682237,
          0.9756892361131901,
          0.9755707860815258,
          1.2178210481153111,
          0.9756202141723324,
          1.5739301521381588,
          0.7152825977192405,
          0.8339404710133972,
          2.066942304629281,
          0.8259365794929242,
          0.9755837161035715,
          0.4892037431168788,
          1.7810482893584505,
          2.0672875232675474,
          2.067316410937986,
          0.6867382487262297,
          1.5739319068541504,
          1.3308790113136053,
          0.9225422911225445,
          0.9755445342265694,
          0.8287178176205384
         ],
         "z": [
          -0.5030038121555875,
          -0.5033161471742237,
          -0.5969577952877484,
          -0.44320977112743326,
          0.26831306878137967,
          -0.34532265314740607,
          -0.09021662733195143,
          -0.6526553958332224,
          -0.5030094462949017,
          -0.5031807155353308,
          -0.5030380730933623,
          -0.5030038414489646,
          -0.5030041363393936,
          -0.2808674650956078,
          -0.4281075444624708,
          -0.16210660039198707,
          -0.23970552862335032,
          -0.5030328528064983,
          -0.1885651176031977,
          -0.44321217084823983,
          -0.523756145689079,
          -0.2538234122766502,
          -0.34585526318508647,
          -0.2479002065197837,
          -0.5778591247916276,
          -0.5778449455653313,
          -0.2980671657142374,
          -0.5030804659113998,
          -0.5030278232190615,
          -0.5111653296696191,
          -0.188111931089909,
          -0.44320648925613293,
          0.05232861189431752,
          -0.17398330655197225,
          -0.4432072365703074,
          -0.5033656103425245,
          -0.5030212881975628,
          -0.21725214945034274,
          -0.4432086159954954,
          0.052326606827897734,
          -0.5778499393655885,
          -0.5030799175790835,
          -0.2099482049140098,
          -0.24953472516864553,
          -0.3453347915030754,
          -0.4281212808816201,
          -0.2479027054368279,
          -0.5778417079148184,
          -0.24796121138947663,
          -0.5030042207925497,
          -0.5778430508209266,
          -0.18809926090898335,
          -0.5030077410148851,
          -0.44320691031202814,
          -0.2927365454529257,
          -0.594761544975634,
          -0.28928143543610213,
          -0.24792646789606343,
          -0.5778488863432315,
          -0.34536841899702814,
          -0.6526407529725743,
          -0.4095491144078823,
          -0.34532331597560223,
          -0.44719460573045156,
          -0.3453233208507757,
          -0.5867348031036368,
          -0.5030077834066731,
          -0.24791412187308387,
          -0.44322278967919476,
          -0.261643568261207,
          -0.34532414119784566,
          -0.26900801493955856,
          -0.16211128528585975,
          -0.4432465671286971,
          -0.3453296333946815,
          -0.34534449032118025,
          -0.5839578208284454,
          -0.4432181302329967,
          -0.1568316160598656,
          -0.5032999880806445,
          -0.5030066197195816,
          -0.5030351428227918,
          -0.32274042401136943,
          -0.18830365653680325,
          -0.4432125671412324,
          -0.5030189709283047,
          -0.34532242518952055,
          -0.4432067766948345,
          -0.5030052639657784,
          -0.5030043522117372,
          -0.24794235383849678,
          -0.13859185735064417,
          -0.7105932304949526,
          -0.16212821326514051,
          -0.5030131450064173,
          -0.44333253290060004,
          -0.16214781841590847,
          -0.32273283437973677,
          -0.6981178418997049,
          -0.1621204862041695,
          -0.7050079099691803,
          -0.4105248503823634,
          -0.44321264271149585,
          -0.6035370768827532,
          -0.44320769616704486,
          -0.1621206844899687,
          -0.5030099151487246,
          -0.5030059601046925,
          -0.16211128528585975,
          -0.4432102729285246,
          -0.3453256813117442,
          -0.5030105999754444,
          -0.05845333289634365,
          -0.5030078743693182,
          -0.5030295617828976,
          -0.44320689022288984,
          -0.5030111708276364,
          -0.2584437110924944,
          -0.5030052327886658,
          -0.5030048510016821,
          -0.2500027275075816,
          -0.3190092975341733,
          -0.5030279364706086,
          -0.3453229626865248,
          -0.4432083908963636,
          -0.5030078014298266,
          -0.5030046635150749,
          -0.2478978706325978,
          -0.2129913647869142,
          -0.32273660180866875,
          -0.5033171189460556,
          -0.2479063753572288,
          -0.4432136438947831,
          -0.480677323921666,
          -0.4432411281432938,
          -0.16213980924103236,
          -0.4432159709396272,
          -0.1622307375923608,
          -0.4432578131359523,
          -0.5030060472666107,
          -0.5030051301108328,
          -0.503038855976713,
          -0.09285869114031733,
          -0.44321266562889516,
          -0.24804711283650382,
          -0.16210923735241525,
          -0.5030134234551704,
          -0.6670970445176102,
          -0.09022271490748764,
          -0.15685103394852715,
          -0.7526340517157502,
          -0.5839329570062735,
          -0.5839531584044141,
          -0.6881870638214942,
          -0.5778476942225755,
          -0.5072671722083372,
          -0.5778474873803071,
          -0.16297730086690793,
          -0.6881983467488846,
          -0.4432103200513267,
          -0.24790094066443788,
          -0.16210828288265214,
          -0.503010936224499,
          -0.5030051280310044,
          0.26919185446053817,
          -0.19419845871000044,
          -0.44320945318713645,
          -0.2981309462774511,
          -0.5030046788917233,
          -0.035050939615796146,
          -0.5173676502813691,
          -0.3453506440293268,
          -0.5841293942150875,
          -0.4285644482301231,
          -0.5030051436175316,
          -0.5051234817830172,
          -0.25962715495129546,
          -0.5030088836898179,
          -0.09303261272662335,
          -0.443222149732439,
          -0.4105880209640534,
          -0.5928849706903101,
          -0.5778991522444543,
          -0.5030420383467468,
          -0.3288274271758004,
          -0.250004694381739,
          -0.5061164161374303,
          -0.5030113918172887,
          -0.4432208107244638,
          -0.25001106461347283,
          -0.5031997683281233,
          -0.5030046490153637,
          -0.18809977395264016,
          -0.15682626805622174,
          0.09318857405450222,
          -0.3557506245508931,
          -0.5030772917274421,
          -0.32282409050100397,
          -0.45769514891872737,
          -0.4432079650371487,
          -0.6298710509156151,
          -0.2479065841373723,
          -0.11470619672155083,
          -0.5839370304384529,
          -0.5030041522837312,
          -0.5030043157796954,
          -0.24798700578553612,
          -0.22570066246208326,
          -0.16211418124677004,
          -0.5030076100347306,
          -0.3264385497419496,
          -0.5051538354276549,
          -0.16211089489522082,
          -0.018649370924676587,
          -0.5035735124748495,
          -0.47594746376569175,
          -0.24790682079593016,
          -0.5061995415394186,
          -0.2478987972281265,
          -0.7044573834117103,
          -0.5030127574346624,
          -0.39753896579051495,
          -0.40567590838627177,
          -0.2500227199929629,
          -0.09023244582041201,
          -0.2886464110957614,
          -0.27376840984989037,
          -0.2500019805179957,
          -0.5051097784866175,
          -0.2484846175226255,
          -0.2901576395022524,
          -0.2500211557735411,
          -0.5030402212059717,
          -0.18810509839503697,
          -0.44321680087346715,
          -0.2479342141150545,
          -0.162114945816439,
          -0.2676337799225677,
          -0.18810255853141536,
          -0.5039271890565546,
          1.0284979084405803,
          -0.3747637998437128,
          -0.7816793981124718,
          -0.1928890940856799,
          -0.5051196665333995,
          0.025375405629757417,
          -0.5030086592415511,
          -0.5051137001573903,
          -0.25000028106741634,
          -0.5141966232746815,
          -0.18809870082923677,
          -0.5030124643296652,
          -0.6299416770382184,
          -0.7048687114265533,
          -0.4432254418662565,
          -0.4432141553115024,
          -0.4108036704118106,
          -0.508490285716278,
          -0.443274022050933,
          -0.5030117778193062,
          -0.5030114344835305,
          -0.09021480730829559,
          -0.503006493489411,
          -0.44334542300628066,
          -0.503643348855694,
          -0.35032261669330034,
          -0.44337899120088364,
          -0.5030210398421529,
          -0.5031303365800401,
          -0.44326980932305676,
          -0.5030382454389696,
          -0.16210639713459407,
          0.006206542003982823,
          -0.34534598138854405,
          -0.41052935714153105,
          -0.25102858177536663,
          -0.5030844424284199,
          -0.2980685495618566,
          -0.5778407693819938,
          -0.4107744854184254,
          -0.4108028372719234,
          -0.09052615830039595,
          -0.1621079049669206,
          -0.20363938937814718,
          -0.21268911426361603,
          -0.5030166951363849,
          -0.24789520784684846
         ]
        },
        {
         "customdata": [
          [
           "SHA-256"
          ],
          [
           "Ethash"
          ],
          [
           "Scrypt"
          ],
          [
           "CryptoNight-V7"
          ],
          [
           "Ethash"
          ],
          [
           "Equihash"
          ],
          [
           "Multiple"
          ],
          [
           "Scrypt"
          ],
          [
           "X11"
          ],
          [
           "Scrypt"
          ],
          [
           "Multiple"
          ],
          [
           "Scrypt"
          ],
          [
           "SHA-256"
          ],
          [
           "Scrypt"
          ],
          [
           "Scrypt"
          ],
          [
           "Quark"
          ],
          [
           "Groestl"
          ],
          [
           "Scrypt"
          ],
          [
           "Scrypt"
          ],
          [
           "Scrypt"
          ],
          [
           "X11"
          ],
          [
           "Multiple"
          ],
          [
           "SHA-256"
          ],
          [
           "Scrypt"
          ],
          [
           "Scrypt"
          ],
          [
           "Scrypt"
          ],
          [
           "Scrypt"
          ],
          [
           "Scrypt"
          ],
          [
           "NeoScrypt"
          ],
          [
           "Scrypt"
          ],
          [
           "Scrypt"
          ],
          [
           "Scrypt"
          ],
          [
           "Scrypt"
          ],
          [
           "SHA-256"
          ],
          [
           "Scrypt"
          ],
          [
           "Scrypt"
          ],
          [
           "Scrypt"
          ],
          [
           "Scrypt"
          ],
          [
           "HybridScryptHash256"
          ],
          [
           "Scrypt"
          ],
          [
           "Scrypt"
          ],
          [
           "SHA-256"
          ],
          [
           "Scrypt"
          ],
          [
           "Scrypt"
          ],
          [
           "Scrypt"
          ],
          [
           "Scrypt"
          ],
          [
           "SHA-256"
          ],
          [
           "SHA-256"
          ],
          [
           "SHA-256"
          ],
          [
           "SHA-256"
          ],
          [
           "SHA-256"
          ],
          [
           "X11"
          ],
          [
           "Scrypt"
          ],
          [
           "Lyra2REv2"
          ],
          [
           "Scrypt"
          ],
          [
           "SHA-256"
          ],
          [
           "CryptoNight"
          ],
          [
           "CryptoNight"
          ],
          [
           "Scrypt"
          ],
          [
           "Scrypt"
          ],
          [
           "Scrypt"
          ],
          [
           "Scrypt"
          ],
          [
           "Scrypt"
          ],
          [
           "Scrypt"
          ],
          [
           "Stanford Folding"
          ],
          [
           "Multiple"
          ],
          [
           "QuBit"
          ],
          [
           "Scrypt"
          ],
          [
           "Scrypt"
          ],
          [
           "M7 POW"
          ],
          [
           "Scrypt"
          ],
          [
           "SHA-256"
          ],
          [
           "Scrypt"
          ],
          [
           "X11"
          ],
          [
           "Lyra2RE"
          ],
          [
           "SHA-256"
          ],
          [
           "X11"
          ],
          [
           "Scrypt"
          ],
          [
           "Scrypt"
          ],
          [
           "Ethash"
          ],
          [
           "Blake2b"
          ],
          [
           "X11"
          ],
          [
           "SHA-256"
          ],
          [
           "Scrypt"
          ],
          [
           "1GB AES Pattern Search"
          ],
          [
           "Scrypt"
          ],
          [
           "SHA-256"
          ],
          [
           "X11"
          ],
          [
           "Dagger"
          ],
          [
           "Scrypt"
          ],
          [
           "X11GOST"
          ],
          [
           "Scrypt"
          ],
          [
           "X11"
          ],
          [
           "Scrypt"
          ],
          [
           "X11"
          ],
          [
           "Equihash"
          ],
          [
           "CryptoNight"
          ],
          [
           "SHA-256"
          ],
          [
           "Multiple"
          ],
          [
           "Scrypt"
          ],
          [
           "SHA-256"
          ],
          [
           "Scrypt"
          ],
          [
           "Lyra2Z"
          ],
          [
           "Ethash"
          ],
          [
           "Equihash"
          ],
          [
           "Scrypt"
          ],
          [
           "X11"
          ],
          [
           "X11"
          ],
          [
           "CryptoNight"
          ],
          [
           "Scrypt"
          ],
          [
           "CryptoNight"
          ],
          [
           "Lyra2RE"
          ],
          [
           "X11"
          ],
          [
           "CryptoNight-V7"
          ],
          [
           "Scrypt"
          ],
          [
           "X11"
          ],
          [
           "Equihash"
          ],
          [
           "Scrypt"
          ],
          [
           "Lyra2RE"
          ],
          [
           "Dagger-Hashimoto"
          ],
          [
           "Scrypt"
          ],
          [
           "NIST5"
          ],
          [
           "Scrypt"
          ],
          [
           "SHA-256"
          ],
          [
           "Scrypt"
          ],
          [
           "CryptoNight-V7"
          ],
          [
           "Argon2d"
          ],
          [
           "Blake2b"
          ],
          [
           "Cloverhash"
          ],
          [
           "CryptoNight"
          ],
          [
           "X11"
          ],
          [
           "Scrypt"
          ],
          [
           "Scrypt"
          ],
          [
           "X11"
          ],
          [
           "X11"
          ],
          [
           "CryptoNight"
          ],
          [
           "Time Travel"
          ],
          [
           "Scrypt"
          ],
          [
           "Keccak"
          ],
          [
           "X11"
          ],
          [
           "SHA-256"
          ],
          [
           "Scrypt"
          ],
          [
           "Scrypt"
          ],
          [
           "Scrypt"
          ],
          [
           "Scrypt"
          ],
          [
           "Scrypt"
          ],
          [
           "Scrypt"
          ],
          [
           "CryptoNight"
          ],
          [
           "Equihash"
          ],
          [
           "X11"
          ],
          [
           "NeoScrypt"
          ],
          [
           "Equihash"
          ],
          [
           "Dagger"
          ],
          [
           "Scrypt"
          ],
          [
           "X11"
          ],
          [
           "NeoScrypt"
          ],
          [
           "Ethash"
          ],
          [
           "NeoScrypt"
          ],
          [
           "Multiple"
          ],
          [
           "CryptoNight"
          ],
          [
           "CryptoNight"
          ],
          [
           "Ethash"
          ],
          [
           "X11"
          ],
          [
           "CryptoNight-V7"
          ],
          [
           "Scrypt"
          ],
          [
           "BLAKE256"
          ],
          [
           "X11"
          ],
          [
           "NeoScrypt"
          ],
          [
           "NeoScrypt"
          ],
          [
           "Scrypt"
          ],
          [
           "X11"
          ],
          [
           "SHA-256"
          ],
          [
           "C11"
          ],
          [
           "CryptoNight"
          ],
          [
           "SkunkHash"
          ],
          [
           "CryptoNight"
          ],
          [
           "Scrypt"
          ],
          [
           "Dagger"
          ],
          [
           "Lyra2REv2"
          ],
          [
           "Scrypt"
          ],
          [
           "Scrypt"
          ],
          [
           "X11"
          ],
          [
           "Ethash"
          ],
          [
           "CryptoNight"
          ],
          [
           "Scrypt"
          ],
          [
           "IMesh"
          ],
          [
           "Equihash"
          ],
          [
           "Lyra2Z"
          ],
          [
           "X11"
          ],
          [
           "CryptoNight"
          ],
          [
           "NIST5"
          ],
          [
           "Lyra2RE"
          ],
          [
           "Tribus"
          ],
          [
           "Lyra2Z"
          ],
          [
           "CryptoNight"
          ],
          [
           "CryptoNight Heavy"
          ],
          [
           "CryptoNight"
          ],
          [
           "Jump Consistent Hash"
          ],
          [
           "CryptoNight"
          ],
          [
           "X16R"
          ],
          [
           "HMQ1725"
          ],
          [
           "X11"
          ],
          [
           "Scrypt"
          ],
          [
           "CryptoNight-V7"
          ],
          [
           "Cryptonight-GPU"
          ],
          [
           "XEVAN"
          ],
          [
           "CryptoNight Heavy"
          ],
          [
           "SHA-256"
          ],
          [
           "X11"
          ],
          [
           "X16R"
          ],
          [
           "Equihash"
          ],
          [
           "Lyra2Z"
          ],
          [
           "SHA-256"
          ],
          [
           "CryptoNight"
          ],
          [
           "Blake"
          ],
          [
           "Blake"
          ],
          [
           "Exosis"
          ],
          [
           "Scrypt"
          ],
          [
           "Equihash"
          ],
          [
           "Equihash"
          ],
          [
           "QuBit"
          ],
          [
           "SHA-256"
          ],
          [
           "X13"
          ],
          [
           "SHA-256"
          ],
          [
           "Scrypt"
          ],
          [
           "NeoScrypt"
          ],
          [
           "Blake"
          ],
          [
           "Scrypt"
          ],
          [
           "SHA-256"
          ],
          [
           "Scrypt"
          ],
          [
           "Groestl"
          ],
          [
           "Scrypt"
          ],
          [
           "Scrypt"
          ],
          [
           "Multiple"
          ],
          [
           "Equihash+Scrypt"
          ],
          [
           "Ethash"
          ],
          [
           "CryptoNight"
          ],
          [
           "Equihash"
          ]
         ],
         "hovertemplate": "<b>%{hovertext}</b><br><br>Class=%{marker.color}<br>PC 1=%{x}<br>PC 2=%{y}<br>PC 3=%{z}<br>Algorithm=%{customdata[0]}<extra></extra>",
         "hovertext": [
          "Bitcoin",
          "Ethereum",
          "Litecoin",
          "Monero",
          "Ethereum Classic",
          "ZCash",
          "DigiByte",
          "ProsperCoin",
          "Spreadcoin",
          "Argentum",
          "MyriadCoin",
          "MoonCoin",
          "ZetaCoin",
          "SexCoin",
          "Quatloo",
          "QuarkCoin",
          "Riecoin",
          "Digitalcoin ",
          "Catcoin",
          "CannaCoin",
          "CryptCoin",
          "Verge",
          "DevCoin",
          "EarthCoin",
          "E-Gulden",
          "Einsteinium",
          "Emerald",
          "Franko",
          "FeatherCoin",
          "GrandCoin",
          "GlobalCoin",
          "GoldCoin",
          "Infinite Coin",
          "IXcoin",
          "KrugerCoin",
          "LuckyCoin",
          "Litebar ",
          "MegaCoin",
          "MediterraneanCoin",
          "MinCoin",
          "NobleCoin",
          "Namecoin",
          "NyanCoin",
          "RonPaulCoin",
          "StableCoin",
          "SmartCoin",
          "SysCoin",
          "TigerCoin",
          "TerraCoin",
          "UnbreakableCoin",
          "Unobtanium",
          "UroCoin",
          "ViaCoin",
          "Vertcoin",
          "WorldCoin",
          "JouleCoin",
          "ByteCoin",
          "DigitalNote ",
          "MonaCoin",
          "Gulden",
          "PesetaCoin",
          "Wild Beast Coin",
          "Flo",
          "ArtByte",
          "Folding Coin",
          "Unitus",
          "CypherPunkCoin",
          "OmniCron",
          "GreenCoin",
          "Cryptonite",
          "MasterCoin",
          "SoonCoin",
          "1Credit",
          "MarsCoin ",
          "Crypto",
          "Anarchists Prime",
          "BowsCoin",
          "Song Coin",
          "BitZeny",
          "Expanse",
          "Siacoin",
          "MindCoin",
          "I0coin",
          "Revolution VR",
          "HOdlcoin",
          "Gamecredits",
          "CarpeDiemCoin",
          "Adzcoin",
          "SoilCoin",
          "YoCoin",
          "SibCoin",
          "Francs",
          "BolivarCoin",
          "Omni",
          "PizzaCoin",
          "Komodo",
          "Karbo",
          "ZayedCoin",
          "Circuits of Value",
          "DopeCoin",
          "DollarCoin",
          "Shilling",
          "ZCoin",
          "Elementrem",
          "ZClassic",
          "KiloCoin",
          "ArtexCoin",
          "Kurrent",
          "Cannabis Industry Coin",
          "OsmiumCoin",
          "Bikercoins",
          "HexxCoin",
          "PacCoin",
          "Citadel",
          "BeaverCoin",
          "VaultCoin",
          "Zero",
          "Canada eCoin",
          "Zoin",
          "DubaiCoin",
          "EB3coin",
          "Coinonat",
          "BenjiRolls",
          "ILCoin",
          "EquiTrader",
          "Quantum Resistant Ledger",
          "Dynamic",
          "Nano",
          "ChanCoin",
          "Dinastycoin",
          "DigitalPrice",
          "Unify",
          "SocialCoin",
          "ArcticCoin",
          "DAS",
          "LeviarCoin",
          "Bitcore",
          "gCn Coin",
          "SmartCash",
          "Onix",
          "Bitcoin Cash",
          "Sojourn Coin",
          "NewYorkCoin",
          "FrazCoin",
          "Kronecoin",
          "AdCoin",
          "Linx",
          "Sumokoin",
          "BitcoinZ",
          "Elements",
          "VIVO Coin",
          "Bitcoin Gold",
          "Pirl",
          "eBoost",
          "Pura",
          "Innova",
          "Ellaism",
          "GoByte",
          "SHIELD",
          "UltraNote",
          "BitCoal",
          "DaxxCoin",
          "AC3",
          "Lethean",
          "PopularCoin",
          "Photon",
          "Sucre",
          "SparksPay",
          "GunCoin",
          "IrishCoin",
          "Pioneer Coin",
          "UnitedBitcoin",
          "Interzone",
          "TurtleCoin",
          "MUNcoin",
          "Niobio Cash",
          "ShareChain",
          "Travelflex",
          "KREDS",
          "BitFlip",
          "LottoCoin",
          "Crypto Improvement Fund",
          "Callisto Network",
          "BitTube",
          "Poseidon",
          "Aidos Kuneen",
          "Bitrolium",
          "Alpenschillling",
          "FuturoCoin",
          "Monero Classic",
          "Jumpcoin",
          "Infinex",
          "KEYCO",
          "GINcoin",
          "PlatinCoin",
          "Loki",
          "Newton Coin",
          "MassGrid",
          "PluraCoin",
          "Motion",
          "PlusOneCoin",
          "Axe",
          "HexCoin",
          "Webchain",
          "Ryo",
          "Urals Coin",
          "Qwertycoin",
          "Project Pai",
          "Azart",
          "Xchange",
          "CrypticCoin",
          "Actinium",
          "Bitcoin SV",
          "FREDEnergy",
          "Universal Molecule",
          "Lithium",
          "Exosis",
          "Block-Logic",
          "Beam",
          "Bithereum",
          "SLICE",
          "BLAST",
          "Bitcoin Rhodium",
          "GlobalToken",
          "SolarCoin",
          "UFO Coin",
          "BlakeCoin",
          "Crypto Escudo",
          "Crown Coin",
          "SmileyCoin",
          "Groestlcoin",
          "Bata",
          "Pakcoin",
          "JoinCoin",
          "Vollar",
          "Reality Clash",
          "Beldex",
          "Horizen"
         ],
         "legendgroup": "0",
         "marker": {
          "color": [
           0,
           0,
           0,
           0,
           0,
           0,
           0,
           0,
           0,
           0,
           0,
           0,
           0,
           0,
           0,
           0,
           0,
           0,
           0,
           0,
           0,
           0,
           0,
           0,
           0,
           0,
           0,
           0,
           0,
           0,
           0,
           0,
           0,
           0,
           0,
           0,
           0,
           0,
           0,
           0,
           0,
           0,
           0,
           0,
           0,
           0,
           0,
           0,
           0,
           0,
           0,
           0,
           0,
           0,
           0,
           0,
           0,
           0,
           0,
           0,
           0,
           0,
           0,
           0,
           0,
           0,
           0,
           0,
           0,
           0,
           0,
           0,
           0,
           0,
           0,
           0,
           0,
           0,
           0,
           0,
           0,
           0,
           0,
           0,
           0,
           0,
           0,
           0,
           0,
           0,
           0,
           0,
           0,
           0,
           0,
           0,
           0,
           0,
           0,
           0,
           0,
           0,
           0,
           0,
           0,
           0,
           0,
           0,
           0,
           0,
           0,
           0,
           0,
           0,
           0,
           0,
           0,
           0,
           0,
           0,
           0,
           0,
           0,
           0,
           0,
           0,
           0,
           0,
           0,
           0,
           0,
           0,
           0,
           0,
           0,
           0,
           0,
           0,
           0,
           0,
           0,
           0,
           0,
           0,
           0,
           0,
           0,
           0,
           0,
           0,
           0,
           0,
           0,
           0,
           0,
           0,
           0,
           0,
           0,
           0,
           0,
           0,
           0,
           0,
           0,
           0,
           0,
           0,
           0,
           0,
           0,
           0,
           0,
           0,
           0,
           0,
           0,
           0,
           0,
           0,
           0,
           0,
           0,
           0,
           0,
           0,
           0,
           0,
           0,
           0,
           0,
           0,
           0,
           0,
           0,
           0,
           0,
           0,
           0,
           0,
           0,
           0,
           0,
           0,
           0,
           0,
           0,
           0,
           0,
           0,
           0,
           0,
           0,
           0,
           0,
           0,
           0,
           0,
           0,
           0,
           0,
           0,
           0,
           0,
           0,
           0,
           0,
           0,
           0,
           0,
           0,
           0,
           0,
           0,
           0,
           0,
           0,
           0
          ],
          "coloraxis": "coloraxis",
          "symbol": "diamond"
         },
         "mode": "markers",
         "name": "0",
         "scene": "scene",
         "showlegend": true,
         "type": "scatter3d",
         "x": [
          -0.15351899746626582,
          -0.15707785129266416,
          -0.1583056408595274,
          -0.15073339096979294,
          -0.15551850918444815,
          -0.15888771410344957,
          0.15620820295398416,
          -0.15945295529988057,
          -0.23645024405522094,
          -0.1590691521359459,
          -0.09743114948945014,
          2.564789246322044,
          -0.15060119167497213,
          -0.15632200567142804,
          -0.15887301718689367,
          -0.2289249981413124,
          -0.20987211919171944,
          -0.15892179651658084,
          -0.15943520396992047,
          -0.15952173791800356,
          -0.2365396722809812,
          0.1799840460780728,
          0.22468121019781925,
          0.08944158639836405,
          -0.15926779065565785,
          -0.15486901810481046,
          -0.15920703339002568,
          -0.1595787952032852,
          -0.17758778890827026,
          -0.13878187637935263,
          -0.15837276695566366,
          -0.15865048773823606,
          1.5909721901557823,
          -0.15348032910699755,
          -0.15593737469690006,
          -0.15929425736150046,
          -0.15964940399942928,
          -0.15890796026941878,
          -0.13039716520357922,
          -0.15953056083917622,
          -0.02431497194705676,
          -0.15355801557029197,
          -0.1531885260691105,
          -0.15950999046860792,
          -0.1576026352886764,
          -0.15899625429069722,
          -0.1406981845158026,
          -0.15302127880349042,
          -0.1533087608869476,
          -0.15329175796252692,
          -0.15388298173844714,
          -0.23671372313801234,
          -0.15922620405827378,
          -0.19373686211149363,
          -0.15632673592990387,
          -0.15308863788883698,
          3.863227274322222,
          0.4590010666655624,
          -0.15809275273473863,
          -0.14267778000313558,
          -0.1568103635824631,
          -0.15965161644089085,
          -0.15667526609230353,
          -0.14288606392042424,
          -0.13060423437963392,
          -0.1314694868891866,
          -0.18858441707017476,
          -0.1595245704652503,
          -0.03234582798437476,
          -0.12955771452192424,
          -0.15966051616117843,
          -0.15358582028374676,
          0.4930642153907066,
          -0.23610033457051793,
          -0.15601100931041373,
          -0.15332545286197,
          -0.23638550311370152,
          -0.15778262192967404,
          -0.15697410336544518,
          -0.15814636744619323,
          0.38343488182748847,
          -0.23642093070474393,
          -0.15348145255709378,
          -0.15561458050798732,
          -0.1553425242282469,
          -0.1582225261109867,
          0.26539549951982105,
          -0.23558088309101446,
          -0.1594987048819619,
          -0.15847025916950908,
          -0.16814249621370492,
          -0.15945023698216026,
          -0.23638414509353234,
          -0.15966057471096573,
          -0.2365342630750507,
          -0.2848703726663415,
          0.3037615647647841,
          -0.15374178361768254,
          -0.11152336639172196,
          -0.15682466475170723,
          -0.15370037346004725,
          -0.15932366785275104,
          -0.14679868711033545,
          -0.15788827896776814,
          -0.15890935235087786,
          -0.0863225502764335,
          -0.22310480079620953,
          -0.234360443390295,
          0.30375591448693606,
          -0.15964229631264362,
          0.3038867554446728,
          -0.15655193987146987,
          0.479333192851706,
          -0.14949703007566126,
          -0.15961055286755166,
          -0.22926196736007243,
          -0.1589217361301401,
          -0.15774206521146003,
          -0.15627005255380025,
          -0.1424373077068703,
          -0.13050888406727887,
          -0.19381196722649752,
          -0.15917252656284053,
          -0.12003587490339485,
          -0.1589944459680667,
          -0.14935456289171142,
          -0.15002093929590463,
          -0.01726094722274011,
          -0.1533590563248123,
          0.3399117697820469,
          -0.2355892975932293,
          -0.1593139784419727,
          -0.1590771714568772,
          -0.23598433277210218,
          -0.23656231829383131,
          0.30415126308865476,
          -0.18865876409791735,
          3.2532225380344775,
          -0.10768276779225669,
          -0.22742635666308578,
          -0.1535181608639322,
          -0.08516955268428134,
          1.5890716638349807,
          -0.15941192250886024,
          -0.15886307895620472,
          -0.15856377371277694,
          -0.1585506918219706,
          0.3043350250982759,
          0.053596018337102425,
          -0.19090594571687272,
          -0.18228087721503677,
          -0.15876763962070595,
          -0.1582566848848102,
          -0.1577402726100219,
          -0.23210264195663485,
          -0.1821261519501319,
          -0.15625208132646495,
          -0.18222644476369498,
          -0.1216922516798154,
          1.142451927992554,
          0.3037386740772271,
          -0.08107545571639439,
          -0.23184412329832754,
          -0.13845667114548446,
          -0.07572184734663351,
          1.0765657928608892,
          -0.23653629212129854,
          -0.18227842865358238,
          -0.17530985567294635,
          -0.1586622242409399,
          -0.2364616289800203,
          -0.1534975373871963,
          -0.19660593810399432,
          8.04836306338767,
          -0.15191811781576225,
          0.307616644434327,
          0.033561134913816945,
          -0.15775936786492217,
          -0.1792815635250343,
          -0.15923649245159285,
          0.14812622133134473,
          -0.2305971763094648,
          -0.10924956078816005,
          0.31166878473826426,
          -0.15947372033614474,
          -0.13461708945758236,
          -0.1577577804627915,
          -0.14458025055212903,
          -0.23563011007958581,
          0.30392136722823343,
          -0.19387146490879126,
          -0.15639703968786636,
          -0.16993470803584715,
          -0.14688313757772942,
          0.30785296531422174,
          0.5653095716502179,
          2.114032515805422,
          -0.15133493778804824,
          0.3175388722595382,
          -0.1893499605376863,
          -0.13640600535664021,
          -0.23651843579327866,
          -0.15949832723314547,
          -0.13833704578864917,
          -0.17065833994591814,
          -0.17290444091429003,
          3.090193208972942,
          -0.11330815179898455,
          -0.2364897765561465,
          -0.1887771848476029,
          -0.05341667401549887,
          -0.14628035860015262,
          -0.15351819846629192,
          0.3837532868964214,
          -0.15285514450222254,
          -0.15324748844614258,
          -0.14358536439493533,
          -0.1583896162892437,
          -0.15682603602704404,
          -0.15860030230622824,
          -0.18779469727923373,
          -0.15279366489280546,
          -0.112128711746008,
          -0.1516605766460552,
          0.5370218190083228,
          -0.10737375900329514,
          -0.10366998239634224,
          -0.14303679802426686,
          -0.15330813071926488,
          0.5568402773832805,
          -0.209432705122024,
          -0.15957522707285754,
          -0.15752907514500994,
          -0.13220509681561848,
          -0.12646019543014234,
          -0.15792146867680382,
          0.32551603564186243,
          -0.15888877209017305
         ],
         "y": [
          -1.2906505697671216,
          -2.020472192652787,
          -1.1489707316359958,
          -2.2298265181413015,
          -2.0205884664155325,
          -1.9824897304772686,
          -1.8236426940780848,
          -1.1489516122107248,
          -0.9067494715391594,
          -1.1489739242190722,
          -1.8157336602284881,
          -1.364500207846412,
          -1.290690900795187,
          -1.1490452219675695,
          -1.1489955080532193,
          -0.37160631802015853,
          -1.2628825511364488,
          -1.1489590115692523,
          -1.1489512004313438,
          -1.1489475019328386,
          -0.9067500941482229,
          -1.819864390260042,
          -1.2971067748268483,
          -1.1529628345561365,
          -1.1489473169279052,
          -1.1490476628690782,
          -1.1489538928010359,
          -1.14894744318379,
          -1.6355143179809286,
          -1.14948812624597,
          -1.1489621257015852,
          -1.1489701982466787,
          -1.1741011304927327,
          -1.2906496727733185,
          -1.1490474941154143,
          -1.1489472049455067,
          -1.148941904662967,
          -1.1489542145041522,
          -2.1125609367090323,
          -1.148945427168688,
          -1.1566905566901056,
          -1.2906514748739977,
          -1.1490356905179016,
          -1.148952935261253,
          -1.1490749288612188,
          -1.148962941255121,
          -1.2909825481926325,
          -1.2906579070893065,
          -1.2906609374859128,
          -1.2906881285300553,
          -1.2906439500322944,
          -0.9067410648252927,
          -1.1489478041058927,
          -1.2290870021126412,
          -1.1490565261669805,
          -1.2906580090703381,
          -2.3423746119607007,
          -2.2946910761362873,
          -1.1489811249586102,
          -1.1497668000133656,
          -1.1489958522740307,
          -1.1489428837278592,
          -1.1489880825944068,
          -1.1492779970008657,
          -2.15676043114286,
          -1.8150713844973174,
          -1.573716182664638,
          -1.148940476242651,
          -1.1532471831201525,
          -2.204794256562618,
          -1.1489416321227033,
          -1.2906521198627239,
          -1.2005857183985869,
          -0.906750791785726,
          -2.2286352992550067,
          -1.290669861666099,
          -0.9067486956702756,
          -1.1490502409242112,
          -1.149060348743168,
          -2.0205092520445054,
          -2.106172477426749,
          -0.9067458878215149,
          -1.290649698834103,
          -1.1489997744259721,
          -2.184004034104676,
          -1.148968803614845,
          -1.296616958837104,
          -0.9067757646123228,
          -2.2413754013708407,
          -1.1490357837149876,
          -2.2937677648010193,
          -1.1489508232204078,
          -0.9067515679010596,
          -1.1489416312813105,
          -0.9067550502029303,
          -1.2203620373046293,
          -2.29104010947564,
          -1.2906475608479342,
          -1.815479812214258,
          -1.149020585539232,
          -1.2906472552604555,
          -1.1489551465159065,
          -2.138093419309543,
          -2.020510015696366,
          -1.9824902324218634,
          -1.154499286559802,
          -0.9067883439033403,
          -0.9068519883351145,
          -2.291048225811215,
          -1.1489427301657842,
          -2.2910480944133127,
          -2.228607348113267,
          -0.9627241755670786,
          -2.2299321358009454,
          -1.1489424625551543,
          -0.9072941389278225,
          -1.9824876159567186,
          -1.1489692732468364,
          -2.228608794411133,
          -2.0509275849757107,
          -1.1511686820043194,
          -0.6625083002181092,
          -1.1489556479180434,
          -1.2916734468890188,
          -1.1489779987184334,
          -2.229870756317109,
          -2.096401485606342,
          -2.1157144810312207,
          -2.1671108797427285,
          -2.2916461366696286,
          -0.9067875747360314,
          -1.1489471374224767,
          -1.148982095509578,
          -0.9067677010775468,
          -0.9067512728099595,
          -2.2910630106666,
          -2.3434486811888604,
          -1.2149588376906524,
          -1.2123242482473526,
          -0.9073241514052699,
          -1.2906505503603776,
          -1.154835506973314,
          -1.108375666685515,
          -1.1489499344357288,
          -1.1489836625834282,
          -1.1489883345013403,
          -1.1489880310394074,
          -2.291084074923941,
          -1.9927900772303526,
          -0.9069851370303688,
          -1.6353988706533682,
          -1.9824869450974512,
          -2.2414382803626856,
          -1.148969231663681,
          -0.9068881777427351,
          -1.6354083482739967,
          -2.0206562984880696,
          -1.6354010924578328,
          -1.815323696922576,
          -2.333281990112916,
          -2.2910424553062856,
          -2.0259684897468135,
          -0.9070273675052051,
          -2.2302672906842504,
          -1.1506237148474412,
          -1.3871638409146305,
          -0.9067513224181312,
          -1.635394458254471,
          -1.635580529584726,
          -1.1489644846718865,
          -0.9067519134360872,
          -1.2906494665272072,
          -1.1426220485022913,
          -2.8373137811245734,
          -2.138088925833751,
          -2.2911873370384757,
          -1.151718332692831,
          -2.2413858691216393,
          -1.2294892292620019,
          -1.1489603836316697,
          -1.1551636609125526,
          -0.9069621452894364,
          -2.0240812809874527,
          -2.291575358797268,
          -1.1489520938993534,
          -2.0152261515306553,
          -1.982499090021498,
          -2.138244203011718,
          -0.90678852146737,
          -2.2910425003609904,
          -0.6624898972594674,
          -2.228615573071862,
          -2.1963668636897498,
          -2.138087465643313,
          -2.291373501827699,
          -2.296737731636372,
          -2.382611527416638,
          -2.329363221024201,
          -2.2914391897883997,
          -1.14899302644664,
          -1.982049562292302,
          -0.9067517793229737,
          -1.1489534670551491,
          -2.230809342029032,
          -2.286345981060041,
          -0.6430631954690164,
          -2.3719717653996732,
          -1.2912270099301073,
          -0.9067540182446903,
          -1.1490363075502026,
          -1.9855449561231957,
          -2.1381268390112225,
          -1.2906505512326434,
          -2.2950428146304165,
          -2.2880387373453,
          -2.287989842909317,
          -2.2116053949670413,
          -1.1489988132186932,
          -1.9826174361788542,
          -1.9824902399328848,
          -1.5737704567783113,
          -1.2906649592835127,
          -0.3435746267399743,
          -1.2907141719775994,
          -1.2039942221536888,
          -1.6365453754377657,
          -2.291903006705612,
          -1.1492814935949875,
          -1.2906609228678505,
          -1.1686171030940458,
          -1.2628876026020102,
          -1.1489428336296472,
          -1.1490238590196478,
          -1.8150904811275859,
          -2.1211366181449836,
          -2.0205095387420906,
          -2.2915446776209087,
          -1.9824897550194926
         ],
         "z": [
          0.1740455912623344,
          0.3574232681947684,
          0.01634854725378962,
          0.3951963740533918,
          0.35741435815575845,
          0.28964420060627394,
          0.3127101003033724,
          0.016366690597812858,
          0.07616255055120552,
          0.016363397488665447,
          0.31607879085194396,
          0.0029656503322832662,
          0.17399800329982368,
          0.01632440590616783,
          0.01636349061577408,
          0.014184008231047677,
          0.091249643621113,
          0.016358037688030708,
          0.01636628645623596,
          0.01636726128798646,
          0.07616433329881125,
          0.31160595165099286,
          0.16809163525159207,
          0.012406927913913917,
          0.01636247498515243,
          0.016297630948320433,
          0.016362484609246566,
          0.01636831918409193,
          0.2212368822652058,
          0.01607330110543072,
          0.0163483027528931,
          0.016354909937454778,
          -0.012015384534588384,
          0.17404471090623416,
          0.01631760173505613,
          0.01636295092327384,
          0.01636867493204859,
          0.016356941910935285,
          0.4219032984079853,
          0.01636706455556357,
          0.015186742012250962,
          0.1740464795810242,
          0.016264082869466144,
          0.01636798910801405,
          0.016353561787684726,
          0.0163601170359462,
          0.17386348579400576,
          0.17403755354895312,
          0.17404346396544532,
          0.17404788861150525,
          0.17405125056362852,
          0.07616601663628987,
          0.016361781439943317,
          0.22920356760335808,
          0.016326466257493944,
          0.1740388323366618,
          0.3403745967707516,
          0.3957861144593067,
          0.016346374784596312,
          0.01619484379483397,
          0.01632493664937353,
          0.016368887129045467,
          0.016321052280232468,
          0.016113480781390365,
          0.33808115278769724,
          0.3166004860811749,
          0.2003729391891767,
          0.016366088819471176,
          0.014736454332311265,
          0.34364072547273516,
          0.01636883541846179,
          0.1740471126063111,
          0.013157778692150615,
          0.07615623034475376,
          0.27327877285907604,
          0.17404533309849704,
          0.07616120322992571,
          0.01635262490484957,
          0.016339252105918342,
          0.35744973569632404,
          0.37784551776140135,
          0.07616137667915539,
          0.1740447364836357,
          0.016303235076372338,
          0.3559712174010953,
          0.016346654994131,
          0.16724400248314195,
          0.07615086195271507,
          0.4045294389702878,
          0.016362976072200785,
          0.3977652893929733,
          0.016366502085356827,
          0.0761616788119814,
          0.016368836367781383,
          0.07616509652310063,
          0.06430628030147438,
          0.3980554429436933,
          0.17404923709394898,
          0.3162983260355091,
          0.01632951861341478,
          0.17404840856923293,
          0.016364886756724463,
          0.4093102249030569,
          0.35744503734242317,
          0.2896446932406538,
          0.01596533339196871,
          0.0759194970489824,
          0.07614131040051769,
          0.3980569644572859,
          0.016368685865197827,
          0.39805449212283595,
          0.27328402384202777,
          0.07252639245924875,
          0.3951916516497495,
          0.016368044930977585,
          0.0761229887205297,
          0.2896444686802219,
          0.0163377424202359,
          0.27327899903512953,
          0.41973970172861397,
          0.016211566492345803,
          -0.06456310752978865,
          0.016362144768590697,
          0.17359718987699285,
          0.016362709665515444,
          0.39517827812556616,
          0.3459784877695353,
          0.3870111813065143,
          0.44394051529507933,
          0.3974844009259476,
          0.07615307952378768,
          0.016363308334655994,
          0.016364972937867643,
          0.0761570082252576,
          0.07616496283929153,
          0.39805214224538904,
          0.21878470638790146,
          -0.03600679017791348,
          0.25095471268165664,
          0.0760938601739433,
          0.17404557221555267,
          0.01600239577191545,
          -0.023444337736572254,
          0.01636562978611531,
          0.016361238354228945,
          0.016356450121028612,
          0.016356152287796275,
          0.3980523763706299,
          0.28746308402694926,
          0.07535104352969518,
          0.22130460191084372,
          0.28964146689049414,
          0.4045171556936526,
          0.016337701608377088,
          0.07610535565695556,
          0.2213033585559071,
          0.3574399230185291,
          0.22130397045612676,
          0.31646146187257085,
          0.38972297501905995,
          0.398056280654592,
          0.35695918398198634,
          0.07612479499940539,
          0.39504343133059755,
          0.015090864107477207,
          0.098308899039094,
          0.07616448426822173,
          0.22130378641503984,
          0.22120578743295058,
          0.016354133028955258,
          0.07616318962480133,
          0.17404499707906362,
          0.06167737979270703,
          0.3483590911137651,
          0.45556348486193704,
          0.39800895472579995,
          0.01323596146886976,
          0.40449870352149897,
          0.22900311719272232,
          0.016364168298551817,
          0.01169221075901658,
          0.07609007471624997,
          0.35715743175595216,
          0.3980007793006535,
          0.016367163351940127,
          0.5807381943652279,
          0.289624680218462,
          0.40929499584317364,
          0.07615400869487711,
          0.39805286839732207,
          -0.06456520373959912,
          0.2732825587099269,
          0.2471309838265856,
          0.40931076736064376,
          0.39803700350497123,
          0.3175634063580131,
          0.380139033264191,
          0.32488853080514496,
          0.3978671359942999,
          0.24561455972946114,
          0.4919526167243409,
          0.07616422968613382,
          0.016367863526964774,
          0.39513574221957526,
          0.3057074674639799,
          -0.11050743359688352,
          0.2834193147354897,
          0.17339337093645002,
          0.07616408370592331,
          0.24561138660263446,
          0.2882026496154276,
          0.4093063509271114,
          0.1740455730716393,
          0.39725614820699784,
          0.2833392679350747,
          0.2833380841435105,
          0.49235486140187323,
          0.016355017607305896,
          0.2896278806418254,
          0.28963890896412586,
          0.20036762226690819,
          0.17403452260992366,
          -0.05846828346474445,
          0.17402189477500163,
          0.012929415550462526,
          0.22010228500901705,
          0.2830925414936463,
          0.01611691251966424,
          0.1740434496185223,
          0.0063875510077844744,
          0.09124229867841026,
          0.016367448339433592,
          0.016343276558252424,
          0.3166175881399445,
          0.3898876982264432,
          0.3574455754765958,
          0.39773619941772537,
          0.2896442246932814
         ]
        },
        {
         "customdata": [
          [
           "VeChainThor Authority"
          ],
          [
           "Proof-of-BibleHash"
          ],
          [
           "SHA-256 + Hive"
          ],
          [
           "Proof-of-Authority"
          ],
          [
           "ECC 256K1"
          ],
          [
           "Leased POS"
          ]
         ],
         "hovertemplate": "<b>%{hovertext}</b><br><br>Class=%{marker.color}<br>PC 1=%{x}<br>PC 2=%{y}<br>PC 3=%{z}<br>Algorithm=%{customdata[0]}<extra></extra>",
         "hovertext": [
          "Vechain",
          "BiblePay",
          "LitecoinCash",
          "Poa Network",
          "Acute Angle Cloud",
          "Waves"
         ],
         "legendgroup": "1",
         "marker": {
          "color": [
           1,
           1,
           1,
           1,
           1,
           1
          ],
          "coloraxis": "coloraxis",
          "symbol": "square"
         },
         "mode": "markers",
         "name": "1",
         "scene": "scene",
         "showlegend": true,
         "type": "scatter3d",
         "x": [
          4.398295067810654,
          -0.1777675949867257,
          -0.43079411351674607,
          -0.44430017334869015,
          -0.34986745912210393,
          -0.4333433107612578
         ],
         "y": [
          3.110292072391563,
          2.7236419942253027,
          3.2212471509035714,
          2.870403585367379,
          3.152321523307792,
          4.063618891171109
         ],
         "z": [
          7.744163706094436,
          20.70971885936939,
          6.100101686989515,
          6.493379817219546,
          19.027288033791667,
          8.510707746097369
         ]
        },
        {
         "customdata": [
          [
           "TRC10"
          ]
         ],
         "hovertemplate": "<b>%{hovertext}</b><br><br>Class=%{marker.color}<br>PC 1=%{x}<br>PC 2=%{y}<br>PC 3=%{z}<br>Algorithm=%{customdata[0]}<extra></extra>",
         "hovertext": [
          "BitTorrent"
         ],
         "legendgroup": "3",
         "marker": {
          "color": [
           3
          ],
          "coloraxis": "coloraxis",
          "symbol": "x"
         },
         "mode": "markers",
         "name": "3",
         "scene": "scene",
         "showlegend": true,
         "type": "scatter3d",
         "x": [
          34.07533713022928
         ],
         "y": [
          1.5266104206557498
         ],
         "z": [
          -0.9765887465550851
         ]
        }
       ],
       "layout": {
        "coloraxis": {
         "colorbar": {
          "title": {
           "text": "Class"
          }
         },
         "colorscale": [
          [
           0,
           "#0d0887"
          ],
          [
           0.1111111111111111,
           "#46039f"
          ],
          [
           0.2222222222222222,
           "#7201a8"
          ],
          [
           0.3333333333333333,
           "#9c179e"
          ],
          [
           0.4444444444444444,
           "#bd3786"
          ],
          [
           0.5555555555555556,
           "#d8576b"
          ],
          [
           0.6666666666666666,
           "#ed7953"
          ],
          [
           0.7777777777777778,
           "#fb9f3a"
          ],
          [
           0.8888888888888888,
           "#fdca26"
          ],
          [
           1,
           "#f0f921"
          ]
         ]
        },
        "legend": {
         "title": {
          "text": "Class"
         },
         "tracegroupgap": 0,
         "x": 0,
         "y": 1
        },
        "margin": {
         "t": 60
        },
        "scene": {
         "domain": {
          "x": [
           0,
           1
          ],
          "y": [
           0,
           1
          ]
         },
         "xaxis": {
          "title": {
           "text": "PC 1"
          }
         },
         "yaxis": {
          "title": {
           "text": "PC 2"
          }
         },
         "zaxis": {
          "title": {
           "text": "PC 3"
          }
         }
        },
        "template": {
         "data": {
          "bar": [
           {
            "error_x": {
             "color": "#2a3f5f"
            },
            "error_y": {
             "color": "#2a3f5f"
            },
            "marker": {
             "line": {
              "color": "#E5ECF6",
              "width": 0.5
             }
            },
            "type": "bar"
           }
          ],
          "barpolar": [
           {
            "marker": {
             "line": {
              "color": "#E5ECF6",
              "width": 0.5
             }
            },
            "type": "barpolar"
           }
          ],
          "carpet": [
           {
            "aaxis": {
             "endlinecolor": "#2a3f5f",
             "gridcolor": "white",
             "linecolor": "white",
             "minorgridcolor": "white",
             "startlinecolor": "#2a3f5f"
            },
            "baxis": {
             "endlinecolor": "#2a3f5f",
             "gridcolor": "white",
             "linecolor": "white",
             "minorgridcolor": "white",
             "startlinecolor": "#2a3f5f"
            },
            "type": "carpet"
           }
          ],
          "choropleth": [
           {
            "colorbar": {
             "outlinewidth": 0,
             "ticks": ""
            },
            "type": "choropleth"
           }
          ],
          "contour": [
           {
            "colorbar": {
             "outlinewidth": 0,
             "ticks": ""
            },
            "colorscale": [
             [
              0,
              "#0d0887"
             ],
             [
              0.1111111111111111,
              "#46039f"
             ],
             [
              0.2222222222222222,
              "#7201a8"
             ],
             [
              0.3333333333333333,
              "#9c179e"
             ],
             [
              0.4444444444444444,
              "#bd3786"
             ],
             [
              0.5555555555555556,
              "#d8576b"
             ],
             [
              0.6666666666666666,
              "#ed7953"
             ],
             [
              0.7777777777777778,
              "#fb9f3a"
             ],
             [
              0.8888888888888888,
              "#fdca26"
             ],
             [
              1,
              "#f0f921"
             ]
            ],
            "type": "contour"
           }
          ],
          "contourcarpet": [
           {
            "colorbar": {
             "outlinewidth": 0,
             "ticks": ""
            },
            "type": "contourcarpet"
           }
          ],
          "heatmap": [
           {
            "colorbar": {
             "outlinewidth": 0,
             "ticks": ""
            },
            "colorscale": [
             [
              0,
              "#0d0887"
             ],
             [
              0.1111111111111111,
              "#46039f"
             ],
             [
              0.2222222222222222,
              "#7201a8"
             ],
             [
              0.3333333333333333,
              "#9c179e"
             ],
             [
              0.4444444444444444,
              "#bd3786"
             ],
             [
              0.5555555555555556,
              "#d8576b"
             ],
             [
              0.6666666666666666,
              "#ed7953"
             ],
             [
              0.7777777777777778,
              "#fb9f3a"
             ],
             [
              0.8888888888888888,
              "#fdca26"
             ],
             [
              1,
              "#f0f921"
             ]
            ],
            "type": "heatmap"
           }
          ],
          "heatmapgl": [
           {
            "colorbar": {
             "outlinewidth": 0,
             "ticks": ""
            },
            "colorscale": [
             [
              0,
              "#0d0887"
             ],
             [
              0.1111111111111111,
              "#46039f"
             ],
             [
              0.2222222222222222,
              "#7201a8"
             ],
             [
              0.3333333333333333,
              "#9c179e"
             ],
             [
              0.4444444444444444,
              "#bd3786"
             ],
             [
              0.5555555555555556,
              "#d8576b"
             ],
             [
              0.6666666666666666,
              "#ed7953"
             ],
             [
              0.7777777777777778,
              "#fb9f3a"
             ],
             [
              0.8888888888888888,
              "#fdca26"
             ],
             [
              1,
              "#f0f921"
             ]
            ],
            "type": "heatmapgl"
           }
          ],
          "histogram": [
           {
            "marker": {
             "colorbar": {
              "outlinewidth": 0,
              "ticks": ""
             }
            },
            "type": "histogram"
           }
          ],
          "histogram2d": [
           {
            "colorbar": {
             "outlinewidth": 0,
             "ticks": ""
            },
            "colorscale": [
             [
              0,
              "#0d0887"
             ],
             [
              0.1111111111111111,
              "#46039f"
             ],
             [
              0.2222222222222222,
              "#7201a8"
             ],
             [
              0.3333333333333333,
              "#9c179e"
             ],
             [
              0.4444444444444444,
              "#bd3786"
             ],
             [
              0.5555555555555556,
              "#d8576b"
             ],
             [
              0.6666666666666666,
              "#ed7953"
             ],
             [
              0.7777777777777778,
              "#fb9f3a"
             ],
             [
              0.8888888888888888,
              "#fdca26"
             ],
             [
              1,
              "#f0f921"
             ]
            ],
            "type": "histogram2d"
           }
          ],
          "histogram2dcontour": [
           {
            "colorbar": {
             "outlinewidth": 0,
             "ticks": ""
            },
            "colorscale": [
             [
              0,
              "#0d0887"
             ],
             [
              0.1111111111111111,
              "#46039f"
             ],
             [
              0.2222222222222222,
              "#7201a8"
             ],
             [
              0.3333333333333333,
              "#9c179e"
             ],
             [
              0.4444444444444444,
              "#bd3786"
             ],
             [
              0.5555555555555556,
              "#d8576b"
             ],
             [
              0.6666666666666666,
              "#ed7953"
             ],
             [
              0.7777777777777778,
              "#fb9f3a"
             ],
             [
              0.8888888888888888,
              "#fdca26"
             ],
             [
              1,
              "#f0f921"
             ]
            ],
            "type": "histogram2dcontour"
           }
          ],
          "mesh3d": [
           {
            "colorbar": {
             "outlinewidth": 0,
             "ticks": ""
            },
            "type": "mesh3d"
           }
          ],
          "parcoords": [
           {
            "line": {
             "colorbar": {
              "outlinewidth": 0,
              "ticks": ""
             }
            },
            "type": "parcoords"
           }
          ],
          "pie": [
           {
            "automargin": true,
            "type": "pie"
           }
          ],
          "scatter": [
           {
            "marker": {
             "colorbar": {
              "outlinewidth": 0,
              "ticks": ""
             }
            },
            "type": "scatter"
           }
          ],
          "scatter3d": [
           {
            "line": {
             "colorbar": {
              "outlinewidth": 0,
              "ticks": ""
             }
            },
            "marker": {
             "colorbar": {
              "outlinewidth": 0,
              "ticks": ""
             }
            },
            "type": "scatter3d"
           }
          ],
          "scattercarpet": [
           {
            "marker": {
             "colorbar": {
              "outlinewidth": 0,
              "ticks": ""
             }
            },
            "type": "scattercarpet"
           }
          ],
          "scattergeo": [
           {
            "marker": {
             "colorbar": {
              "outlinewidth": 0,
              "ticks": ""
             }
            },
            "type": "scattergeo"
           }
          ],
          "scattergl": [
           {
            "marker": {
             "colorbar": {
              "outlinewidth": 0,
              "ticks": ""
             }
            },
            "type": "scattergl"
           }
          ],
          "scattermapbox": [
           {
            "marker": {
             "colorbar": {
              "outlinewidth": 0,
              "ticks": ""
             }
            },
            "type": "scattermapbox"
           }
          ],
          "scatterpolar": [
           {
            "marker": {
             "colorbar": {
              "outlinewidth": 0,
              "ticks": ""
             }
            },
            "type": "scatterpolar"
           }
          ],
          "scatterpolargl": [
           {
            "marker": {
             "colorbar": {
              "outlinewidth": 0,
              "ticks": ""
             }
            },
            "type": "scatterpolargl"
           }
          ],
          "scatterternary": [
           {
            "marker": {
             "colorbar": {
              "outlinewidth": 0,
              "ticks": ""
             }
            },
            "type": "scatterternary"
           }
          ],
          "surface": [
           {
            "colorbar": {
             "outlinewidth": 0,
             "ticks": ""
            },
            "colorscale": [
             [
              0,
              "#0d0887"
             ],
             [
              0.1111111111111111,
              "#46039f"
             ],
             [
              0.2222222222222222,
              "#7201a8"
             ],
             [
              0.3333333333333333,
              "#9c179e"
             ],
             [
              0.4444444444444444,
              "#bd3786"
             ],
             [
              0.5555555555555556,
              "#d8576b"
             ],
             [
              0.6666666666666666,
              "#ed7953"
             ],
             [
              0.7777777777777778,
              "#fb9f3a"
             ],
             [
              0.8888888888888888,
              "#fdca26"
             ],
             [
              1,
              "#f0f921"
             ]
            ],
            "type": "surface"
           }
          ],
          "table": [
           {
            "cells": {
             "fill": {
              "color": "#EBF0F8"
             },
             "line": {
              "color": "white"
             }
            },
            "header": {
             "fill": {
              "color": "#C8D4E3"
             },
             "line": {
              "color": "white"
             }
            },
            "type": "table"
           }
          ]
         },
         "layout": {
          "annotationdefaults": {
           "arrowcolor": "#2a3f5f",
           "arrowhead": 0,
           "arrowwidth": 1
          },
          "autotypenumbers": "strict",
          "coloraxis": {
           "colorbar": {
            "outlinewidth": 0,
            "ticks": ""
           }
          },
          "colorscale": {
           "diverging": [
            [
             0,
             "#8e0152"
            ],
            [
             0.1,
             "#c51b7d"
            ],
            [
             0.2,
             "#de77ae"
            ],
            [
             0.3,
             "#f1b6da"
            ],
            [
             0.4,
             "#fde0ef"
            ],
            [
             0.5,
             "#f7f7f7"
            ],
            [
             0.6,
             "#e6f5d0"
            ],
            [
             0.7,
             "#b8e186"
            ],
            [
             0.8,
             "#7fbc41"
            ],
            [
             0.9,
             "#4d9221"
            ],
            [
             1,
             "#276419"
            ]
           ],
           "sequential": [
            [
             0,
             "#0d0887"
            ],
            [
             0.1111111111111111,
             "#46039f"
            ],
            [
             0.2222222222222222,
             "#7201a8"
            ],
            [
             0.3333333333333333,
             "#9c179e"
            ],
            [
             0.4444444444444444,
             "#bd3786"
            ],
            [
             0.5555555555555556,
             "#d8576b"
            ],
            [
             0.6666666666666666,
             "#ed7953"
            ],
            [
             0.7777777777777778,
             "#fb9f3a"
            ],
            [
             0.8888888888888888,
             "#fdca26"
            ],
            [
             1,
             "#f0f921"
            ]
           ],
           "sequentialminus": [
            [
             0,
             "#0d0887"
            ],
            [
             0.1111111111111111,
             "#46039f"
            ],
            [
             0.2222222222222222,
             "#7201a8"
            ],
            [
             0.3333333333333333,
             "#9c179e"
            ],
            [
             0.4444444444444444,
             "#bd3786"
            ],
            [
             0.5555555555555556,
             "#d8576b"
            ],
            [
             0.6666666666666666,
             "#ed7953"
            ],
            [
             0.7777777777777778,
             "#fb9f3a"
            ],
            [
             0.8888888888888888,
             "#fdca26"
            ],
            [
             1,
             "#f0f921"
            ]
           ]
          },
          "colorway": [
           "#636efa",
           "#EF553B",
           "#00cc96",
           "#ab63fa",
           "#FFA15A",
           "#19d3f3",
           "#FF6692",
           "#B6E880",
           "#FF97FF",
           "#FECB52"
          ],
          "font": {
           "color": "#2a3f5f"
          },
          "geo": {
           "bgcolor": "white",
           "lakecolor": "white",
           "landcolor": "#E5ECF6",
           "showlakes": true,
           "showland": true,
           "subunitcolor": "white"
          },
          "hoverlabel": {
           "align": "left"
          },
          "hovermode": "closest",
          "mapbox": {
           "style": "light"
          },
          "paper_bgcolor": "white",
          "plot_bgcolor": "#E5ECF6",
          "polar": {
           "angularaxis": {
            "gridcolor": "white",
            "linecolor": "white",
            "ticks": ""
           },
           "bgcolor": "#E5ECF6",
           "radialaxis": {
            "gridcolor": "white",
            "linecolor": "white",
            "ticks": ""
           }
          },
          "scene": {
           "xaxis": {
            "backgroundcolor": "#E5ECF6",
            "gridcolor": "white",
            "gridwidth": 2,
            "linecolor": "white",
            "showbackground": true,
            "ticks": "",
            "zerolinecolor": "white"
           },
           "yaxis": {
            "backgroundcolor": "#E5ECF6",
            "gridcolor": "white",
            "gridwidth": 2,
            "linecolor": "white",
            "showbackground": true,
            "ticks": "",
            "zerolinecolor": "white"
           },
           "zaxis": {
            "backgroundcolor": "#E5ECF6",
            "gridcolor": "white",
            "gridwidth": 2,
            "linecolor": "white",
            "showbackground": true,
            "ticks": "",
            "zerolinecolor": "white"
           }
          },
          "shapedefaults": {
           "line": {
            "color": "#2a3f5f"
           }
          },
          "ternary": {
           "aaxis": {
            "gridcolor": "white",
            "linecolor": "white",
            "ticks": ""
           },
           "baxis": {
            "gridcolor": "white",
            "linecolor": "white",
            "ticks": ""
           },
           "bgcolor": "#E5ECF6",
           "caxis": {
            "gridcolor": "white",
            "linecolor": "white",
            "ticks": ""
           }
          },
          "title": {
           "x": 0.05
          },
          "xaxis": {
           "automargin": true,
           "gridcolor": "white",
           "linecolor": "white",
           "ticks": "",
           "title": {
            "standoff": 15
           },
           "zerolinecolor": "white",
           "zerolinewidth": 2
          },
          "yaxis": {
           "automargin": true,
           "gridcolor": "white",
           "linecolor": "white",
           "ticks": "",
           "title": {
            "standoff": 15
           },
           "zerolinecolor": "white",
           "zerolinewidth": 2
          }
         }
        },
        "width": 800
       }
      },
      "text/html": [
       "<div>                            <div id=\"b0b346d9-d27e-4a56-b82e-33fc6cc4fbb9\" class=\"plotly-graph-div\" style=\"height:525px; width:800px;\"></div>            <script type=\"text/javascript\">                require([\"plotly\"], function(Plotly) {                    window.PLOTLYENV=window.PLOTLYENV || {};                                    if (document.getElementById(\"b0b346d9-d27e-4a56-b82e-33fc6cc4fbb9\")) {                    Plotly.newPlot(                        \"b0b346d9-d27e-4a56-b82e-33fc6cc4fbb9\",                        [{\"customdata\": [[\"Scrypt\"], [\"Scrypt\"], [\"X13\"], [\"X11\"], [\"SHA-512\"], [\"SHA-256\"], [\"SHA-256\"], [\"X15\"], [\"Scrypt\"], [\"Scrypt\"], [\"Scrypt\"], [\"Scrypt\"], [\"Scrypt\"], [\"Scrypt\"], [\"Groestl\"], [\"PoS\"], [\"Scrypt\"], [\"Scrypt\"], [\"X11\"], [\"X11\"], [\"SHA3\"], [\"Scrypt\"], [\"SHA-256\"], [\"Scrypt\"], [\"X13\"], [\"X13\"], [\"NeoScrypt\"], [\"Scrypt\"], [\"Scrypt\"], [\"Scrypt\"], [\"X11\"], [\"X11\"], [\"Multiple\"], [\"PHI1612\"], [\"X11\"], [\"Scrypt\"], [\"Scrypt\"], [\"Scrypt\"], [\"X11\"], [\"Multiple\"], [\"X13\"], [\"Scrypt\"], [\"Shabal256\"], [\"Counterparty\"], [\"SHA-256\"], [\"Groestl\"], [\"Scrypt\"], [\"X13\"], [\"Scrypt\"], [\"Scrypt\"], [\"X13\"], [\"X11\"], [\"Scrypt\"], [\"X11\"], [\"SHA3\"], [\"QUAIT\"], [\"X11\"], [\"Scrypt\"], [\"X13\"], [\"SHA-256\"], [\"X15\"], [\"BLAKE256\"], [\"SHA-256\"], [\"X11\"], [\"SHA-256\"], [\"NIST5\"], [\"Scrypt\"], [\"Scrypt\"], [\"X11\"], [\"Scrypt\"], [\"SHA-256\"], [\"Scrypt\"], [\"PoS\"], [\"X11\"], [\"SHA-256\"], [\"SHA-256\"], [\"NIST5\"], [\"X11\"], [\"POS 3.0\"], [\"Scrypt\"], [\"Scrypt\"], [\"Scrypt\"], [\"X13\"], [\"X11\"], [\"X11\"], [\"Scrypt\"], [\"SHA-256\"], [\"X11\"], [\"Scrypt\"], [\"Scrypt\"], [\"Scrypt\"], [\"Scrypt\"], [\"SHA-256D\"], [\"PoS\"], [\"Scrypt\"], [\"X11\"], [\"PoS\"], [\"X13\"], [\"X14\"], [\"PoS\"], [\"SHA-256D\"], [\"DPoS\"], [\"X11\"], [\"X13\"], [\"X11\"], [\"PoS\"], [\"Scrypt\"], [\"Scrypt\"], [\"PoS\"], [\"X11\"], [\"SHA-256\"], [\"Scrypt\"], [\"X11\"], [\"Scrypt\"], [\"Scrypt\"], [\"X11\"], [\"Scrypt\"], [\"Scrypt\"], [\"Scrypt\"], [\"Scrypt\"], [\"Quark\"], [\"QuBit\"], [\"Scrypt\"], [\"SHA-256\"], [\"X11\"], [\"Scrypt\"], [\"Scrypt\"], [\"Scrypt\"], [\"Scrypt\"], [\"X13\"], [\"Scrypt\"], [\"Scrypt\"], [\"X11\"], [\"Blake2S\"], [\"X11\"], [\"PoS\"], [\"X11\"], [\"PoS\"], [\"X11\"], [\"Scrypt\"], [\"Scrypt\"], [\"Scrypt\"], [\"SHA-256\"], [\"X11\"], [\"Scrypt\"], [\"PoS\"], [\"Scrypt\"], [\"X15\"], [\"SHA-256\"], [\"POS 3.0\"], [\"536\"], [\"NIST5\"], [\"NIST5\"], [\"Skein\"], [\"X13\"], [\"Scrypt\"], [\"X13\"], [\"SkunkHash v2 Raptor\"], [\"Skein\"], [\"X11\"], [\"Scrypt\"], [\"PoS\"], [\"Scrypt\"], [\"Scrypt\"], [\"SHA-512\"], [\"Ouroboros\"], [\"X11\"], [\"NeoScrypt\"], [\"Scrypt\"], [\"Lyra2REv2\"], [\"Scrypt\"], [\"SHA-256\"], [\"NIST5\"], [\"PHI1612\"], [\"Scrypt\"], [\"Quark\"], [\"POS 2.0\"], [\"Scrypt\"], [\"SHA-256\"], [\"X11\"], [\"DPoS\"], [\"NIST5\"], [\"X13\"], [\"Scrypt\"], [\"NIST5\"], [\"Quark\"], [\"Scrypt\"], [\"Scrypt\"], [\"X11\"], [\"Quark\"], [\"Scrypt\"], [\"Scrypt\"], [\"X11\"], [\"POS 3.0\"], [\"Ethash\"], [\"Scrypt\"], [\"Scrypt\"], [\"X13\"], [\"C11\"], [\"X11\"], [\"XEVAN\"], [\"Scrypt\"], [\"VBFT\"], [\"NIST5\"], [\"Scrypt\"], [\"Scrypt\"], [\"Scrypt\"], [\"Green Protocol\"], [\"PoS\"], [\"Scrypt\"], [\"Semux BFT consensus\"], [\"Quark\"], [\"PoS\"], [\"X16R\"], [\"Scrypt\"], [\"XEVAN\"], [\"Scrypt\"], [\"Scrypt\"], [\"Scrypt\"], [\"SHA-256D\"], [\"Scrypt\"], [\"X15\"], [\"Scrypt\"], [\"Quark\"], [\"SHA-256\"], [\"DPoS\"], [\"X16R\"], [\"Quark\"], [\"Quark\"], [\"Scrypt\"], [\"Lyra2REv2\"], [\"Quark\"], [\"Scrypt\"], [\"X11\"], [\"X11\"], [\"Scrypt\"], [\"PoS\"], [\"Keccak\"], [\"X11\"], [\"Scrypt\"], [\"SHA-512\"], [\"XEVAN\"], [\"XEVAN\"], [\"X11\"], [\"Quark\"], [\"Equihash\"], [\"Scrypt\"], [\"Quark\"], [\"Quark\"], [\"Scrypt\"], [\"X11\"], [\"Scrypt\"], [\"XEVAN\"], [\"SHA-256D\"], [\"X11\"], [\"X11\"], [\"DPoS\"], [\"Scrypt\"], [\"X11\"], [\"Scrypt\"], [\"Scrypt\"], [\"SHA-256\"], [\"Scrypt\"], [\"X11\"], [\"Scrypt\"], [\"SHA-256\"], [\"X11\"], [\"Scrypt\"], [\"Scrypt\"], [\"X11\"], [\"Scrypt\"], [\"PoS\"], [\"X11\"], [\"SHA-256\"], [\"DPoS\"], [\"Scrypt\"], [\"Scrypt\"], [\"NeoScrypt\"], [\"X13\"], [\"DPoS\"], [\"DPoS\"], [\"SHA-256\"], [\"PoS\"], [\"PoS\"], [\"SHA-256\"], [\"Scrypt\"], [\"Scrypt\"]], \"hovertemplate\": \"<b>%{hovertext}</b><br><br>Class=%{marker.color}<br>PC 1=%{x}<br>PC 2=%{y}<br>PC 3=%{z}<br>Algorithm=%{customdata[0]}<extra></extra>\", \"hovertext\": [\"42 Coin\", \"404Coin\", \"EliteCoin\", \"Dash\", \"Bitshares\", \"BitcoinDark\", \"PayCoin\", \"KoboCoin\", \"Aurora Coin\", \"BlueCoin\", \"EnergyCoin\", \"BitBar\", \"CryptoBullion\", \"CasinoCoin\", \"Diamond\", \"Exclusive Coin\", \"FlutterCoin\", \"HoboNickels\", \"HyperStake\", \"IOCoin\", \"MaxCoin\", \"MintCoin\", \"MazaCoin\", \"Nautilus Coin\", \"NavCoin\", \"OpalCoin\", \"Orbitcoin\", \"PotCoin\", \"PhoenixCoin\", \"Reddcoin\", \"SuperCoin\", \"SyncCoin\", \"TeslaCoin\", \"TittieCoin\", \"TorCoin\", \"UnitaryStatus Dollar\", \"UltraCoin\", \"VeriCoin\", \"X11 Coin\", \"Crypti\", \"StealthCoin\", \"ZCC Coin\", \"BurstCoin\", \"StorjCoin\", \"Neutron\", \"FairCoin\", \"RubyCoin\", \"Kore\", \"Dnotes\", \"8BIT Coin\", \"Sativa Coin\", \"Ucoin\", \"Vtorrent\", \"IslaCoin\", \"Nexus\", \"Droidz\", \"Squall Coin\", \"Diggits\", \"Paycon\", \"Emercoin\", \"EverGreenCoin\", \"Decred\", \"EDRCoin\", \"Hitcoin\", \"DubaiCoin\", \"PWR Coin\", \"BillaryCoin\", \"GPU Coin\", \"EuropeCoin\", \"ZeitCoin\", \"SwingCoin\", \"SafeExchangeCoin\", \"Nebuchadnezzar\", \"Ratecoin\", \"Revenu\", \"Clockcoin\", \"VIP Tokens\", \"BitSend\", \"Let it Ride\", \"PutinCoin\", \"iBankCoin\", \"Frankywillcoin\", \"MudraCoin\", \"Lutetium Coin\", \"GoldBlocks\", \"CarterCoin\", \"BitTokens\", \"MustangCoin\", \"ZoneCoin\", \"RootCoin\", \"BitCurrency\", \"Swiscoin\", \"BuzzCoin\", \"Opair\", \"PesoBit\", \"Halloween Coin\", \"CoffeeCoin\", \"RoyalCoin\", \"GanjaCoin V2\", \"TeamUP\", \"LanaCoin\", \"ARK\", \"InsaneCoin\", \"EmberCoin\", \"XenixCoin\", \"FreeCoin\", \"PLNCoin\", \"AquariusCoin\", \"Creatio\", \"Eternity\", \"Eurocoin\", \"BitcoinFast\", \"Stakenet\", \"BitConnect Coin\", \"MoneyCoin\", \"Enigma\", \"Russiacoin\", \"PandaCoin\", \"GameUnits\", \"GAKHcoin\", \"Allsafe\", \"LiteCreed\", \"Klingon Empire Darsek\", \"Internet of People\", \"KushCoin\", \"Printerium\", \"Impeach\", \"Zilbercoin\", \"FirstCoin\", \"FindCoin\", \"OpenChat\", \"RenosCoin\", \"VirtacoinPlus\", \"TajCoin\", \"Impact\", \"Atmos\", \"HappyCoin\", \"MacronCoin\", \"Condensate\", \"Independent Money System\", \"ArgusCoin\", \"LomoCoin\", \"ProCurrency\", \"GoldReserve\", \"GrowthCoin\", \"Phreak\", \"Degas Coin\", \"HTML5 Coin\", \"Ultimate Secure Cash\", \"QTUM\", \"Espers\", \"Denarius\", \"Virta Unique Coin\", \"Bitcoin Planet\", \"BritCoin\", \"Linda\", \"DeepOnion\", \"Signatum\", \"Cream\", \"Monoeci\", \"Draftcoin\", \"Stakecoin\", \"CoinonatX\", \"Ethereum Dark\", \"Obsidian\", \"Cardano\", \"Regalcoin\", \"TrezarCoin\", \"TerraNovaCoin\", \"Rupee\", \"WomenCoin\", \"Theresa May Coin\", \"NamoCoin\", \"LUXCoin\", \"Xios\", \"Bitcloud 2.0\", \"KekCoin\", \"BlackholeCoin\", \"Infinity Economics\", \"Magnet\", \"Lamden Tau\", \"Electra\", \"Bitcoin Diamond\", \"Cash & Back Coin\", \"Bulwark\", \"Kalkulus\", \"GermanCoin\", \"LiteCoin Ultra\", \"PhantomX\", \"Digiwage\", \"Trollcoin\", \"Litecoin Plus\", \"Monkey Project\", \"TokenPay\", \"1717 Masonic Commemorative Token\", \"My Big Coin\", \"Unified Society USDEX\", \"Tokyo Coin\", \"Stipend\", \"Pushi\", \"Ellerium\", \"Velox\", \"Ontology\", \"Bitspace\", \"Briacoin\", \"Ignition\", \"MedicCoin\", \"Bitcoin Green\", \"Deviant Coin\", \"Abjcoin\", \"Semux\", \"Carebit\", \"Zealium\", \"Proton\", \"iDealCash\", \"Bitcoin Incognito\", \"HollyWoodCoin\", \"Swisscoin\", \"Xt3ch\", \"TheVig\", \"EmaratCoin\", \"Dekado\", \"Lynx\", \"Poseidon Quark\", \"BitcoinWSpectrum\", \"Muse\", \"Trivechain\", \"Dystem\", \"Giant\", \"Peony Coin\", \"Absolute Coin\", \"Vitae\", \"TPCash\", \"ARENON\", \"EUNO\", \"MMOCoin\", \"Ketan\", \"XDNA\", \"PAXEX\", \"ThunderStake\", \"Kcash\", \"Bettex coin\", \"BitMoney\", \"Junson Ming Chan Coin\", \"HerbCoin\", \"PirateCash\", \"Oduwa\", \"Galilel\", \"Crypto Sports\", \"Credit\", \"Dash Platinum\", \"Nasdacoin\", \"Beetle Coin\", \"Titan Coin\", \"Award\", \"Insane Coin\", \"ALAX\", \"LiteDoge\", \"TruckCoin\", \"OrangeCoin\", \"BitstarCoin\", \"NeosCoin\", \"HyperCoin\", \"PinkCoin\", \"AudioCoin\", \"IncaKoin\", \"Piggy Coin\", \"Genstake\", \"XiaoMiCoin\", \"CapriCoin\", \" ClubCoin\", \"Radium\", \"Creditbit \", \"OKCash\", \"Lisk\", \"HiCoin\", \"WhiteCoin\", \"FriendshipCoin\", \"Triangles Coin\", \"EOS\", \"Oxycoin\", \"TigerCash\", \"Particl\", \"Nxt\", \"ZEPHYR\", \"Gapcoin\", \"BitcoinPlus\"], \"legendgroup\": \"2\", \"marker\": {\"color\": [2, 2, 2, 2, 2, 2, 2, 2, 2, 2, 2, 2, 2, 2, 2, 2, 2, 2, 2, 2, 2, 2, 2, 2, 2, 2, 2, 2, 2, 2, 2, 2, 2, 2, 2, 2, 2, 2, 2, 2, 2, 2, 2, 2, 2, 2, 2, 2, 2, 2, 2, 2, 2, 2, 2, 2, 2, 2, 2, 2, 2, 2, 2, 2, 2, 2, 2, 2, 2, 2, 2, 2, 2, 2, 2, 2, 2, 2, 2, 2, 2, 2, 2, 2, 2, 2, 2, 2, 2, 2, 2, 2, 2, 2, 2, 2, 2, 2, 2, 2, 2, 2, 2, 2, 2, 2, 2, 2, 2, 2, 2, 2, 2, 2, 2, 2, 2, 2, 2, 2, 2, 2, 2, 2, 2, 2, 2, 2, 2, 2, 2, 2, 2, 2, 2, 2, 2, 2, 2, 2, 2, 2, 2, 2, 2, 2, 2, 2, 2, 2, 2, 2, 2, 2, 2, 2, 2, 2, 2, 2, 2, 2, 2, 2, 2, 2, 2, 2, 2, 2, 2, 2, 2, 2, 2, 2, 2, 2, 2, 2, 2, 2, 2, 2, 2, 2, 2, 2, 2, 2, 2, 2, 2, 2, 2, 2, 2, 2, 2, 2, 2, 2, 2, 2, 2, 2, 2, 2, 2, 2, 2, 2, 2, 2, 2, 2, 2, 2, 2, 2, 2, 2, 2, 2, 2, 2, 2, 2, 2, 2, 2, 2, 2, 2, 2, 2, 2, 2, 2, 2, 2, 2, 2, 2, 2, 2, 2, 2, 2, 2, 2, 2, 2, 2, 2, 2, 2, 2, 2, 2, 2, 2, 2, 2, 2, 2, 2, 2, 2, 2, 2, 2, 2, 2, 2, 2, 2, 2, 2, 2, 2, 2, 2, 2, 2, 2, 2], \"coloraxis\": \"coloraxis\", \"symbol\": \"circle\"}, \"mode\": \"markers\", \"name\": \"2\", \"scene\": \"scene\", \"showlegend\": true, \"type\": \"scatter3d\", \"x\": [-0.3271605103997055, -0.31048276320710755, 2.307339896145503, -0.40394998395040577, -0.19917346571753178, -0.32120338727463565, -0.27473608466646854, -0.2470788688058806, -0.32681977547250546, -0.3193902874157625, -0.3256556488577068, -0.3271564430557837, -0.327140709514698, 0.7135669902242239, -0.3784905357263918, -0.35622990837031027, -0.2601823663005043, -0.3252175242804903, -0.33728709835822757, -0.4038445797103161, -0.3951176947524897, -0.0203658847826317, -0.28447647899740597, -0.2804440776926217, -0.2788378065249793, -0.27946060838174697, -0.3499452777552523, -0.3214576428369544, -0.32556080156072165, 0.03132225532697469, -0.3571926556887526, -0.4042164897839331, -0.2516590090800006, -0.317940553171611, -0.40412805248677075, -0.30237014476282975, -0.32583671922437935, -0.25114099034855886, -0.4040924914228234, -0.25212712118549035, -0.2792412629811319, -0.3182558735200484, 0.10312826255643812, -0.3378887762485295, -0.3204143840924229, -0.37791154428803037, -0.2804243066056049, -0.27953607565625577, -0.27507360924155644, -0.32714256185013335, -0.2794882140965209, -0.3576379385808629, -0.3268767048674439, -0.40419800107901593, -0.36398868531990397, -0.430420299646046, -0.41193879484186235, -0.27882439347743737, -0.279009424590586, -0.31375373172069265, -0.24952240649911633, -0.09714103997813232, -0.3211742735118163, -0.08137804121245426, -0.32123802027549553, -0.2386327797365735, -0.3267524828900453, -0.2786934019304975, -0.4013647851808751, 0.8737429827997754, -0.3210379141162644, -0.01787085843191769, -0.35591289488719746, -0.4020389968893895, -0.31978039431188954, -0.31744662714661553, -0.36010711672300777, -0.4029320897970752, -0.3401477569329757, -0.3030277801012719, -0.32679061857833913, -0.3252281749965589, -0.2317620325616184, -0.34511728082184373, -0.40367144223451, -0.3259941200730958, -0.3212189618099001, -0.40418718456776404, -0.32697994382328166, -0.3271367894537815, -0.27868280832765324, -0.22229395461209814, 0.028874915871095943, -0.3548690199279046, -0.3267505787580409, -0.3903374859996653, -0.3541969945983594, -0.23319385429407183, -0.38087285328598436, -0.3539458873035426, -0.28594149568247257, 3.700126329862308, -0.4037793592661324, 0.8537563725124524, -0.4041420520429385, -0.35533319402277913, -0.3266780931140032, -0.32683256877309286, -0.35591289488719746, -0.4037165940124966, -0.32108150320246703, -0.3266788255657349, -0.40205370817762376, -0.32682635293011536, -0.32241064467510094, -0.40417107437881544, -0.32603638999822737, 0.3634160354514613, -0.3270258077706638, -0.32709643901963537, -0.3547006259616445, -0.35522130973004107, -0.3233199766100737, -0.3211953530370896, -0.4040809433304829, -0.32687405122916396, -0.3270011267180157, -0.2803307683876928, -0.25447601946727455, -0.2329614961302013, -0.3078371490640131, -0.28007163722496176, -0.4033460565401943, -0.41099826860334593, -0.4020832327946052, -0.35415784506603615, -0.40324384448579803, -0.3485526357974283, -0.399181260066881, -0.32694435869720906, -0.32694355339552217, -0.3200594445798507, 0.2583794911171616, -0.40372273448009416, -0.26295778743323195, -0.35594722920732075, -0.326154357489176, 0.8858664270481594, -0.2734253877376474, -0.33892499361594763, 0.5706864066547717, -0.3616441692681775, -0.3601450523876808, -0.42678866508748703, -0.2791730230989076, 0.13819223158685975, -0.2792438545959716, -0.3260743708025179, -0.4262930789403977, -0.40399535554409577, -0.2804050132754567, -0.35581339967010644, -0.3265792274789614, -0.32707935309026764, -0.2572902729085232, 0.6484877119427979, -0.4039361399284723, -0.34494005058475313, -0.32703493458819444, -0.31557909381880506, 0.44279558346948417, -0.31954010682045414, -0.34639738852023677, -0.3999739347287551, -0.3269852299446924, -0.399544903493222, -0.3418973317810582, -0.32685550119242346, -0.1010611962383338, -0.4027277300539092, 3.7049866871024726, 0.19835888909968422, -0.27591167735103633, -0.3243134992537974, -0.3150037101505781, -0.354586424793565, 0.08764694775513582, -0.32599331244611535, -0.40330935485147357, -0.353750439918974, -0.31354778571057185, -0.3271015055178476, -0.3576098420684459, -0.34042993564807494, -0.27944763538375444, -0.2715870853056898, -0.32264268588896056, -0.22475001354114046, -0.364128060967359, -0.4040126283830769, -0.341631903361381, -0.2795642749940933, -0.34244066962152936, -0.3612427770037542, -0.32712888554834796, -0.3271105805918026, -0.27394062797553737, -0.3282570344757363, -0.355407490449275, -0.3268268398072405, 3.8921506692596095, -0.39821166387596457, -0.35559633319120676, -0.3103170717891073, -0.27364989739150436, -0.3495066923832865, -0.2800989382039359, -0.1300622173090999, -0.28035124901903813, -0.35131339131653133, -0.32630040963223844, -0.20246179194688266, 2.2538791930581548, -0.35029073120441756, -0.27355316326024703, 1.007699145962629, -0.3560568026464803, -0.3547000654872843, -0.401230515355397, -0.16098119057637555, -0.3619111143122292, -0.35341843676054263, -0.3199994788737414, -0.3571868719064772, -0.4034854817143922, -0.2775942613312708, -0.35469536613387415, -0.3353956426401901, -0.3570481499386091, -0.18648981475225596, -0.1231509900320625, -0.29522119926617446, 0.4598511702972751, -0.147362731140662, -0.4005245080951259, -0.27930147519855986, -0.3268308112816695, -0.4009810358531701, -0.3548171480437313, 0.5804913421083157, -0.35766420781291675, -0.32631328384221314, -0.3360825542264694, -0.3059935029352172, -0.40104806630663087, -0.4037129205146214, 3.717239683540474, 0.10848845141059851, -0.40125021572541497, -0.3256982670065277, -0.32652394836420356, -0.27476875110711313, -0.32704273695166863, -0.39533312415505717, -0.24067071154146644, -0.10065288786856866, -0.3910777814803207, -0.3263203823416457, -0.3193783827208577, -0.40027839566807977, -0.3247581880652361, -0.3561887797997332, -0.41138044642011523, -0.3197170974373152, 3.700518492452713, -0.08745742779028183, -0.32195039819247123, -0.3495708180880595, -0.2796433737323195, 3.7103959579595425, 3.711641271817503, -0.2556480932942351, -0.35612458530807184, -0.38434669468130506, 2.4542432289118135, -0.3252041901547046, -0.2807480655046486], \"y\": [0.9756806365463208, 0.9756813154732469, 1.6130002370157512, 1.2178709014942615, 1.4379940110447953, 0.8339662458569697, 0.687012321739471, 1.8274960860397942, 0.9756763677667627, 0.9758608832185455, 0.975715545000903, 0.9756803679607806, 0.9756803699666964, 0.35224106340143213, 0.8617711225129011, 1.5739357314736413, 0.18538894425831187, 0.9756385962332285, 1.0713945305057566, 1.2178733465669873, 2.1844924905957814, 0.8347586551103996, 0.8330779964956658, 0.8287138495898879, 1.781067063293727, 1.7810526160966023, 0.4892359980259131, 0.9755080346115389, 0.9756466037267642, 0.9839963972410576, 1.0709327792962846, 1.2178806891368101, 0.162536579782546, 1.6367611051449, 1.2178754820193087, 0.9750942080087157, 0.9756387513705947, 0.4069846820324882, 1.2178795736324033, 0.16259831426194857, 1.7810577042738562, 0.975161265102888, 0.6958535643569695, 1.6443561168052772, 0.8339511555143931, 0.8617877330228974, 0.8287260538214142, 1.7810421542759254, 0.8284872078704448, 0.9756810529311143, 1.7810447163917833, 1.0709079313598133, 0.9756727013776297, 1.2178811187470857, 2.691625276321075, 1.8438502642753865, 0.9072620075729809, 0.8286905738438279, 1.7810267855908217, 0.8334290935663614, 1.8276743890888412, 0.779435643122421, 0.8339669212118449, 1.2060960785095558, 0.8339737907039041, 1.4649943477923764, 0.9756596124362684, 0.828605736339905, 1.2176680827806174, 0.7836319985438347, 0.8339570175563038, 0.3627522256845097, 1.5739285666026257, 1.2178767563916302, 0.8338535422201191, 0.8336882473844154, 1.4621111614256133, 1.217809579499266, 1.685597246155362, 0.974788579484403, 0.9756570339549245, 0.9756528678320706, 1.633975170935888, 1.0707359548467996, 1.2178570367239758, 0.9756423594596092, 0.833966610506142, 1.217879191859096, 0.9756695805999902, 0.9756811868339713, 0.8287664515316004, 0.15654907661198897, 1.8658791261432544, 1.5739135810803921, 0.9756901458022086, 1.217113742662447, 1.5739538519231668, 1.6340853285462054, 2.0527380067260896, 1.5737702082375677, 1.8676461080330402, 2.066958556021194, 1.2178690520263427, 1.8067229207940825, 1.2178796193445376, 1.573920235984852, 0.9756638497923334, 0.9756577546760082, 1.5739285666026257, 1.2178487300013683, 0.8339705250804709, 0.9756678544716629, 0.7596856137490346, 0.9756680619307407, 0.9753184840950682, 1.2178781137023078, 0.9756021785255747, 0.8200576241988036, 0.9756743241552325, 0.9756797158056242, 1.606113074639136, 0.550868428697821, 0.97540675920997, 0.8339671581612123, 1.2178770437679964, 0.9756727629343432, 0.9756684116808189, 0.8286882973092642, 0.2777615895404988, 1.6340819894325882, 0.9754029492988562, 0.8287092434440055, 1.2178282880671278, 2.009351966031871, 1.2178503225839012, 1.5739037341363356, 1.2178306590904036, 1.5738234486439486, 1.2176345259771335, 0.9756702520860456, 0.9756649076598553, 0.9751194274841559, 0.6449431392342337, 1.217863106224897, 0.8276793599610459, 1.5739205108136731, 0.9756277534177717, 1.788697217736687, 0.6869065525036308, 1.6855773361589443, 1.7049670133985757, 1.4621335809218752, 1.4620885034313387, 1.7506109879388068, 1.7810375092443904, 0.9501788093693644, 1.7810439253335526, 1.7152454308922356, 1.750622484100356, 1.2178789178919476, 0.8287138658559354, 1.573900675806253, 0.9756590929248679, 0.975679470271495, 1.4391933011371132, 1.6486512744766257, 1.2178675929692824, 0.48906446825934863, 0.9756721282222814, 0.7485987734154071, 0.9753930545816029, 0.8339482063486273, 1.461623401481814, 1.7845229861601775, 0.9756694579773022, 1.7529772469504783, 1.6925085211291728, 0.9756769766050417, 0.6845167506503727, 1.2178106903865786, 2.0667990772547715, 1.4533532904981412, 1.7809824950276036, 0.975594233001856, 1.315163916446703, 1.606112094108941, 0.9490063053517747, 0.9755988222004996, 1.2178654361013088, 1.6060588932110522, 0.9753430724107733, 0.975679101586057, 1.0709078571842012, 1.6855968708598539, -0.042843385387919854, 0.2195899553777723, 0.9756170204959969, 1.6337022695071208, 0.98200191366204, 1.217867270525388, 1.4816390398119939, 0.8286559883406072, 1.536749261074161, 1.4621138547293415, 0.9756791923819721, 0.9756781651374276, 0.8285134897504852, 1.66738931736914, 1.573890927060511, 0.9756665987701463, 2.0463265215186235, 1.7530081742435741, 1.5738923539223189, 0.828652851833554, 0.9732037330470378, 1.1710451317323416, 0.8287147271609124, 0.9728482265148825, 0.8286958074835196, 1.8715059311053597, 0.975639610029363, 1.6806810883238077, 0.035037996288074275, 1.6057544038099014, 0.6869760525851313, 1.8309113132336365, 0.9756032935731599, 1.6061087320411447, 1.7530795930067333, 0.8192430348634105, 0.8955420429543446, 1.6060811133861816, 0.9751208185146543, 1.0708929871356918, 1.2178613504688083, 0.8286029600260081, 1.5738188824257822, 0.9142647811041269, 1.0708635380878062, 0.9658769906958765, 1.242521708786771, 1.3346841657397281, 1.2060597046667902, 1.0758002250972065, 1.7530605092156648, -0.0048753529580978575, 0.9756730400425125, 1.753075300625611, 1.6061115549358755, 0.9424357221205908, 1.0709075397697723, 0.9756393113850236, 1.4814483579997866, 1.8690001482807896, 1.2176492961438752, 1.2178705932127236, 2.0667203446275644, 0.9603787662302888, 1.2179494988195296, 0.9755693697377209, 0.9756560166505457, 0.6870053935403291, 0.9756833685792939, 1.2177237915717607, 0.9700646502140865, 0.8389604211255055, 1.2174595365682237, 0.9756892361131901, 0.9755707860815258, 1.2178210481153111, 0.9756202141723324, 1.5739301521381588, 0.7152825977192405, 0.8339404710133972, 2.066942304629281, 0.8259365794929242, 0.9755837161035715, 0.4892037431168788, 1.7810482893584505, 2.0672875232675474, 2.067316410937986, 0.6867382487262297, 1.5739319068541504, 1.3308790113136053, 0.9225422911225445, 0.9755445342265694, 0.8287178176205384], \"z\": [-0.5030038121555875, -0.5033161471742237, -0.5969577952877484, -0.44320977112743326, 0.26831306878137967, -0.34532265314740607, -0.09021662733195143, -0.6526553958332224, -0.5030094462949017, -0.5031807155353308, -0.5030380730933623, -0.5030038414489646, -0.5030041363393936, -0.2808674650956078, -0.4281075444624708, -0.16210660039198707, -0.23970552862335032, -0.5030328528064983, -0.1885651176031977, -0.44321217084823983, -0.523756145689079, -0.2538234122766502, -0.34585526318508647, -0.2479002065197837, -0.5778591247916276, -0.5778449455653313, -0.2980671657142374, -0.5030804659113998, -0.5030278232190615, -0.5111653296696191, -0.188111931089909, -0.44320648925613293, 0.05232861189431752, -0.17398330655197225, -0.4432072365703074, -0.5033656103425245, -0.5030212881975628, -0.21725214945034274, -0.4432086159954954, 0.052326606827897734, -0.5778499393655885, -0.5030799175790835, -0.2099482049140098, -0.24953472516864553, -0.3453347915030754, -0.4281212808816201, -0.2479027054368279, -0.5778417079148184, -0.24796121138947663, -0.5030042207925497, -0.5778430508209266, -0.18809926090898335, -0.5030077410148851, -0.44320691031202814, -0.2927365454529257, -0.594761544975634, -0.28928143543610213, -0.24792646789606343, -0.5778488863432315, -0.34536841899702814, -0.6526407529725743, -0.4095491144078823, -0.34532331597560223, -0.44719460573045156, -0.3453233208507757, -0.5867348031036368, -0.5030077834066731, -0.24791412187308387, -0.44322278967919476, -0.261643568261207, -0.34532414119784566, -0.26900801493955856, -0.16211128528585975, -0.4432465671286971, -0.3453296333946815, -0.34534449032118025, -0.5839578208284454, -0.4432181302329967, -0.1568316160598656, -0.5032999880806445, -0.5030066197195816, -0.5030351428227918, -0.32274042401136943, -0.18830365653680325, -0.4432125671412324, -0.5030189709283047, -0.34532242518952055, -0.4432067766948345, -0.5030052639657784, -0.5030043522117372, -0.24794235383849678, -0.13859185735064417, -0.7105932304949526, -0.16212821326514051, -0.5030131450064173, -0.44333253290060004, -0.16214781841590847, -0.32273283437973677, -0.6981178418997049, -0.1621204862041695, -0.7050079099691803, -0.4105248503823634, -0.44321264271149585, -0.6035370768827532, -0.44320769616704486, -0.1621206844899687, -0.5030099151487246, -0.5030059601046925, -0.16211128528585975, -0.4432102729285246, -0.3453256813117442, -0.5030105999754444, -0.05845333289634365, -0.5030078743693182, -0.5030295617828976, -0.44320689022288984, -0.5030111708276364, -0.2584437110924944, -0.5030052327886658, -0.5030048510016821, -0.2500027275075816, -0.3190092975341733, -0.5030279364706086, -0.3453229626865248, -0.4432083908963636, -0.5030078014298266, -0.5030046635150749, -0.2478978706325978, -0.2129913647869142, -0.32273660180866875, -0.5033171189460556, -0.2479063753572288, -0.4432136438947831, -0.480677323921666, -0.4432411281432938, -0.16213980924103236, -0.4432159709396272, -0.1622307375923608, -0.4432578131359523, -0.5030060472666107, -0.5030051301108328, -0.503038855976713, -0.09285869114031733, -0.44321266562889516, -0.24804711283650382, -0.16210923735241525, -0.5030134234551704, -0.6670970445176102, -0.09022271490748764, -0.15685103394852715, -0.7526340517157502, -0.5839329570062735, -0.5839531584044141, -0.6881870638214942, -0.5778476942225755, -0.5072671722083372, -0.5778474873803071, -0.16297730086690793, -0.6881983467488846, -0.4432103200513267, -0.24790094066443788, -0.16210828288265214, -0.503010936224499, -0.5030051280310044, 0.26919185446053817, -0.19419845871000044, -0.44320945318713645, -0.2981309462774511, -0.5030046788917233, -0.035050939615796146, -0.5173676502813691, -0.3453506440293268, -0.5841293942150875, -0.4285644482301231, -0.5030051436175316, -0.5051234817830172, -0.25962715495129546, -0.5030088836898179, -0.09303261272662335, -0.443222149732439, -0.4105880209640534, -0.5928849706903101, -0.5778991522444543, -0.5030420383467468, -0.3288274271758004, -0.250004694381739, -0.5061164161374303, -0.5030113918172887, -0.4432208107244638, -0.25001106461347283, -0.5031997683281233, -0.5030046490153637, -0.18809977395264016, -0.15682626805622174, 0.09318857405450222, -0.3557506245508931, -0.5030772917274421, -0.32282409050100397, -0.45769514891872737, -0.4432079650371487, -0.6298710509156151, -0.2479065841373723, -0.11470619672155083, -0.5839370304384529, -0.5030041522837312, -0.5030043157796954, -0.24798700578553612, -0.22570066246208326, -0.16211418124677004, -0.5030076100347306, -0.3264385497419496, -0.5051538354276549, -0.16211089489522082, -0.018649370924676587, -0.5035735124748495, -0.47594746376569175, -0.24790682079593016, -0.5061995415394186, -0.2478987972281265, -0.7044573834117103, -0.5030127574346624, -0.39753896579051495, -0.40567590838627177, -0.2500227199929629, -0.09023244582041201, -0.2886464110957614, -0.27376840984989037, -0.2500019805179957, -0.5051097784866175, -0.2484846175226255, -0.2901576395022524, -0.2500211557735411, -0.5030402212059717, -0.18810509839503697, -0.44321680087346715, -0.2479342141150545, -0.162114945816439, -0.2676337799225677, -0.18810255853141536, -0.5039271890565546, 1.0284979084405803, -0.3747637998437128, -0.7816793981124718, -0.1928890940856799, -0.5051196665333995, 0.025375405629757417, -0.5030086592415511, -0.5051137001573903, -0.25000028106741634, -0.5141966232746815, -0.18809870082923677, -0.5030124643296652, -0.6299416770382184, -0.7048687114265533, -0.4432254418662565, -0.4432141553115024, -0.4108036704118106, -0.508490285716278, -0.443274022050933, -0.5030117778193062, -0.5030114344835305, -0.09021480730829559, -0.503006493489411, -0.44334542300628066, -0.503643348855694, -0.35032261669330034, -0.44337899120088364, -0.5030210398421529, -0.5031303365800401, -0.44326980932305676, -0.5030382454389696, -0.16210639713459407, 0.006206542003982823, -0.34534598138854405, -0.41052935714153105, -0.25102858177536663, -0.5030844424284199, -0.2980685495618566, -0.5778407693819938, -0.4107744854184254, -0.4108028372719234, -0.09052615830039595, -0.1621079049669206, -0.20363938937814718, -0.21268911426361603, -0.5030166951363849, -0.24789520784684846]}, {\"customdata\": [[\"SHA-256\"], [\"Ethash\"], [\"Scrypt\"], [\"CryptoNight-V7\"], [\"Ethash\"], [\"Equihash\"], [\"Multiple\"], [\"Scrypt\"], [\"X11\"], [\"Scrypt\"], [\"Multiple\"], [\"Scrypt\"], [\"SHA-256\"], [\"Scrypt\"], [\"Scrypt\"], [\"Quark\"], [\"Groestl\"], [\"Scrypt\"], [\"Scrypt\"], [\"Scrypt\"], [\"X11\"], [\"Multiple\"], [\"SHA-256\"], [\"Scrypt\"], [\"Scrypt\"], [\"Scrypt\"], [\"Scrypt\"], [\"Scrypt\"], [\"NeoScrypt\"], [\"Scrypt\"], [\"Scrypt\"], [\"Scrypt\"], [\"Scrypt\"], [\"SHA-256\"], [\"Scrypt\"], [\"Scrypt\"], [\"Scrypt\"], [\"Scrypt\"], [\"HybridScryptHash256\"], [\"Scrypt\"], [\"Scrypt\"], [\"SHA-256\"], [\"Scrypt\"], [\"Scrypt\"], [\"Scrypt\"], [\"Scrypt\"], [\"SHA-256\"], [\"SHA-256\"], [\"SHA-256\"], [\"SHA-256\"], [\"SHA-256\"], [\"X11\"], [\"Scrypt\"], [\"Lyra2REv2\"], [\"Scrypt\"], [\"SHA-256\"], [\"CryptoNight\"], [\"CryptoNight\"], [\"Scrypt\"], [\"Scrypt\"], [\"Scrypt\"], [\"Scrypt\"], [\"Scrypt\"], [\"Scrypt\"], [\"Stanford Folding\"], [\"Multiple\"], [\"QuBit\"], [\"Scrypt\"], [\"Scrypt\"], [\"M7 POW\"], [\"Scrypt\"], [\"SHA-256\"], [\"Scrypt\"], [\"X11\"], [\"Lyra2RE\"], [\"SHA-256\"], [\"X11\"], [\"Scrypt\"], [\"Scrypt\"], [\"Ethash\"], [\"Blake2b\"], [\"X11\"], [\"SHA-256\"], [\"Scrypt\"], [\"1GB AES Pattern Search\"], [\"Scrypt\"], [\"SHA-256\"], [\"X11\"], [\"Dagger\"], [\"Scrypt\"], [\"X11GOST\"], [\"Scrypt\"], [\"X11\"], [\"Scrypt\"], [\"X11\"], [\"Equihash\"], [\"CryptoNight\"], [\"SHA-256\"], [\"Multiple\"], [\"Scrypt\"], [\"SHA-256\"], [\"Scrypt\"], [\"Lyra2Z\"], [\"Ethash\"], [\"Equihash\"], [\"Scrypt\"], [\"X11\"], [\"X11\"], [\"CryptoNight\"], [\"Scrypt\"], [\"CryptoNight\"], [\"Lyra2RE\"], [\"X11\"], [\"CryptoNight-V7\"], [\"Scrypt\"], [\"X11\"], [\"Equihash\"], [\"Scrypt\"], [\"Lyra2RE\"], [\"Dagger-Hashimoto\"], [\"Scrypt\"], [\"NIST5\"], [\"Scrypt\"], [\"SHA-256\"], [\"Scrypt\"], [\"CryptoNight-V7\"], [\"Argon2d\"], [\"Blake2b\"], [\"Cloverhash\"], [\"CryptoNight\"], [\"X11\"], [\"Scrypt\"], [\"Scrypt\"], [\"X11\"], [\"X11\"], [\"CryptoNight\"], [\"Time Travel\"], [\"Scrypt\"], [\"Keccak\"], [\"X11\"], [\"SHA-256\"], [\"Scrypt\"], [\"Scrypt\"], [\"Scrypt\"], [\"Scrypt\"], [\"Scrypt\"], [\"Scrypt\"], [\"CryptoNight\"], [\"Equihash\"], [\"X11\"], [\"NeoScrypt\"], [\"Equihash\"], [\"Dagger\"], [\"Scrypt\"], [\"X11\"], [\"NeoScrypt\"], [\"Ethash\"], [\"NeoScrypt\"], [\"Multiple\"], [\"CryptoNight\"], [\"CryptoNight\"], [\"Ethash\"], [\"X11\"], [\"CryptoNight-V7\"], [\"Scrypt\"], [\"BLAKE256\"], [\"X11\"], [\"NeoScrypt\"], [\"NeoScrypt\"], [\"Scrypt\"], [\"X11\"], [\"SHA-256\"], [\"C11\"], [\"CryptoNight\"], [\"SkunkHash\"], [\"CryptoNight\"], [\"Scrypt\"], [\"Dagger\"], [\"Lyra2REv2\"], [\"Scrypt\"], [\"Scrypt\"], [\"X11\"], [\"Ethash\"], [\"CryptoNight\"], [\"Scrypt\"], [\"IMesh\"], [\"Equihash\"], [\"Lyra2Z\"], [\"X11\"], [\"CryptoNight\"], [\"NIST5\"], [\"Lyra2RE\"], [\"Tribus\"], [\"Lyra2Z\"], [\"CryptoNight\"], [\"CryptoNight Heavy\"], [\"CryptoNight\"], [\"Jump Consistent Hash\"], [\"CryptoNight\"], [\"X16R\"], [\"HMQ1725\"], [\"X11\"], [\"Scrypt\"], [\"CryptoNight-V7\"], [\"Cryptonight-GPU\"], [\"XEVAN\"], [\"CryptoNight Heavy\"], [\"SHA-256\"], [\"X11\"], [\"X16R\"], [\"Equihash\"], [\"Lyra2Z\"], [\"SHA-256\"], [\"CryptoNight\"], [\"Blake\"], [\"Blake\"], [\"Exosis\"], [\"Scrypt\"], [\"Equihash\"], [\"Equihash\"], [\"QuBit\"], [\"SHA-256\"], [\"X13\"], [\"SHA-256\"], [\"Scrypt\"], [\"NeoScrypt\"], [\"Blake\"], [\"Scrypt\"], [\"SHA-256\"], [\"Scrypt\"], [\"Groestl\"], [\"Scrypt\"], [\"Scrypt\"], [\"Multiple\"], [\"Equihash+Scrypt\"], [\"Ethash\"], [\"CryptoNight\"], [\"Equihash\"]], \"hovertemplate\": \"<b>%{hovertext}</b><br><br>Class=%{marker.color}<br>PC 1=%{x}<br>PC 2=%{y}<br>PC 3=%{z}<br>Algorithm=%{customdata[0]}<extra></extra>\", \"hovertext\": [\"Bitcoin\", \"Ethereum\", \"Litecoin\", \"Monero\", \"Ethereum Classic\", \"ZCash\", \"DigiByte\", \"ProsperCoin\", \"Spreadcoin\", \"Argentum\", \"MyriadCoin\", \"MoonCoin\", \"ZetaCoin\", \"SexCoin\", \"Quatloo\", \"QuarkCoin\", \"Riecoin\", \"Digitalcoin \", \"Catcoin\", \"CannaCoin\", \"CryptCoin\", \"Verge\", \"DevCoin\", \"EarthCoin\", \"E-Gulden\", \"Einsteinium\", \"Emerald\", \"Franko\", \"FeatherCoin\", \"GrandCoin\", \"GlobalCoin\", \"GoldCoin\", \"Infinite Coin\", \"IXcoin\", \"KrugerCoin\", \"LuckyCoin\", \"Litebar \", \"MegaCoin\", \"MediterraneanCoin\", \"MinCoin\", \"NobleCoin\", \"Namecoin\", \"NyanCoin\", \"RonPaulCoin\", \"StableCoin\", \"SmartCoin\", \"SysCoin\", \"TigerCoin\", \"TerraCoin\", \"UnbreakableCoin\", \"Unobtanium\", \"UroCoin\", \"ViaCoin\", \"Vertcoin\", \"WorldCoin\", \"JouleCoin\", \"ByteCoin\", \"DigitalNote \", \"MonaCoin\", \"Gulden\", \"PesetaCoin\", \"Wild Beast Coin\", \"Flo\", \"ArtByte\", \"Folding Coin\", \"Unitus\", \"CypherPunkCoin\", \"OmniCron\", \"GreenCoin\", \"Cryptonite\", \"MasterCoin\", \"SoonCoin\", \"1Credit\", \"MarsCoin \", \"Crypto\", \"Anarchists Prime\", \"BowsCoin\", \"Song Coin\", \"BitZeny\", \"Expanse\", \"Siacoin\", \"MindCoin\", \"I0coin\", \"Revolution VR\", \"HOdlcoin\", \"Gamecredits\", \"CarpeDiemCoin\", \"Adzcoin\", \"SoilCoin\", \"YoCoin\", \"SibCoin\", \"Francs\", \"BolivarCoin\", \"Omni\", \"PizzaCoin\", \"Komodo\", \"Karbo\", \"ZayedCoin\", \"Circuits of Value\", \"DopeCoin\", \"DollarCoin\", \"Shilling\", \"ZCoin\", \"Elementrem\", \"ZClassic\", \"KiloCoin\", \"ArtexCoin\", \"Kurrent\", \"Cannabis Industry Coin\", \"OsmiumCoin\", \"Bikercoins\", \"HexxCoin\", \"PacCoin\", \"Citadel\", \"BeaverCoin\", \"VaultCoin\", \"Zero\", \"Canada eCoin\", \"Zoin\", \"DubaiCoin\", \"EB3coin\", \"Coinonat\", \"BenjiRolls\", \"ILCoin\", \"EquiTrader\", \"Quantum Resistant Ledger\", \"Dynamic\", \"Nano\", \"ChanCoin\", \"Dinastycoin\", \"DigitalPrice\", \"Unify\", \"SocialCoin\", \"ArcticCoin\", \"DAS\", \"LeviarCoin\", \"Bitcore\", \"gCn Coin\", \"SmartCash\", \"Onix\", \"Bitcoin Cash\", \"Sojourn Coin\", \"NewYorkCoin\", \"FrazCoin\", \"Kronecoin\", \"AdCoin\", \"Linx\", \"Sumokoin\", \"BitcoinZ\", \"Elements\", \"VIVO Coin\", \"Bitcoin Gold\", \"Pirl\", \"eBoost\", \"Pura\", \"Innova\", \"Ellaism\", \"GoByte\", \"SHIELD\", \"UltraNote\", \"BitCoal\", \"DaxxCoin\", \"AC3\", \"Lethean\", \"PopularCoin\", \"Photon\", \"Sucre\", \"SparksPay\", \"GunCoin\", \"IrishCoin\", \"Pioneer Coin\", \"UnitedBitcoin\", \"Interzone\", \"TurtleCoin\", \"MUNcoin\", \"Niobio Cash\", \"ShareChain\", \"Travelflex\", \"KREDS\", \"BitFlip\", \"LottoCoin\", \"Crypto Improvement Fund\", \"Callisto Network\", \"BitTube\", \"Poseidon\", \"Aidos Kuneen\", \"Bitrolium\", \"Alpenschillling\", \"FuturoCoin\", \"Monero Classic\", \"Jumpcoin\", \"Infinex\", \"KEYCO\", \"GINcoin\", \"PlatinCoin\", \"Loki\", \"Newton Coin\", \"MassGrid\", \"PluraCoin\", \"Motion\", \"PlusOneCoin\", \"Axe\", \"HexCoin\", \"Webchain\", \"Ryo\", \"Urals Coin\", \"Qwertycoin\", \"Project Pai\", \"Azart\", \"Xchange\", \"CrypticCoin\", \"Actinium\", \"Bitcoin SV\", \"FREDEnergy\", \"Universal Molecule\", \"Lithium\", \"Exosis\", \"Block-Logic\", \"Beam\", \"Bithereum\", \"SLICE\", \"BLAST\", \"Bitcoin Rhodium\", \"GlobalToken\", \"SolarCoin\", \"UFO Coin\", \"BlakeCoin\", \"Crypto Escudo\", \"Crown Coin\", \"SmileyCoin\", \"Groestlcoin\", \"Bata\", \"Pakcoin\", \"JoinCoin\", \"Vollar\", \"Reality Clash\", \"Beldex\", \"Horizen\"], \"legendgroup\": \"0\", \"marker\": {\"color\": [0, 0, 0, 0, 0, 0, 0, 0, 0, 0, 0, 0, 0, 0, 0, 0, 0, 0, 0, 0, 0, 0, 0, 0, 0, 0, 0, 0, 0, 0, 0, 0, 0, 0, 0, 0, 0, 0, 0, 0, 0, 0, 0, 0, 0, 0, 0, 0, 0, 0, 0, 0, 0, 0, 0, 0, 0, 0, 0, 0, 0, 0, 0, 0, 0, 0, 0, 0, 0, 0, 0, 0, 0, 0, 0, 0, 0, 0, 0, 0, 0, 0, 0, 0, 0, 0, 0, 0, 0, 0, 0, 0, 0, 0, 0, 0, 0, 0, 0, 0, 0, 0, 0, 0, 0, 0, 0, 0, 0, 0, 0, 0, 0, 0, 0, 0, 0, 0, 0, 0, 0, 0, 0, 0, 0, 0, 0, 0, 0, 0, 0, 0, 0, 0, 0, 0, 0, 0, 0, 0, 0, 0, 0, 0, 0, 0, 0, 0, 0, 0, 0, 0, 0, 0, 0, 0, 0, 0, 0, 0, 0, 0, 0, 0, 0, 0, 0, 0, 0, 0, 0, 0, 0, 0, 0, 0, 0, 0, 0, 0, 0, 0, 0, 0, 0, 0, 0, 0, 0, 0, 0, 0, 0, 0, 0, 0, 0, 0, 0, 0, 0, 0, 0, 0, 0, 0, 0, 0, 0, 0, 0, 0, 0, 0, 0, 0, 0, 0, 0, 0, 0, 0, 0, 0, 0, 0, 0, 0, 0, 0, 0, 0, 0, 0, 0, 0, 0, 0], \"coloraxis\": \"coloraxis\", \"symbol\": \"diamond\"}, \"mode\": \"markers\", \"name\": \"0\", \"scene\": \"scene\", \"showlegend\": true, \"type\": \"scatter3d\", \"x\": [-0.15351899746626582, -0.15707785129266416, -0.1583056408595274, -0.15073339096979294, -0.15551850918444815, -0.15888771410344957, 0.15620820295398416, -0.15945295529988057, -0.23645024405522094, -0.1590691521359459, -0.09743114948945014, 2.564789246322044, -0.15060119167497213, -0.15632200567142804, -0.15887301718689367, -0.2289249981413124, -0.20987211919171944, -0.15892179651658084, -0.15943520396992047, -0.15952173791800356, -0.2365396722809812, 0.1799840460780728, 0.22468121019781925, 0.08944158639836405, -0.15926779065565785, -0.15486901810481046, -0.15920703339002568, -0.1595787952032852, -0.17758778890827026, -0.13878187637935263, -0.15837276695566366, -0.15865048773823606, 1.5909721901557823, -0.15348032910699755, -0.15593737469690006, -0.15929425736150046, -0.15964940399942928, -0.15890796026941878, -0.13039716520357922, -0.15953056083917622, -0.02431497194705676, -0.15355801557029197, -0.1531885260691105, -0.15950999046860792, -0.1576026352886764, -0.15899625429069722, -0.1406981845158026, -0.15302127880349042, -0.1533087608869476, -0.15329175796252692, -0.15388298173844714, -0.23671372313801234, -0.15922620405827378, -0.19373686211149363, -0.15632673592990387, -0.15308863788883698, 3.863227274322222, 0.4590010666655624, -0.15809275273473863, -0.14267778000313558, -0.1568103635824631, -0.15965161644089085, -0.15667526609230353, -0.14288606392042424, -0.13060423437963392, -0.1314694868891866, -0.18858441707017476, -0.1595245704652503, -0.03234582798437476, -0.12955771452192424, -0.15966051616117843, -0.15358582028374676, 0.4930642153907066, -0.23610033457051793, -0.15601100931041373, -0.15332545286197, -0.23638550311370152, -0.15778262192967404, -0.15697410336544518, -0.15814636744619323, 0.38343488182748847, -0.23642093070474393, -0.15348145255709378, -0.15561458050798732, -0.1553425242282469, -0.1582225261109867, 0.26539549951982105, -0.23558088309101446, -0.1594987048819619, -0.15847025916950908, -0.16814249621370492, -0.15945023698216026, -0.23638414509353234, -0.15966057471096573, -0.2365342630750507, -0.2848703726663415, 0.3037615647647841, -0.15374178361768254, -0.11152336639172196, -0.15682466475170723, -0.15370037346004725, -0.15932366785275104, -0.14679868711033545, -0.15788827896776814, -0.15890935235087786, -0.0863225502764335, -0.22310480079620953, -0.234360443390295, 0.30375591448693606, -0.15964229631264362, 0.3038867554446728, -0.15655193987146987, 0.479333192851706, -0.14949703007566126, -0.15961055286755166, -0.22926196736007243, -0.1589217361301401, -0.15774206521146003, -0.15627005255380025, -0.1424373077068703, -0.13050888406727887, -0.19381196722649752, -0.15917252656284053, -0.12003587490339485, -0.1589944459680667, -0.14935456289171142, -0.15002093929590463, -0.01726094722274011, -0.1533590563248123, 0.3399117697820469, -0.2355892975932293, -0.1593139784419727, -0.1590771714568772, -0.23598433277210218, -0.23656231829383131, 0.30415126308865476, -0.18865876409791735, 3.2532225380344775, -0.10768276779225669, -0.22742635666308578, -0.1535181608639322, -0.08516955268428134, 1.5890716638349807, -0.15941192250886024, -0.15886307895620472, -0.15856377371277694, -0.1585506918219706, 0.3043350250982759, 0.053596018337102425, -0.19090594571687272, -0.18228087721503677, -0.15876763962070595, -0.1582566848848102, -0.1577402726100219, -0.23210264195663485, -0.1821261519501319, -0.15625208132646495, -0.18222644476369498, -0.1216922516798154, 1.142451927992554, 0.3037386740772271, -0.08107545571639439, -0.23184412329832754, -0.13845667114548446, -0.07572184734663351, 1.0765657928608892, -0.23653629212129854, -0.18227842865358238, -0.17530985567294635, -0.1586622242409399, -0.2364616289800203, -0.1534975373871963, -0.19660593810399432, 8.04836306338767, -0.15191811781576225, 0.307616644434327, 0.033561134913816945, -0.15775936786492217, -0.1792815635250343, -0.15923649245159285, 0.14812622133134473, -0.2305971763094648, -0.10924956078816005, 0.31166878473826426, -0.15947372033614474, -0.13461708945758236, -0.1577577804627915, -0.14458025055212903, -0.23563011007958581, 0.30392136722823343, -0.19387146490879126, -0.15639703968786636, -0.16993470803584715, -0.14688313757772942, 0.30785296531422174, 0.5653095716502179, 2.114032515805422, -0.15133493778804824, 0.3175388722595382, -0.1893499605376863, -0.13640600535664021, -0.23651843579327866, -0.15949832723314547, -0.13833704578864917, -0.17065833994591814, -0.17290444091429003, 3.090193208972942, -0.11330815179898455, -0.2364897765561465, -0.1887771848476029, -0.05341667401549887, -0.14628035860015262, -0.15351819846629192, 0.3837532868964214, -0.15285514450222254, -0.15324748844614258, -0.14358536439493533, -0.1583896162892437, -0.15682603602704404, -0.15860030230622824, -0.18779469727923373, -0.15279366489280546, -0.112128711746008, -0.1516605766460552, 0.5370218190083228, -0.10737375900329514, -0.10366998239634224, -0.14303679802426686, -0.15330813071926488, 0.5568402773832805, -0.209432705122024, -0.15957522707285754, -0.15752907514500994, -0.13220509681561848, -0.12646019543014234, -0.15792146867680382, 0.32551603564186243, -0.15888877209017305], \"y\": [-1.2906505697671216, -2.020472192652787, -1.1489707316359958, -2.2298265181413015, -2.0205884664155325, -1.9824897304772686, -1.8236426940780848, -1.1489516122107248, -0.9067494715391594, -1.1489739242190722, -1.8157336602284881, -1.364500207846412, -1.290690900795187, -1.1490452219675695, -1.1489955080532193, -0.37160631802015853, -1.2628825511364488, -1.1489590115692523, -1.1489512004313438, -1.1489475019328386, -0.9067500941482229, -1.819864390260042, -1.2971067748268483, -1.1529628345561365, -1.1489473169279052, -1.1490476628690782, -1.1489538928010359, -1.14894744318379, -1.6355143179809286, -1.14948812624597, -1.1489621257015852, -1.1489701982466787, -1.1741011304927327, -1.2906496727733185, -1.1490474941154143, -1.1489472049455067, -1.148941904662967, -1.1489542145041522, -2.1125609367090323, -1.148945427168688, -1.1566905566901056, -1.2906514748739977, -1.1490356905179016, -1.148952935261253, -1.1490749288612188, -1.148962941255121, -1.2909825481926325, -1.2906579070893065, -1.2906609374859128, -1.2906881285300553, -1.2906439500322944, -0.9067410648252927, -1.1489478041058927, -1.2290870021126412, -1.1490565261669805, -1.2906580090703381, -2.3423746119607007, -2.2946910761362873, -1.1489811249586102, -1.1497668000133656, -1.1489958522740307, -1.1489428837278592, -1.1489880825944068, -1.1492779970008657, -2.15676043114286, -1.8150713844973174, -1.573716182664638, -1.148940476242651, -1.1532471831201525, -2.204794256562618, -1.1489416321227033, -1.2906521198627239, -1.2005857183985869, -0.906750791785726, -2.2286352992550067, -1.290669861666099, -0.9067486956702756, -1.1490502409242112, -1.149060348743168, -2.0205092520445054, -2.106172477426749, -0.9067458878215149, -1.290649698834103, -1.1489997744259721, -2.184004034104676, -1.148968803614845, -1.296616958837104, -0.9067757646123228, -2.2413754013708407, -1.1490357837149876, -2.2937677648010193, -1.1489508232204078, -0.9067515679010596, -1.1489416312813105, -0.9067550502029303, -1.2203620373046293, -2.29104010947564, -1.2906475608479342, -1.815479812214258, -1.149020585539232, -1.2906472552604555, -1.1489551465159065, -2.138093419309543, -2.020510015696366, -1.9824902324218634, -1.154499286559802, -0.9067883439033403, -0.9068519883351145, -2.291048225811215, -1.1489427301657842, -2.2910480944133127, -2.228607348113267, -0.9627241755670786, -2.2299321358009454, -1.1489424625551543, -0.9072941389278225, -1.9824876159567186, -1.1489692732468364, -2.228608794411133, -2.0509275849757107, -1.1511686820043194, -0.6625083002181092, -1.1489556479180434, -1.2916734468890188, -1.1489779987184334, -2.229870756317109, -2.096401485606342, -2.1157144810312207, -2.1671108797427285, -2.2916461366696286, -0.9067875747360314, -1.1489471374224767, -1.148982095509578, -0.9067677010775468, -0.9067512728099595, -2.2910630106666, -2.3434486811888604, -1.2149588376906524, -1.2123242482473526, -0.9073241514052699, -1.2906505503603776, -1.154835506973314, -1.108375666685515, -1.1489499344357288, -1.1489836625834282, -1.1489883345013403, -1.1489880310394074, -2.291084074923941, -1.9927900772303526, -0.9069851370303688, -1.6353988706533682, -1.9824869450974512, -2.2414382803626856, -1.148969231663681, -0.9068881777427351, -1.6354083482739967, -2.0206562984880696, -1.6354010924578328, -1.815323696922576, -2.333281990112916, -2.2910424553062856, -2.0259684897468135, -0.9070273675052051, -2.2302672906842504, -1.1506237148474412, -1.3871638409146305, -0.9067513224181312, -1.635394458254471, -1.635580529584726, -1.1489644846718865, -0.9067519134360872, -1.2906494665272072, -1.1426220485022913, -2.8373137811245734, -2.138088925833751, -2.2911873370384757, -1.151718332692831, -2.2413858691216393, -1.2294892292620019, -1.1489603836316697, -1.1551636609125526, -0.9069621452894364, -2.0240812809874527, -2.291575358797268, -1.1489520938993534, -2.0152261515306553, -1.982499090021498, -2.138244203011718, -0.90678852146737, -2.2910425003609904, -0.6624898972594674, -2.228615573071862, -2.1963668636897498, -2.138087465643313, -2.291373501827699, -2.296737731636372, -2.382611527416638, -2.329363221024201, -2.2914391897883997, -1.14899302644664, -1.982049562292302, -0.9067517793229737, -1.1489534670551491, -2.230809342029032, -2.286345981060041, -0.6430631954690164, -2.3719717653996732, -1.2912270099301073, -0.9067540182446903, -1.1490363075502026, -1.9855449561231957, -2.1381268390112225, -1.2906505512326434, -2.2950428146304165, -2.2880387373453, -2.287989842909317, -2.2116053949670413, -1.1489988132186932, -1.9826174361788542, -1.9824902399328848, -1.5737704567783113, -1.2906649592835127, -0.3435746267399743, -1.2907141719775994, -1.2039942221536888, -1.6365453754377657, -2.291903006705612, -1.1492814935949875, -1.2906609228678505, -1.1686171030940458, -1.2628876026020102, -1.1489428336296472, -1.1490238590196478, -1.8150904811275859, -2.1211366181449836, -2.0205095387420906, -2.2915446776209087, -1.9824897550194926], \"z\": [0.1740455912623344, 0.3574232681947684, 0.01634854725378962, 0.3951963740533918, 0.35741435815575845, 0.28964420060627394, 0.3127101003033724, 0.016366690597812858, 0.07616255055120552, 0.016363397488665447, 0.31607879085194396, 0.0029656503322832662, 0.17399800329982368, 0.01632440590616783, 0.01636349061577408, 0.014184008231047677, 0.091249643621113, 0.016358037688030708, 0.01636628645623596, 0.01636726128798646, 0.07616433329881125, 0.31160595165099286, 0.16809163525159207, 0.012406927913913917, 0.01636247498515243, 0.016297630948320433, 0.016362484609246566, 0.01636831918409193, 0.2212368822652058, 0.01607330110543072, 0.0163483027528931, 0.016354909937454778, -0.012015384534588384, 0.17404471090623416, 0.01631760173505613, 0.01636295092327384, 0.01636867493204859, 0.016356941910935285, 0.4219032984079853, 0.01636706455556357, 0.015186742012250962, 0.1740464795810242, 0.016264082869466144, 0.01636798910801405, 0.016353561787684726, 0.0163601170359462, 0.17386348579400576, 0.17403755354895312, 0.17404346396544532, 0.17404788861150525, 0.17405125056362852, 0.07616601663628987, 0.016361781439943317, 0.22920356760335808, 0.016326466257493944, 0.1740388323366618, 0.3403745967707516, 0.3957861144593067, 0.016346374784596312, 0.01619484379483397, 0.01632493664937353, 0.016368887129045467, 0.016321052280232468, 0.016113480781390365, 0.33808115278769724, 0.3166004860811749, 0.2003729391891767, 0.016366088819471176, 0.014736454332311265, 0.34364072547273516, 0.01636883541846179, 0.1740471126063111, 0.013157778692150615, 0.07615623034475376, 0.27327877285907604, 0.17404533309849704, 0.07616120322992571, 0.01635262490484957, 0.016339252105918342, 0.35744973569632404, 0.37784551776140135, 0.07616137667915539, 0.1740447364836357, 0.016303235076372338, 0.3559712174010953, 0.016346654994131, 0.16724400248314195, 0.07615086195271507, 0.4045294389702878, 0.016362976072200785, 0.3977652893929733, 0.016366502085356827, 0.0761616788119814, 0.016368836367781383, 0.07616509652310063, 0.06430628030147438, 0.3980554429436933, 0.17404923709394898, 0.3162983260355091, 0.01632951861341478, 0.17404840856923293, 0.016364886756724463, 0.4093102249030569, 0.35744503734242317, 0.2896446932406538, 0.01596533339196871, 0.0759194970489824, 0.07614131040051769, 0.3980569644572859, 0.016368685865197827, 0.39805449212283595, 0.27328402384202777, 0.07252639245924875, 0.3951916516497495, 0.016368044930977585, 0.0761229887205297, 0.2896444686802219, 0.0163377424202359, 0.27327899903512953, 0.41973970172861397, 0.016211566492345803, -0.06456310752978865, 0.016362144768590697, 0.17359718987699285, 0.016362709665515444, 0.39517827812556616, 0.3459784877695353, 0.3870111813065143, 0.44394051529507933, 0.3974844009259476, 0.07615307952378768, 0.016363308334655994, 0.016364972937867643, 0.0761570082252576, 0.07616496283929153, 0.39805214224538904, 0.21878470638790146, -0.03600679017791348, 0.25095471268165664, 0.0760938601739433, 0.17404557221555267, 0.01600239577191545, -0.023444337736572254, 0.01636562978611531, 0.016361238354228945, 0.016356450121028612, 0.016356152287796275, 0.3980523763706299, 0.28746308402694926, 0.07535104352969518, 0.22130460191084372, 0.28964146689049414, 0.4045171556936526, 0.016337701608377088, 0.07610535565695556, 0.2213033585559071, 0.3574399230185291, 0.22130397045612676, 0.31646146187257085, 0.38972297501905995, 0.398056280654592, 0.35695918398198634, 0.07612479499940539, 0.39504343133059755, 0.015090864107477207, 0.098308899039094, 0.07616448426822173, 0.22130378641503984, 0.22120578743295058, 0.016354133028955258, 0.07616318962480133, 0.17404499707906362, 0.06167737979270703, 0.3483590911137651, 0.45556348486193704, 0.39800895472579995, 0.01323596146886976, 0.40449870352149897, 0.22900311719272232, 0.016364168298551817, 0.01169221075901658, 0.07609007471624997, 0.35715743175595216, 0.3980007793006535, 0.016367163351940127, 0.5807381943652279, 0.289624680218462, 0.40929499584317364, 0.07615400869487711, 0.39805286839732207, -0.06456520373959912, 0.2732825587099269, 0.2471309838265856, 0.40931076736064376, 0.39803700350497123, 0.3175634063580131, 0.380139033264191, 0.32488853080514496, 0.3978671359942999, 0.24561455972946114, 0.4919526167243409, 0.07616422968613382, 0.016367863526964774, 0.39513574221957526, 0.3057074674639799, -0.11050743359688352, 0.2834193147354897, 0.17339337093645002, 0.07616408370592331, 0.24561138660263446, 0.2882026496154276, 0.4093063509271114, 0.1740455730716393, 0.39725614820699784, 0.2833392679350747, 0.2833380841435105, 0.49235486140187323, 0.016355017607305896, 0.2896278806418254, 0.28963890896412586, 0.20036762226690819, 0.17403452260992366, -0.05846828346474445, 0.17402189477500163, 0.012929415550462526, 0.22010228500901705, 0.2830925414936463, 0.01611691251966424, 0.1740434496185223, 0.0063875510077844744, 0.09124229867841026, 0.016367448339433592, 0.016343276558252424, 0.3166175881399445, 0.3898876982264432, 0.3574455754765958, 0.39773619941772537, 0.2896442246932814]}, {\"customdata\": [[\"VeChainThor Authority\"], [\"Proof-of-BibleHash\"], [\"SHA-256 + Hive\"], [\"Proof-of-Authority\"], [\"ECC 256K1\"], [\"Leased POS\"]], \"hovertemplate\": \"<b>%{hovertext}</b><br><br>Class=%{marker.color}<br>PC 1=%{x}<br>PC 2=%{y}<br>PC 3=%{z}<br>Algorithm=%{customdata[0]}<extra></extra>\", \"hovertext\": [\"Vechain\", \"BiblePay\", \"LitecoinCash\", \"Poa Network\", \"Acute Angle Cloud\", \"Waves\"], \"legendgroup\": \"1\", \"marker\": {\"color\": [1, 1, 1, 1, 1, 1], \"coloraxis\": \"coloraxis\", \"symbol\": \"square\"}, \"mode\": \"markers\", \"name\": \"1\", \"scene\": \"scene\", \"showlegend\": true, \"type\": \"scatter3d\", \"x\": [4.398295067810654, -0.1777675949867257, -0.43079411351674607, -0.44430017334869015, -0.34986745912210393, -0.4333433107612578], \"y\": [3.110292072391563, 2.7236419942253027, 3.2212471509035714, 2.870403585367379, 3.152321523307792, 4.063618891171109], \"z\": [7.744163706094436, 20.70971885936939, 6.100101686989515, 6.493379817219546, 19.027288033791667, 8.510707746097369]}, {\"customdata\": [[\"TRC10\"]], \"hovertemplate\": \"<b>%{hovertext}</b><br><br>Class=%{marker.color}<br>PC 1=%{x}<br>PC 2=%{y}<br>PC 3=%{z}<br>Algorithm=%{customdata[0]}<extra></extra>\", \"hovertext\": [\"BitTorrent\"], \"legendgroup\": \"3\", \"marker\": {\"color\": [3], \"coloraxis\": \"coloraxis\", \"symbol\": \"x\"}, \"mode\": \"markers\", \"name\": \"3\", \"scene\": \"scene\", \"showlegend\": true, \"type\": \"scatter3d\", \"x\": [34.07533713022928], \"y\": [1.5266104206557498], \"z\": [-0.9765887465550851]}],                        {\"coloraxis\": {\"colorbar\": {\"title\": {\"text\": \"Class\"}}, \"colorscale\": [[0.0, \"#0d0887\"], [0.1111111111111111, \"#46039f\"], [0.2222222222222222, \"#7201a8\"], [0.3333333333333333, \"#9c179e\"], [0.4444444444444444, \"#bd3786\"], [0.5555555555555556, \"#d8576b\"], [0.6666666666666666, \"#ed7953\"], [0.7777777777777778, \"#fb9f3a\"], [0.8888888888888888, \"#fdca26\"], [1.0, \"#f0f921\"]]}, \"legend\": {\"title\": {\"text\": \"Class\"}, \"tracegroupgap\": 0, \"x\": 0, \"y\": 1}, \"margin\": {\"t\": 60}, \"scene\": {\"domain\": {\"x\": [0.0, 1.0], \"y\": [0.0, 1.0]}, \"xaxis\": {\"title\": {\"text\": \"PC 1\"}}, \"yaxis\": {\"title\": {\"text\": \"PC 2\"}}, \"zaxis\": {\"title\": {\"text\": \"PC 3\"}}}, \"template\": {\"data\": {\"bar\": [{\"error_x\": {\"color\": \"#2a3f5f\"}, \"error_y\": {\"color\": \"#2a3f5f\"}, \"marker\": {\"line\": {\"color\": \"#E5ECF6\", \"width\": 0.5}}, \"type\": \"bar\"}], \"barpolar\": [{\"marker\": {\"line\": {\"color\": \"#E5ECF6\", \"width\": 0.5}}, \"type\": \"barpolar\"}], \"carpet\": [{\"aaxis\": {\"endlinecolor\": \"#2a3f5f\", \"gridcolor\": \"white\", \"linecolor\": \"white\", \"minorgridcolor\": \"white\", \"startlinecolor\": \"#2a3f5f\"}, \"baxis\": {\"endlinecolor\": \"#2a3f5f\", \"gridcolor\": \"white\", \"linecolor\": \"white\", \"minorgridcolor\": \"white\", \"startlinecolor\": \"#2a3f5f\"}, \"type\": \"carpet\"}], \"choropleth\": [{\"colorbar\": {\"outlinewidth\": 0, \"ticks\": \"\"}, \"type\": \"choropleth\"}], \"contour\": [{\"colorbar\": {\"outlinewidth\": 0, \"ticks\": \"\"}, \"colorscale\": [[0.0, \"#0d0887\"], [0.1111111111111111, \"#46039f\"], [0.2222222222222222, \"#7201a8\"], [0.3333333333333333, \"#9c179e\"], [0.4444444444444444, \"#bd3786\"], [0.5555555555555556, \"#d8576b\"], [0.6666666666666666, \"#ed7953\"], [0.7777777777777778, \"#fb9f3a\"], [0.8888888888888888, \"#fdca26\"], [1.0, \"#f0f921\"]], \"type\": \"contour\"}], \"contourcarpet\": [{\"colorbar\": {\"outlinewidth\": 0, \"ticks\": \"\"}, \"type\": \"contourcarpet\"}], \"heatmap\": [{\"colorbar\": {\"outlinewidth\": 0, \"ticks\": \"\"}, \"colorscale\": [[0.0, \"#0d0887\"], [0.1111111111111111, \"#46039f\"], [0.2222222222222222, \"#7201a8\"], [0.3333333333333333, \"#9c179e\"], [0.4444444444444444, \"#bd3786\"], [0.5555555555555556, \"#d8576b\"], [0.6666666666666666, \"#ed7953\"], [0.7777777777777778, \"#fb9f3a\"], [0.8888888888888888, \"#fdca26\"], [1.0, \"#f0f921\"]], \"type\": \"heatmap\"}], \"heatmapgl\": [{\"colorbar\": {\"outlinewidth\": 0, \"ticks\": \"\"}, \"colorscale\": [[0.0, \"#0d0887\"], [0.1111111111111111, \"#46039f\"], [0.2222222222222222, \"#7201a8\"], [0.3333333333333333, \"#9c179e\"], [0.4444444444444444, \"#bd3786\"], [0.5555555555555556, \"#d8576b\"], [0.6666666666666666, \"#ed7953\"], [0.7777777777777778, \"#fb9f3a\"], [0.8888888888888888, \"#fdca26\"], [1.0, \"#f0f921\"]], \"type\": \"heatmapgl\"}], \"histogram\": [{\"marker\": {\"colorbar\": {\"outlinewidth\": 0, \"ticks\": \"\"}}, \"type\": \"histogram\"}], \"histogram2d\": [{\"colorbar\": {\"outlinewidth\": 0, \"ticks\": \"\"}, \"colorscale\": [[0.0, \"#0d0887\"], [0.1111111111111111, \"#46039f\"], [0.2222222222222222, \"#7201a8\"], [0.3333333333333333, \"#9c179e\"], [0.4444444444444444, \"#bd3786\"], [0.5555555555555556, \"#d8576b\"], [0.6666666666666666, \"#ed7953\"], [0.7777777777777778, \"#fb9f3a\"], [0.8888888888888888, \"#fdca26\"], [1.0, \"#f0f921\"]], \"type\": \"histogram2d\"}], \"histogram2dcontour\": [{\"colorbar\": {\"outlinewidth\": 0, \"ticks\": \"\"}, \"colorscale\": [[0.0, \"#0d0887\"], [0.1111111111111111, \"#46039f\"], [0.2222222222222222, \"#7201a8\"], [0.3333333333333333, \"#9c179e\"], [0.4444444444444444, \"#bd3786\"], [0.5555555555555556, \"#d8576b\"], [0.6666666666666666, \"#ed7953\"], [0.7777777777777778, \"#fb9f3a\"], [0.8888888888888888, \"#fdca26\"], [1.0, \"#f0f921\"]], \"type\": \"histogram2dcontour\"}], \"mesh3d\": [{\"colorbar\": {\"outlinewidth\": 0, \"ticks\": \"\"}, \"type\": \"mesh3d\"}], \"parcoords\": [{\"line\": {\"colorbar\": {\"outlinewidth\": 0, \"ticks\": \"\"}}, \"type\": \"parcoords\"}], \"pie\": [{\"automargin\": true, \"type\": \"pie\"}], \"scatter\": [{\"marker\": {\"colorbar\": {\"outlinewidth\": 0, \"ticks\": \"\"}}, \"type\": \"scatter\"}], \"scatter3d\": [{\"line\": {\"colorbar\": {\"outlinewidth\": 0, \"ticks\": \"\"}}, \"marker\": {\"colorbar\": {\"outlinewidth\": 0, \"ticks\": \"\"}}, \"type\": \"scatter3d\"}], \"scattercarpet\": [{\"marker\": {\"colorbar\": {\"outlinewidth\": 0, \"ticks\": \"\"}}, \"type\": \"scattercarpet\"}], \"scattergeo\": [{\"marker\": {\"colorbar\": {\"outlinewidth\": 0, \"ticks\": \"\"}}, \"type\": \"scattergeo\"}], \"scattergl\": [{\"marker\": {\"colorbar\": {\"outlinewidth\": 0, \"ticks\": \"\"}}, \"type\": \"scattergl\"}], \"scattermapbox\": [{\"marker\": {\"colorbar\": {\"outlinewidth\": 0, \"ticks\": \"\"}}, \"type\": \"scattermapbox\"}], \"scatterpolar\": [{\"marker\": {\"colorbar\": {\"outlinewidth\": 0, \"ticks\": \"\"}}, \"type\": \"scatterpolar\"}], \"scatterpolargl\": [{\"marker\": {\"colorbar\": {\"outlinewidth\": 0, \"ticks\": \"\"}}, \"type\": \"scatterpolargl\"}], \"scatterternary\": [{\"marker\": {\"colorbar\": {\"outlinewidth\": 0, \"ticks\": \"\"}}, \"type\": \"scatterternary\"}], \"surface\": [{\"colorbar\": {\"outlinewidth\": 0, \"ticks\": \"\"}, \"colorscale\": [[0.0, \"#0d0887\"], [0.1111111111111111, \"#46039f\"], [0.2222222222222222, \"#7201a8\"], [0.3333333333333333, \"#9c179e\"], [0.4444444444444444, \"#bd3786\"], [0.5555555555555556, \"#d8576b\"], [0.6666666666666666, \"#ed7953\"], [0.7777777777777778, \"#fb9f3a\"], [0.8888888888888888, \"#fdca26\"], [1.0, \"#f0f921\"]], \"type\": \"surface\"}], \"table\": [{\"cells\": {\"fill\": {\"color\": \"#EBF0F8\"}, \"line\": {\"color\": \"white\"}}, \"header\": {\"fill\": {\"color\": \"#C8D4E3\"}, \"line\": {\"color\": \"white\"}}, \"type\": \"table\"}]}, \"layout\": {\"annotationdefaults\": {\"arrowcolor\": \"#2a3f5f\", \"arrowhead\": 0, \"arrowwidth\": 1}, \"autotypenumbers\": \"strict\", \"coloraxis\": {\"colorbar\": {\"outlinewidth\": 0, \"ticks\": \"\"}}, \"colorscale\": {\"diverging\": [[0, \"#8e0152\"], [0.1, \"#c51b7d\"], [0.2, \"#de77ae\"], [0.3, \"#f1b6da\"], [0.4, \"#fde0ef\"], [0.5, \"#f7f7f7\"], [0.6, \"#e6f5d0\"], [0.7, \"#b8e186\"], [0.8, \"#7fbc41\"], [0.9, \"#4d9221\"], [1, \"#276419\"]], \"sequential\": [[0.0, \"#0d0887\"], [0.1111111111111111, \"#46039f\"], [0.2222222222222222, \"#7201a8\"], [0.3333333333333333, \"#9c179e\"], [0.4444444444444444, \"#bd3786\"], [0.5555555555555556, \"#d8576b\"], [0.6666666666666666, \"#ed7953\"], [0.7777777777777778, \"#fb9f3a\"], [0.8888888888888888, \"#fdca26\"], [1.0, \"#f0f921\"]], \"sequentialminus\": [[0.0, \"#0d0887\"], [0.1111111111111111, \"#46039f\"], [0.2222222222222222, \"#7201a8\"], [0.3333333333333333, \"#9c179e\"], [0.4444444444444444, \"#bd3786\"], [0.5555555555555556, \"#d8576b\"], [0.6666666666666666, \"#ed7953\"], [0.7777777777777778, \"#fb9f3a\"], [0.8888888888888888, \"#fdca26\"], [1.0, \"#f0f921\"]]}, \"colorway\": [\"#636efa\", \"#EF553B\", \"#00cc96\", \"#ab63fa\", \"#FFA15A\", \"#19d3f3\", \"#FF6692\", \"#B6E880\", \"#FF97FF\", \"#FECB52\"], \"font\": {\"color\": \"#2a3f5f\"}, \"geo\": {\"bgcolor\": \"white\", \"lakecolor\": \"white\", \"landcolor\": \"#E5ECF6\", \"showlakes\": true, \"showland\": true, \"subunitcolor\": \"white\"}, \"hoverlabel\": {\"align\": \"left\"}, \"hovermode\": \"closest\", \"mapbox\": {\"style\": \"light\"}, \"paper_bgcolor\": \"white\", \"plot_bgcolor\": \"#E5ECF6\", \"polar\": {\"angularaxis\": {\"gridcolor\": \"white\", \"linecolor\": \"white\", \"ticks\": \"\"}, \"bgcolor\": \"#E5ECF6\", \"radialaxis\": {\"gridcolor\": \"white\", \"linecolor\": \"white\", \"ticks\": \"\"}}, \"scene\": {\"xaxis\": {\"backgroundcolor\": \"#E5ECF6\", \"gridcolor\": \"white\", \"gridwidth\": 2, \"linecolor\": \"white\", \"showbackground\": true, \"ticks\": \"\", \"zerolinecolor\": \"white\"}, \"yaxis\": {\"backgroundcolor\": \"#E5ECF6\", \"gridcolor\": \"white\", \"gridwidth\": 2, \"linecolor\": \"white\", \"showbackground\": true, \"ticks\": \"\", \"zerolinecolor\": \"white\"}, \"zaxis\": {\"backgroundcolor\": \"#E5ECF6\", \"gridcolor\": \"white\", \"gridwidth\": 2, \"linecolor\": \"white\", \"showbackground\": true, \"ticks\": \"\", \"zerolinecolor\": \"white\"}}, \"shapedefaults\": {\"line\": {\"color\": \"#2a3f5f\"}}, \"ternary\": {\"aaxis\": {\"gridcolor\": \"white\", \"linecolor\": \"white\", \"ticks\": \"\"}, \"baxis\": {\"gridcolor\": \"white\", \"linecolor\": \"white\", \"ticks\": \"\"}, \"bgcolor\": \"#E5ECF6\", \"caxis\": {\"gridcolor\": \"white\", \"linecolor\": \"white\", \"ticks\": \"\"}}, \"title\": {\"x\": 0.05}, \"xaxis\": {\"automargin\": true, \"gridcolor\": \"white\", \"linecolor\": \"white\", \"ticks\": \"\", \"title\": {\"standoff\": 15}, \"zerolinecolor\": \"white\", \"zerolinewidth\": 2}, \"yaxis\": {\"automargin\": true, \"gridcolor\": \"white\", \"linecolor\": \"white\", \"ticks\": \"\", \"title\": {\"standoff\": 15}, \"zerolinecolor\": \"white\", \"zerolinewidth\": 2}}}, \"width\": 800},                        {\"responsive\": true}                    ).then(function(){\n",
       "                            \n",
       "var gd = document.getElementById('b0b346d9-d27e-4a56-b82e-33fc6cc4fbb9');\n",
       "var x = new MutationObserver(function (mutations, observer) {{\n",
       "        var display = window.getComputedStyle(gd).display;\n",
       "        if (!display || display === 'none') {{\n",
       "            console.log([gd, 'removed!']);\n",
       "            Plotly.purge(gd);\n",
       "            observer.disconnect();\n",
       "        }}\n",
       "}});\n",
       "\n",
       "// Listen for the removal of the full notebook cells\n",
       "var notebookContainer = gd.closest('#notebook-container');\n",
       "if (notebookContainer) {{\n",
       "    x.observe(notebookContainer, {childList: true});\n",
       "}}\n",
       "\n",
       "// Listen for the clearing of the current output cell\n",
       "var outputEl = gd.closest('.output');\n",
       "if (outputEl) {{\n",
       "    x.observe(outputEl, {childList: true});\n",
       "}}\n",
       "\n",
       "                        })                };                });            </script>        </div>"
      ]
     },
     "metadata": {},
     "output_type": "display_data"
    }
   ],
   "source": [
    "# Creating a 3D-Scatter with the PCA data and the clusters\n",
    "fig = px.scatter_3d(\n",
    "    clustered_df,\n",
    "    x=\"PC 1\",\n",
    "    y=\"PC 2\",\n",
    "    z=\"PC 3\",\n",
    "    color=\"Class\",\n",
    "    symbol=\"Class\",\n",
    "    width=800,\n",
    "    hover_name = \"CoinName\",\n",
    "    hover_data = [\"Algorithm\"],\n",
    ")\n",
    "fig.update_layout(legend=dict(x=0, y=1))\n",
    "fig.show()"
   ]
  },
  {
   "cell_type": "code",
   "execution_count": 43,
   "metadata": {},
   "outputs": [
    {
     "data": {},
     "metadata": {},
     "output_type": "display_data"
    },
    {
     "data": {
      "application/vnd.holoviews_exec.v0+json": "",
      "text/html": [
       "<div id='1619'>\n",
       "\n",
       "\n",
       "\n",
       "\n",
       "\n",
       "  <div class=\"bk-root\" id=\"6f824c25-5e26-4650-a451-bfb66cf5321d\" data-root-id=\"1619\"></div>\n",
       "</div>\n",
       "<script type=\"application/javascript\">(function(root) {\n",
       "  function embed_document(root) {\n",
       "    var docs_json = {\"46aa0314-07bd-4067-8bf6-fd76fc5d4fb2\":{\"defs\":[],\"roots\":{\"references\":[{\"attributes\":{\"editor\":{\"id\":\"1624\"},\"field\":\"Algorithm\",\"formatter\":{\"id\":\"1623\"},\"title\":\"Algorithm\"},\"id\":\"1625\",\"type\":\"TableColumn\"},{\"attributes\":{\"source\":{\"id\":\"1621\"}},\"id\":\"1670\",\"type\":\"CDSView\"},{\"attributes\":{},\"id\":\"1624\",\"type\":\"StringEditor\"},{\"attributes\":{\"format\":\"0,0.0[00000]\"},\"id\":\"1653\",\"type\":\"NumberFormatter\"},{\"attributes\":{\"editor\":{\"id\":\"1629\"},\"field\":\"ProofType\",\"formatter\":{\"id\":\"1628\"},\"title\":\"ProofType\"},\"id\":\"1630\",\"type\":\"TableColumn\"},{\"attributes\":{\"editor\":{\"id\":\"1664\"},\"field\":\"Class\",\"formatter\":{\"id\":\"1663\"},\"title\":\"Class\"},\"id\":\"1665\",\"type\":\"TableColumn\"},{\"attributes\":{},\"id\":\"1644\",\"type\":\"NumberEditor\"},{\"attributes\":{\"margin\":[5,5,5,5],\"name\":\"HSpacer02821\",\"sizing_mode\":\"stretch_width\"},\"id\":\"1620\",\"type\":\"Spacer\"},{\"attributes\":{},\"id\":\"1658\",\"type\":\"StringFormatter\"},{\"attributes\":{\"editor\":{\"id\":\"1659\"},\"field\":\"CoinName\",\"formatter\":{\"id\":\"1658\"},\"title\":\"CoinName\"},\"id\":\"1660\",\"type\":\"TableColumn\"},{\"attributes\":{},\"id\":\"1623\",\"type\":\"StringFormatter\"},{\"attributes\":{},\"id\":\"1634\",\"type\":\"NumberEditor\"},{\"attributes\":{},\"id\":\"1639\",\"type\":\"StringEditor\"},{\"attributes\":{\"children\":[{\"id\":\"1620\"},{\"id\":\"1668\"},{\"id\":\"1675\"}],\"margin\":[0,0,0,0],\"name\":\"Row02817\",\"tags\":[\"embedded\"]},\"id\":\"1619\",\"type\":\"Row\"},{\"attributes\":{\"format\":\"0,0.0[00000]\"},\"id\":\"1648\",\"type\":\"NumberFormatter\"},{\"attributes\":{},\"id\":\"1649\",\"type\":\"NumberEditor\"},{\"attributes\":{},\"id\":\"1659\",\"type\":\"StringEditor\"},{\"attributes\":{\"columns\":[{\"id\":\"1625\"},{\"id\":\"1630\"},{\"id\":\"1635\"},{\"id\":\"1640\"},{\"id\":\"1645\"},{\"id\":\"1650\"},{\"id\":\"1655\"},{\"id\":\"1660\"},{\"id\":\"1665\"}],\"height\":300,\"reorderable\":false,\"source\":{\"id\":\"1621\"},\"view\":{\"id\":\"1670\"},\"width\":700},\"id\":\"1668\",\"type\":\"DataTable\"},{\"attributes\":{},\"id\":\"1638\",\"type\":\"StringFormatter\"},{\"attributes\":{},\"id\":\"1663\",\"type\":\"NumberFormatter\"},{\"attributes\":{\"editor\":{\"id\":\"1649\"},\"field\":\"PC_2\",\"formatter\":{\"id\":\"1648\"},\"title\":\"PC 2\"},\"id\":\"1650\",\"type\":\"TableColumn\"},{\"attributes\":{},\"id\":\"1629\",\"type\":\"StringEditor\"},{\"attributes\":{\"editor\":{\"id\":\"1639\"},\"field\":\"TotalCoinSupply\",\"formatter\":{\"id\":\"1638\"},\"title\":\"TotalCoinSupply\"},\"id\":\"1640\",\"type\":\"TableColumn\"},{\"attributes\":{\"editor\":{\"id\":\"1654\"},\"field\":\"PC_3\",\"formatter\":{\"id\":\"1653\"},\"title\":\"PC 3\"},\"id\":\"1655\",\"type\":\"TableColumn\"},{\"attributes\":{},\"id\":\"1654\",\"type\":\"NumberEditor\"},{\"attributes\":{\"editor\":{\"id\":\"1634\"},\"field\":\"TotalCoinsMined\",\"formatter\":{\"id\":\"1633\"},\"title\":\"TotalCoinsMined\"},\"id\":\"1635\",\"type\":\"TableColumn\"},{\"attributes\":{\"format\":\"0,0.0[00000]\"},\"id\":\"1643\",\"type\":\"NumberFormatter\"},{\"attributes\":{\"data\":{\"Algorithm\":[\"Scrypt\",\"Scrypt\",\"X13\",\"SHA-256\",\"Ethash\",\"Scrypt\",\"X11\",\"CryptoNight-V7\",\"Ethash\",\"Equihash\",\"SHA-512\",\"Multiple\",\"SHA-256\",\"SHA-256\",\"Scrypt\",\"X15\",\"X11\",\"Scrypt\",\"Scrypt\",\"Scrypt\",\"Multiple\",\"Scrypt\",\"SHA-256\",\"Scrypt\",\"Scrypt\",\"Scrypt\",\"Quark\",\"Groestl\",\"Scrypt\",\"Scrypt\",\"Scrypt\",\"Scrypt\",\"Scrypt\",\"X11\",\"Scrypt\",\"Groestl\",\"Multiple\",\"SHA-256\",\"Scrypt\",\"Scrypt\",\"Scrypt\",\"Scrypt\",\"PoS\",\"Scrypt\",\"Scrypt\",\"NeoScrypt\",\"Scrypt\",\"Scrypt\",\"Scrypt\",\"Scrypt\",\"X11\",\"Scrypt\",\"X11\",\"SHA-256\",\"Scrypt\",\"Scrypt\",\"Scrypt\",\"SHA3\",\"Scrypt\",\"HybridScryptHash256\",\"Scrypt\",\"Scrypt\",\"SHA-256\",\"Scrypt\",\"X13\",\"Scrypt\",\"SHA-256\",\"Scrypt\",\"X13\",\"NeoScrypt\",\"Scrypt\",\"Scrypt\",\"Scrypt\",\"Scrypt\",\"Scrypt\",\"Scrypt\",\"X11\",\"X11\",\"SHA-256\",\"Multiple\",\"SHA-256\",\"PHI1612\",\"X11\",\"SHA-256\",\"SHA-256\",\"SHA-256\",\"X11\",\"Scrypt\",\"Scrypt\",\"Scrypt\",\"Scrypt\",\"Lyra2REv2\",\"Scrypt\",\"X11\",\"Multiple\",\"SHA-256\",\"X13\",\"Scrypt\",\"CryptoNight\",\"CryptoNight\",\"Shabal256\",\"Counterparty\",\"Scrypt\",\"SHA-256\",\"Groestl\",\"Scrypt\",\"Scrypt\",\"Scrypt\",\"X13\",\"Scrypt\",\"Scrypt\",\"Scrypt\",\"Scrypt\",\"X13\",\"Scrypt\",\"Stanford Folding\",\"X11\",\"Multiple\",\"QuBit\",\"Scrypt\",\"Scrypt\",\"Scrypt\",\"M7 POW\",\"Scrypt\",\"SHA-256\",\"Scrypt\",\"X11\",\"SHA3\",\"X11\",\"Lyra2RE\",\"SHA-256\",\"QUAIT\",\"X11\",\"X11\",\"Scrypt\",\"Scrypt\",\"Scrypt\",\"Ethash\",\"X13\",\"Blake2b\",\"SHA-256\",\"X15\",\"X11\",\"SHA-256\",\"BLAKE256\",\"Scrypt\",\"1GB AES Pattern Search\",\"SHA-256\",\"X11\",\"Scrypt\",\"SHA-256\",\"SHA-256\",\"NIST5\",\"Scrypt\",\"Scrypt\",\"X11\",\"Dagger\",\"Scrypt\",\"X11GOST\",\"X11\",\"Scrypt\",\"SHA-256\",\"Scrypt\",\"PoS\",\"Scrypt\",\"X11\",\"X11\",\"SHA-256\",\"SHA-256\",\"NIST5\",\"X11\",\"Scrypt\",\"POS 3.0\",\"Scrypt\",\"Scrypt\",\"Scrypt\",\"X13\",\"X11\",\"X11\",\"Equihash\",\"X11\",\"Scrypt\",\"CryptoNight\",\"SHA-256\",\"SHA-256\",\"X11\",\"Scrypt\",\"Multiple\",\"Scrypt\",\"Scrypt\",\"Scrypt\",\"SHA-256\",\"Scrypt\",\"Scrypt\",\"SHA-256D\",\"PoS\",\"Scrypt\",\"X11\",\"Lyra2Z\",\"PoS\",\"X13\",\"X14\",\"PoS\",\"SHA-256D\",\"Ethash\",\"Equihash\",\"DPoS\",\"X11\",\"Scrypt\",\"X11\",\"X13\",\"X11\",\"PoS\",\"Scrypt\",\"Scrypt\",\"X11\",\"PoS\",\"X11\",\"SHA-256\",\"Scrypt\",\"X11\",\"Scrypt\",\"Scrypt\",\"X11\",\"CryptoNight\",\"Scrypt\",\"Scrypt\",\"Scrypt\",\"Scrypt\",\"Quark\",\"QuBit\",\"Scrypt\",\"CryptoNight\",\"Lyra2RE\",\"Scrypt\",\"SHA-256\",\"X11\",\"Scrypt\",\"X11\",\"Scrypt\",\"CryptoNight-V7\",\"Scrypt\",\"Scrypt\",\"Scrypt\",\"X13\",\"X11\",\"Equihash\",\"Scrypt\",\"Scrypt\",\"Lyra2RE\",\"Scrypt\",\"Dagger-Hashimoto\",\"X11\",\"Blake2S\",\"X11\",\"Scrypt\",\"PoS\",\"X11\",\"NIST5\",\"PoS\",\"X11\",\"Scrypt\",\"Scrypt\",\"Scrypt\",\"SHA-256\",\"X11\",\"Scrypt\",\"Scrypt\",\"SHA-256\",\"PoS\",\"Scrypt\",\"X15\",\"SHA-256\",\"Scrypt\",\"POS 3.0\",\"CryptoNight-V7\",\"536\",\"Argon2d\",\"Blake2b\",\"Cloverhash\",\"CryptoNight\",\"NIST5\",\"X11\",\"NIST5\",\"Skein\",\"Scrypt\",\"X13\",\"Scrypt\",\"X11\",\"X11\",\"Scrypt\",\"CryptoNight\",\"X13\",\"Time Travel\",\"Scrypt\",\"Keccak\",\"SkunkHash v2 Raptor\",\"X11\",\"Skein\",\"SHA-256\",\"X11\",\"Scrypt\",\"VeChainThor Authority\",\"Scrypt\",\"PoS\",\"Scrypt\",\"Scrypt\",\"Scrypt\",\"Scrypt\",\"Scrypt\",\"Scrypt\",\"Scrypt\",\"CryptoNight\",\"SHA-512\",\"Ouroboros\",\"X11\",\"Equihash\",\"NeoScrypt\",\"X11\",\"Scrypt\",\"NeoScrypt\",\"Lyra2REv2\",\"Equihash\",\"Scrypt\",\"SHA-256\",\"NIST5\",\"PHI1612\",\"Dagger\",\"Scrypt\",\"Quark\",\"Scrypt\",\"POS 2.0\",\"Scrypt\",\"SHA-256\",\"X11\",\"NeoScrypt\",\"Ethash\",\"NeoScrypt\",\"X11\",\"DPoS\",\"NIST5\",\"X13\",\"Multiple\",\"Scrypt\",\"CryptoNight\",\"CryptoNight\",\"Ethash\",\"NIST5\",\"Quark\",\"X11\",\"CryptoNight-V7\",\"Scrypt\",\"Scrypt\",\"Scrypt\",\"X11\",\"BLAKE256\",\"X11\",\"NeoScrypt\",\"Quark\",\"NeoScrypt\",\"Scrypt\",\"Scrypt\",\"Scrypt\",\"X11\",\"X11\",\"SHA-256\",\"C11\",\"POS 3.0\",\"Ethash\",\"Scrypt\",\"CryptoNight\",\"SkunkHash\",\"Scrypt\",\"CryptoNight\",\"Scrypt\",\"Dagger\",\"Lyra2REv2\",\"X13\",\"Proof-of-BibleHash\",\"SHA-256 + Hive\",\"Scrypt\",\"Scrypt\",\"X11\",\"C11\",\"Proof-of-Authority\",\"X11\",\"XEVAN\",\"Scrypt\",\"VBFT\",\"Ethash\",\"CryptoNight\",\"Scrypt\",\"IMesh\",\"NIST5\",\"Scrypt\",\"Scrypt\",\"Equihash\",\"Scrypt\",\"Lyra2Z\",\"Green Protocol\",\"PoS\",\"Scrypt\",\"Semux BFT consensus\",\"X11\",\"Quark\",\"PoS\",\"CryptoNight\",\"X16R\",\"Scrypt\",\"NIST5\",\"Lyra2RE\",\"XEVAN\",\"Tribus\",\"Scrypt\",\"Lyra2Z\",\"CryptoNight\",\"CryptoNight Heavy\",\"CryptoNight\",\"Scrypt\",\"Scrypt\",\"Jump Consistent Hash\",\"SHA-256D\",\"CryptoNight\",\"Scrypt\",\"X15\",\"Scrypt\",\"Quark\",\"SHA-256\",\"DPoS\",\"X16R\",\"HMQ1725\",\"X11\",\"X16R\",\"Quark\",\"Quark\",\"Scrypt\",\"Lyra2REv2\",\"Quark\",\"Scrypt\",\"Scrypt\",\"CryptoNight-V7\",\"Cryptonight-GPU\",\"XEVAN\",\"CryptoNight Heavy\",\"X11\",\"X11\",\"Scrypt\",\"PoS\",\"SHA-256\",\"Keccak\",\"X11\",\"X11\",\"Scrypt\",\"SHA-512\",\"X16R\",\"ECC 256K1\",\"Equihash\",\"XEVAN\",\"Lyra2Z\",\"SHA-256\",\"XEVAN\",\"X11\",\"CryptoNight\",\"Quark\",\"Blake\",\"Blake\",\"Equihash\",\"Exosis\",\"Scrypt\",\"Scrypt\",\"Equihash\",\"Quark\",\"Equihash\",\"Quark\",\"Scrypt\",\"QuBit\",\"X11\",\"Scrypt\",\"XEVAN\",\"SHA-256D\",\"X11\",\"SHA-256\",\"X13\",\"SHA-256\",\"X11\",\"DPoS\",\"Scrypt\",\"Scrypt\",\"X11\",\"NeoScrypt\",\"Scrypt\",\"Blake\",\"Scrypt\",\"SHA-256\",\"Scrypt\",\"X11\",\"Scrypt\",\"Scrypt\",\"SHA-256\",\"X11\",\"SHA-256\",\"Scrypt\",\"Scrypt\",\"Scrypt\",\"Groestl\",\"X11\",\"Scrypt\",\"PoS\",\"Scrypt\",\"Scrypt\",\"X11\",\"SHA-256\",\"DPoS\",\"Scrypt\",\"Scrypt\",\"NeoScrypt\",\"Multiple\",\"X13\",\"Equihash+Scrypt\",\"DPoS\",\"Ethash\",\"DPoS\",\"SHA-256\",\"Leased POS\",\"PoS\",\"TRC10\",\"PoS\",\"SHA-256\",\"Scrypt\",\"CryptoNight\",\"Equihash\",\"Scrypt\"],\"Class\":{\"__ndarray__\":\"AgAAAAIAAAACAAAAAAAAAAAAAAAAAAAAAgAAAAAAAAAAAAAAAAAAAAIAAAAAAAAAAgAAAAIAAAAAAAAAAgAAAAAAAAAAAAAAAgAAAAIAAAAAAAAAAAAAAAAAAAAAAAAAAAAAAAIAAAAAAAAAAAAAAAAAAAACAAAAAAAAAAIAAAAAAAAAAAAAAAIAAAACAAAAAAAAAAAAAAAAAAAAAAAAAAAAAAAAAAAAAgAAAAIAAAAAAAAAAAAAAAAAAAAAAAAAAAAAAAIAAAACAAAAAAAAAAIAAAAAAAAAAAAAAAAAAAAAAAAAAgAAAAAAAAAAAAAAAgAAAAAAAAACAAAAAgAAAAIAAAAAAAAAAAAAAAAAAAACAAAAAgAAAAIAAAACAAAAAgAAAAAAAAAAAAAAAAAAAAIAAAACAAAAAAAAAAIAAAAAAAAAAgAAAAIAAAAAAAAAAAAAAAAAAAAAAAAAAgAAAAIAAAAAAAAAAgAAAAAAAAAAAAAAAgAAAAIAAAAAAAAAAgAAAAIAAAAAAAAAAAAAAAIAAAACAAAAAAAAAAIAAAACAAAAAAAAAAIAAAAAAAAAAgAAAAAAAAACAAAAAAAAAAIAAAACAAAAAAAAAAAAAAACAAAAAAAAAAAAAAAAAAAAAgAAAAAAAAAAAAAAAAAAAAAAAAAAAAAAAgAAAAIAAAAAAAAAAAAAAAAAAAACAAAAAAAAAAIAAAAAAAAAAAAAAAIAAAAAAAAAAgAAAAAAAAACAAAAAgAAAAAAAAAAAAAAAgAAAAAAAAAAAAAAAgAAAAIAAAAAAAAAAgAAAAAAAAACAAAAAgAAAAIAAAAAAAAAAAAAAAAAAAAAAAAAAgAAAAIAAAACAAAAAgAAAAIAAAAAAAAAAAAAAAIAAAACAAAAAgAAAAIAAAACAAAAAAAAAAIAAAACAAAAAgAAAAIAAAACAAAAAAAAAAIAAAAAAAAAAgAAAAIAAAAAAAAAAgAAAAAAAAACAAAAAgAAAAAAAAACAAAAAAAAAAIAAAAAAAAAAgAAAAAAAAACAAAAAgAAAAIAAAACAAAAAAAAAAIAAAACAAAAAgAAAAIAAAACAAAAAAAAAAAAAAACAAAAAgAAAAAAAAAAAAAAAgAAAAIAAAACAAAAAgAAAAIAAAAAAAAAAgAAAAIAAAACAAAAAgAAAAIAAAACAAAAAgAAAAIAAAAAAAAAAgAAAAIAAAACAAAAAgAAAAIAAAACAAAAAAAAAAAAAAAAAAAAAgAAAAIAAAACAAAAAgAAAAAAAAACAAAAAAAAAAIAAAACAAAAAAAAAAIAAAAAAAAAAAAAAAIAAAAAAAAAAAAAAAIAAAAAAAAAAgAAAAIAAAACAAAAAAAAAAIAAAACAAAAAAAAAAIAAAACAAAAAgAAAAIAAAACAAAAAgAAAAIAAAAAAAAAAgAAAAAAAAACAAAAAgAAAAIAAAACAAAAAAAAAAIAAAAAAAAAAgAAAAAAAAAAAAAAAAAAAAAAAAACAAAAAAAAAAIAAAACAAAAAAAAAAIAAAAAAAAAAAAAAAAAAAACAAAAAAAAAAIAAAAAAAAAAAAAAAAAAAACAAAAAAAAAAIAAAAAAAAAAgAAAAIAAAABAAAAAAAAAAIAAAAAAAAAAAAAAAAAAAAAAAAAAAAAAAIAAAACAAAAAAAAAAIAAAACAAAAAgAAAAAAAAACAAAAAAAAAAIAAAAAAAAAAgAAAAAAAAACAAAAAgAAAAIAAAACAAAAAAAAAAIAAAACAAAAAAAAAAIAAAACAAAAAgAAAAAAAAAAAAAAAAAAAAAAAAACAAAAAgAAAAIAAAACAAAAAAAAAAIAAAAAAAAAAAAAAAAAAAACAAAAAgAAAAAAAAAAAAAAAgAAAAIAAAAAAAAAAgAAAAAAAAAAAAAAAAAAAAIAAAAAAAAAAAAAAAIAAAACAAAAAgAAAAAAAAAAAAAAAAAAAAIAAAACAAAAAgAAAAAAAAAAAAAAAgAAAAAAAAAAAAAAAAAAAAAAAAACAAAAAQAAAAEAAAAAAAAAAAAAAAAAAAACAAAAAQAAAAIAAAACAAAAAgAAAAIAAAAAAAAAAAAAAAAAAAAAAAAAAgAAAAIAAAACAAAAAAAAAAIAAAAAAAAAAgAAAAIAAAACAAAAAgAAAAAAAAACAAAAAgAAAAAAAAACAAAAAgAAAAAAAAAAAAAAAgAAAAAAAAACAAAAAAAAAAAAAAAAAAAAAAAAAAIAAAACAAAAAAAAAAIAAAAAAAAAAgAAAAIAAAACAAAAAgAAAAIAAAACAAAAAAAAAAAAAAAAAAAAAgAAAAIAAAACAAAAAgAAAAIAAAACAAAAAAAAAAIAAAAAAAAAAAAAAAAAAAAAAAAAAgAAAAIAAAACAAAAAgAAAAAAAAACAAAAAgAAAAAAAAACAAAAAgAAAAAAAAABAAAAAAAAAAIAAAAAAAAAAAAAAAIAAAACAAAAAAAAAAIAAAAAAAAAAAAAAAIAAAAAAAAAAAAAAAIAAAAAAAAAAgAAAAAAAAACAAAAAgAAAAAAAAACAAAAAgAAAAIAAAACAAAAAgAAAAAAAAAAAAAAAAAAAAIAAAACAAAAAgAAAAAAAAACAAAAAAAAAAIAAAAAAAAAAgAAAAIAAAACAAAAAgAAAAAAAAACAAAAAgAAAAIAAAAAAAAAAgAAAAAAAAACAAAAAAAAAAIAAAACAAAAAgAAAAAAAAAAAAAAAgAAAAIAAAACAAAAAgAAAAIAAAACAAAAAAAAAAIAAAAAAAAAAgAAAAAAAAACAAAAAgAAAAEAAAACAAAAAwAAAAIAAAACAAAAAgAAAAAAAAAAAAAAAgAAAA==\",\"dtype\":\"int32\",\"order\":\"little\",\"shape\":[532]},\"CoinName\":[\"42 Coin\",\"404Coin\",\"EliteCoin\",\"Bitcoin\",\"Ethereum\",\"Litecoin\",\"Dash\",\"Monero\",\"Ethereum Classic\",\"ZCash\",\"Bitshares\",\"DigiByte\",\"BitcoinDark\",\"PayCoin\",\"ProsperCoin\",\"KoboCoin\",\"Spreadcoin\",\"Argentum\",\"Aurora Coin\",\"BlueCoin\",\"MyriadCoin\",\"MoonCoin\",\"ZetaCoin\",\"SexCoin\",\"Quatloo\",\"EnergyCoin\",\"QuarkCoin\",\"Riecoin\",\"Digitalcoin \",\"BitBar\",\"Catcoin\",\"CryptoBullion\",\"CannaCoin\",\"CryptCoin\",\"CasinoCoin\",\"Diamond\",\"Verge\",\"DevCoin\",\"EarthCoin\",\"E-Gulden\",\"Einsteinium\",\"Emerald\",\"Exclusive Coin\",\"FlutterCoin\",\"Franko\",\"FeatherCoin\",\"GrandCoin\",\"GlobalCoin\",\"GoldCoin\",\"HoboNickels\",\"HyperStake\",\"Infinite Coin\",\"IOCoin\",\"IXcoin\",\"KrugerCoin\",\"LuckyCoin\",\"Litebar \",\"MaxCoin\",\"MegaCoin\",\"MediterraneanCoin\",\"MintCoin\",\"MinCoin\",\"MazaCoin\",\"Nautilus Coin\",\"NavCoin\",\"NobleCoin\",\"Namecoin\",\"NyanCoin\",\"OpalCoin\",\"Orbitcoin\",\"PotCoin\",\"PhoenixCoin\",\"Reddcoin\",\"RonPaulCoin\",\"StableCoin\",\"SmartCoin\",\"SuperCoin\",\"SyncCoin\",\"SysCoin\",\"TeslaCoin\",\"TigerCoin\",\"TittieCoin\",\"TorCoin\",\"TerraCoin\",\"UnbreakableCoin\",\"Unobtanium\",\"UroCoin\",\"UnitaryStatus Dollar\",\"UltraCoin\",\"ViaCoin\",\"VeriCoin\",\"Vertcoin\",\"WorldCoin\",\"X11 Coin\",\"Crypti\",\"JouleCoin\",\"StealthCoin\",\"ZCC Coin\",\"ByteCoin\",\"DigitalNote \",\"BurstCoin\",\"StorjCoin\",\"MonaCoin\",\"Neutron\",\"FairCoin\",\"Gulden\",\"RubyCoin\",\"PesetaCoin\",\"Kore\",\"Wild Beast Coin\",\"Dnotes\",\"Flo\",\"8BIT Coin\",\"Sativa Coin\",\"ArtByte\",\"Folding Coin\",\"Ucoin\",\"Unitus\",\"CypherPunkCoin\",\"OmniCron\",\"Vtorrent\",\"GreenCoin\",\"Cryptonite\",\"MasterCoin\",\"SoonCoin\",\"1Credit\",\"IslaCoin\",\"Nexus\",\"MarsCoin \",\"Crypto\",\"Anarchists Prime\",\"Droidz\",\"BowsCoin\",\"Squall Coin\",\"Song Coin\",\"BitZeny\",\"Diggits\",\"Expanse\",\"Paycon\",\"Siacoin\",\"Emercoin\",\"EverGreenCoin\",\"MindCoin\",\"I0coin\",\"Decred\",\"Revolution VR\",\"HOdlcoin\",\"EDRCoin\",\"Hitcoin\",\"Gamecredits\",\"DubaiCoin\",\"CarpeDiemCoin\",\"PWR Coin\",\"BillaryCoin\",\"GPU Coin\",\"Adzcoin\",\"SoilCoin\",\"YoCoin\",\"SibCoin\",\"EuropeCoin\",\"ZeitCoin\",\"SwingCoin\",\"SafeExchangeCoin\",\"Nebuchadnezzar\",\"Francs\",\"BolivarCoin\",\"Ratecoin\",\"Revenu\",\"Clockcoin\",\"VIP Tokens\",\"BitSend\",\"Omni\",\"Let it Ride\",\"PutinCoin\",\"iBankCoin\",\"Frankywillcoin\",\"MudraCoin\",\"PizzaCoin\",\"Lutetium Coin\",\"Komodo\",\"GoldBlocks\",\"CarterCoin\",\"Karbo\",\"BitTokens\",\"ZayedCoin\",\"MustangCoin\",\"ZoneCoin\",\"Circuits of Value\",\"RootCoin\",\"DopeCoin\",\"BitCurrency\",\"DollarCoin\",\"Swiscoin\",\"Shilling\",\"BuzzCoin\",\"Opair\",\"PesoBit\",\"Halloween Coin\",\"ZCoin\",\"CoffeeCoin\",\"RoyalCoin\",\"GanjaCoin V2\",\"TeamUP\",\"LanaCoin\",\"Elementrem\",\"ZClassic\",\"ARK\",\"InsaneCoin\",\"KiloCoin\",\"ArtexCoin\",\"EmberCoin\",\"XenixCoin\",\"FreeCoin\",\"PLNCoin\",\"AquariusCoin\",\"Kurrent\",\"Creatio\",\"Eternity\",\"Eurocoin\",\"BitcoinFast\",\"Stakenet\",\"BitConnect Coin\",\"MoneyCoin\",\"Enigma\",\"Cannabis Industry Coin\",\"Russiacoin\",\"PandaCoin\",\"GameUnits\",\"GAKHcoin\",\"Allsafe\",\"LiteCreed\",\"OsmiumCoin\",\"Bikercoins\",\"HexxCoin\",\"Klingon Empire Darsek\",\"Internet of People\",\"KushCoin\",\"Printerium\",\"PacCoin\",\"Impeach\",\"Citadel\",\"Zilbercoin\",\"FirstCoin\",\"BeaverCoin\",\"FindCoin\",\"VaultCoin\",\"Zero\",\"OpenChat\",\"Canada eCoin\",\"Zoin\",\"RenosCoin\",\"DubaiCoin\",\"VirtacoinPlus\",\"TajCoin\",\"Impact\",\"EB3coin\",\"Atmos\",\"HappyCoin\",\"Coinonat\",\"MacronCoin\",\"Condensate\",\"Independent Money System\",\"ArgusCoin\",\"LomoCoin\",\"ProCurrency\",\"GoldReserve\",\"BenjiRolls\",\"GrowthCoin\",\"ILCoin\",\"Phreak\",\"Degas Coin\",\"HTML5 Coin\",\"Ultimate Secure Cash\",\"EquiTrader\",\"QTUM\",\"Quantum Resistant Ledger\",\"Espers\",\"Dynamic\",\"Nano\",\"ChanCoin\",\"Dinastycoin\",\"Denarius\",\"DigitalPrice\",\"Virta Unique Coin\",\"Bitcoin Planet\",\"Unify\",\"BritCoin\",\"SocialCoin\",\"ArcticCoin\",\"DAS\",\"Linda\",\"LeviarCoin\",\"DeepOnion\",\"Bitcore\",\"gCn Coin\",\"SmartCash\",\"Signatum\",\"Onix\",\"Cream\",\"Bitcoin Cash\",\"Monoeci\",\"Draftcoin\",\"Vechain\",\"Sojourn Coin\",\"Stakecoin\",\"NewYorkCoin\",\"FrazCoin\",\"Kronecoin\",\"AdCoin\",\"Linx\",\"CoinonatX\",\"Ethereum Dark\",\"Sumokoin\",\"Obsidian\",\"Cardano\",\"Regalcoin\",\"BitcoinZ\",\"TrezarCoin\",\"Elements\",\"TerraNovaCoin\",\"VIVO Coin\",\"Rupee\",\"Bitcoin Gold\",\"WomenCoin\",\"Theresa May Coin\",\"NamoCoin\",\"LUXCoin\",\"Pirl\",\"Xios\",\"Bitcloud 2.0\",\"eBoost\",\"KekCoin\",\"BlackholeCoin\",\"Infinity Economics\",\"Pura\",\"Innova\",\"Ellaism\",\"GoByte\",\"Magnet\",\"Lamden Tau\",\"Electra\",\"Bitcoin Diamond\",\"SHIELD\",\"Cash & Back Coin\",\"UltraNote\",\"BitCoal\",\"DaxxCoin\",\"Bulwark\",\"Kalkulus\",\"AC3\",\"Lethean\",\"GermanCoin\",\"LiteCoin Ultra\",\"PopularCoin\",\"PhantomX\",\"Photon\",\"Sucre\",\"SparksPay\",\"Digiwage\",\"GunCoin\",\"IrishCoin\",\"Trollcoin\",\"Litecoin Plus\",\"Monkey Project\",\"Pioneer Coin\",\"UnitedBitcoin\",\"Interzone\",\"TokenPay\",\"1717 Masonic Commemorative Token\",\"My Big Coin\",\"TurtleCoin\",\"MUNcoin\",\"Unified Society USDEX\",\"Niobio Cash\",\"ShareChain\",\"Travelflex\",\"KREDS\",\"Tokyo Coin\",\"BiblePay\",\"LitecoinCash\",\"BitFlip\",\"LottoCoin\",\"Crypto Improvement Fund\",\"Stipend\",\"Poa Network\",\"Pushi\",\"Ellerium\",\"Velox\",\"Ontology\",\"Callisto Network\",\"BitTube\",\"Poseidon\",\"Aidos Kuneen\",\"Bitspace\",\"Briacoin\",\"Ignition\",\"Bitrolium\",\"MedicCoin\",\"Alpenschillling\",\"Bitcoin Green\",\"Deviant Coin\",\"Abjcoin\",\"Semux\",\"FuturoCoin\",\"Carebit\",\"Zealium\",\"Monero Classic\",\"Proton\",\"iDealCash\",\"Jumpcoin\",\"Infinex\",\"Bitcoin Incognito\",\"KEYCO\",\"HollyWoodCoin\",\"GINcoin\",\"PlatinCoin\",\"Loki\",\"Newton Coin\",\"Swisscoin\",\"Xt3ch\",\"MassGrid\",\"TheVig\",\"PluraCoin\",\"EmaratCoin\",\"Dekado\",\"Lynx\",\"Poseidon Quark\",\"BitcoinWSpectrum\",\"Muse\",\"Motion\",\"PlusOneCoin\",\"Axe\",\"Trivechain\",\"Dystem\",\"Giant\",\"Peony Coin\",\"Absolute Coin\",\"Vitae\",\"HexCoin\",\"TPCash\",\"Webchain\",\"Ryo\",\"Urals Coin\",\"Qwertycoin\",\"ARENON\",\"EUNO\",\"MMOCoin\",\"Ketan\",\"Project Pai\",\"XDNA\",\"PAXEX\",\"Azart\",\"ThunderStake\",\"Kcash\",\"Xchange\",\"Acute Angle Cloud\",\"CrypticCoin\",\"Bettex coin\",\"Actinium\",\"Bitcoin SV\",\"BitMoney\",\"Junson Ming Chan Coin\",\"FREDEnergy\",\"HerbCoin\",\"Universal Molecule\",\"Lithium\",\"PirateCash\",\"Exosis\",\"Block-Logic\",\"Oduwa\",\"Beam\",\"Galilel\",\"Bithereum\",\"Crypto Sports\",\"Credit\",\"SLICE\",\"Dash Platinum\",\"Nasdacoin\",\"Beetle Coin\",\"Titan Coin\",\"Award\",\"BLAST\",\"Bitcoin Rhodium\",\"GlobalToken\",\"Insane Coin\",\"ALAX\",\"LiteDoge\",\"SolarCoin\",\"TruckCoin\",\"UFO Coin\",\"OrangeCoin\",\"BlakeCoin\",\"BitstarCoin\",\"NeosCoin\",\"HyperCoin\",\"PinkCoin\",\"Crypto Escudo\",\"AudioCoin\",\"IncaKoin\",\"Piggy Coin\",\"Crown Coin\",\"Genstake\",\"SmileyCoin\",\"XiaoMiCoin\",\"Groestlcoin\",\"CapriCoin\",\" ClubCoin\",\"Radium\",\"Bata\",\"Pakcoin\",\"Creditbit \",\"OKCash\",\"Lisk\",\"HiCoin\",\"WhiteCoin\",\"FriendshipCoin\",\"JoinCoin\",\"Triangles Coin\",\"Vollar\",\"EOS\",\"Reality Clash\",\"Oxycoin\",\"TigerCash\",\"Waves\",\"Particl\",\"BitTorrent\",\"Nxt\",\"ZEPHYR\",\"Gapcoin\",\"Beldex\",\"Horizen\",\"BitcoinPlus\"],\"PC_1\":{\"__ndarray__\":\"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\",\"dtype\":\"float64\",\"order\":\"little\",\"shape\":[532]},\"PC_2\":{\"__ndarray__\":\"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\",\"dtype\":\"float64\",\"order\":\"little\",\"shape\":[532]},\"PC_3\":{\"__ndarray__\":\"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\",\"dtype\":\"float64\",\"order\":\"little\",\"shape\":[532]},\"ProofType\":[\"PoW/PoS\",\"PoW/PoS\",\"PoW/PoS\",\"PoW\",\"PoW\",\"PoW\",\"PoW/PoS\",\"PoW\",\"PoW\",\"PoW\",\"PoS\",\"PoW\",\"PoW/PoS\",\"PoS\",\"PoW\",\"PoW/PoS\",\"PoW\",\"PoW\",\"PoW/PoS\",\"PoW/PoS\",\"PoW\",\"PoW\",\"PoW\",\"PoW\",\"PoW\",\"PoW/PoS\",\"PoW\",\"PoW\",\"PoW\",\"PoW/PoS\",\"PoW\",\"PoW/PoS\",\"PoW\",\"PoW\",\"PoC\",\"PoW/PoS\",\"PoW\",\"PoW\",\"PoW\",\"PoW\",\"PoW\",\"PoW\",\"PoS\",\"PoS/PoW/PoT\",\"PoW\",\"PoW\",\"PoW\",\"PoW\",\"PoW\",\"PoW/PoS\",\"PoS\",\"PoW\",\"PoW/PoS\",\"PoW\",\"PoW\",\"PoW\",\"PoW\",\"PoW/PoS\",\"PoW\",\"PoW\",\"PoS\",\"PoW\",\"PoW/PoS\",\"PoS\",\"PoW/PoS\",\"PoW\",\"PoW\",\"PoW\",\"PoW/PoS\",\"PoW/PoS\",\"PoW/PoS\",\"PoW/PoS\",\"PoW/PoS\",\"PoW\",\"PoW\",\"PoW\",\"PoS\",\"PoW/PoS\",\"PoW\",\"PoS\",\"PoW\",\"PoS\",\"PoW/PoS\",\"PoW\",\"PoW\",\"PoW\",\"PoW\",\"PoW/PoS\",\"PoW/PoS\",\"PoW\",\"PoST\",\"PoW\",\"PoW\",\"PoW/PoS\",\"PoS\",\"PoW\",\"PoW/PoS\",\"PoW/PoS\",\"PoW\",\"PoW\",\"PoC\",\"PoS\",\"PoW\",\"PoW/PoS\",\"PoW/PoS\",\"PoW\",\"PoS\",\"PoW\",\"PoW/PoS\",\"PoW\",\"PoS\",\"PoW\",\"PoW/PoS\",\"PoW/PoS\",\"PoW\",\"PoW\",\"PoS\",\"PoW\",\"PoW\",\"PoW\",\"PoW/PoS\",\"PoW\",\"PoW\",\"PoW\",\"PoW\",\"PoW\",\"PoW/PoS\",\"PoW/nPoS\",\"PoW\",\"PoW\",\"PoW\",\"PoW/PoS\",\"PoW\",\"PoS/PoW\",\"PoW\",\"PoW\",\"PoS\",\"PoW\",\"PoW/PoS\",\"PoW\",\"PoW/PoS\",\"PoW/PoS\",\"PoW\",\"PoW\",\"PoW/PoS\",\"PoW\",\"PoW\",\"PoW/PoS\",\"PoW/PoS\",\"PoW\",\"PoW/PoS\",\"PoW\",\"PoW/PoS\",\"PoW/PoS\",\"PoS\",\"PoW\",\"PoW\",\"PoW\",\"PoW\",\"PoW/PoS\",\"PoS\",\"PoW/PoS\",\"PoC\",\"PoS\",\"PoW\",\"PoW\",\"PoW/PoS\",\"PoW/PoS\",\"PoW/PoS\",\"PoW/PoS\",\"PoW/PoS\",\"PoW\",\"PoS\",\"PoW/PoS\",\"PoW/PoS\",\"PoW/PoS\",\"PoS\",\"PoW\",\"PoS\",\"dPoW/PoW\",\"PoW/PoS\",\"PoW/PoS\",\"PoW\",\"PoW/PoS\",\"PoW\",\"PoW/PoS\",\"PoW/PoS\",\"PoW\",\"PoW/PoS\",\"PoW\",\"PoS\",\"PoW\",\"PoW/PoW\",\"PoW\",\"PoW/PoS\",\"PoS\",\"PoW/PoS\",\"PoW/PoS\",\"PoW\",\"PoS\",\"PoS\",\"PoW/PoS\",\"PoS\",\"PoW/PoS\",\"PoW\",\"PoW\",\"DPoS\",\"PoW/PoS\",\"PoW\",\"PoW\",\"PoW/PoS\",\"PoW/PoS\",\"PoS\",\"PoW/PoS\",\"PoW/PoS\",\"PoW\",\"PoS\",\"PoW/PoS\",\"PoW/PoS\",\"PoW/PoS\",\"TPoS\",\"PoW/PoS\",\"PoW/PoS\",\"PoW/PoS\",\"PoW\",\"PoW/PoS\",\"PoS\",\"PoW/PoS\",\"PoW/PoS\",\"PoS\",\"PoW/PoS\",\"PoW\",\"PoW\",\"PoW\",\"PoW/PoS\",\"PoW/PoS\",\"PoW/PoS\",\"PoW/PoS\",\"PoW\",\"PoW/PoS\",\"PoW\",\"PoS\",\"PoW/PoS \",\"PoW\",\"PoS\",\"PoW\",\"PoW\",\"PoW/PoS\",\"PoW\",\"PoW\",\"PoS\",\"PoW\",\"PoW/PoS\",\"PoW/PoS\",\"PoW/PoS\",\"PoW\",\"PoS\",\"PoW/PoS\",\"PoW\",\"PoS\",\"PoW/PoS\",\"PoW/PoS\",\"PoW/PoS\",\"PoW/PoS\",\"PoS\",\"PoW/PoS\",\"PoW\",\"PoS\",\"PoW\",\"PoS\",\"PoW/PoS\",\"PoW/PoS\",\"PoS\",\"PoW\",\"PoS\",\"PoW\",\"PoW/PoS\",\"PoW\",\"PoW\",\"PoW\",\"PoW\",\"PoW/PoS\",\"PoW\",\"PoW/PoS\",\"PoW/PoS\",\"PoW\",\"PoW/PoS\",\"PoW\",\"PoW\",\"PoW\",\"PoW/PoS\",\"PoW\",\"PoW/PoS\",\"PoW\",\"PoW\",\"PoW\",\"PoS\",\"PoW\",\"PoW/PoS\",\"PoW\",\"PoW/PoS\",\"PoS\",\"Proof of Authority\",\"PoW\",\"PoS\",\"PoW\",\"PoW\",\"PoW\",\"PoW\",\"PoW\",\"PoW/PoS\",\"PoW/PoS\",\"PoW\",\"PoS\",\"PoS\",\"PoW/PoS\",\"PoW\",\"PoW/PoS\",\"PoW\",\"PoW/PoS\",\"PoW\",\"PoS\",\"PoW\",\"PoW/PoS\",\"PoW/PoS\",\"PoW/PoS\",\"PoW/PoS\",\"PoW\",\"PoW/PoS\",\"PoW/PoS\",\"PoW\",\"PoS\",\"PoW/PoS\",\"PoS\",\"PoW\",\"PoW\",\"PoW\",\"PoW\",\"PoW/PoS\",\"DPoS\",\"PoW/PoS\",\"PoW/PoS\",\"PoW\",\"PoW/PoS\",\"PoW\",\"PoW\",\"PoW\",\"PoS\",\"PoS\",\"PoW\",\"PoW\",\"PoW/PoS\",\"PoW/PoS\",\"PoW\",\"PoW/PoS\",\"PoW\",\"PoW\",\"PoW\",\"PoS\",\"PoW\",\"PoW\",\"PoW/PoS\",\"PoW/PoS\",\"PoS\",\"PoW\",\"PoW\",\"PoW\",\"PoS\",\"PoS\",\"PoW and PoS\",\"PoW\",\"PoW\",\"PoW/PoS\",\"PoW\",\"PoW\",\"PoW\",\"PoW\",\"PoS\",\"POBh\",\"PoW + Hive\",\"PoW\",\"PoW\",\"PoW\",\"PoW/PoS\",\"PoA\",\"PoW/PoS\",\"PoW/PoS\",\"PoS\",\"PoS\",\"PoW\",\"PoW\",\"PoW\",\"PoW\",\"PoW/PoS\",\"PoW/PoS\",\"PoW/PoS\",\"PoW\",\"PoS\",\"PoW\",\"PoS\",\"PoS\",\"PoW/PoS\",\"DPoS\",\"PoW\",\"PoW/PoS\",\"PoS\",\"PoW\",\"PoS\",\"PoW/PoS\",\"PoW\",\"PoW\",\"PoS/PoW\",\"PoW\",\"PoS\",\"PoW\",\"PoW\",\"PoW\",\"PoW\",\"PoW/PoS\",\"PoS\",\"PoW\",\"PoW/PoS\",\"PoW\",\"PoW/PoS\",\"PoS\",\"HPoW\",\"PoS\",\"PoS\",\"PoS\",\"PoW\",\"PoW\",\"PoW\",\"PoW/PoS\",\"PoS\",\"PoW/PoS\",\"PoS\",\"PoW/PoS\",\"PoS\",\"PoW\",\"PoW/PoS\",\"PoW\",\"PoW\",\"PoW\",\"PoW\",\"PoS\",\"PoW/PoS\",\"PoS\",\"PoS\",\"PoW\",\"PoW/PoS\",\"PoS\",\"PoW\",\"PoW/PoS\",\"Zero-Knowledge Proof\",\"PoW\",\"DPOS\",\"PoW\",\"PoS\",\"PoW\",\"PoW\",\"Pos\",\"PoS\",\"PoW\",\"PoW/PoS\",\"PoW\",\"PoW\",\"PoS\",\"PoW\",\"PoW\",\"PoW/PoS\",\"PoW\",\"PoW/PoS\",\"PoW\",\"PoS\",\"PoW/PoS\",\"PoW\",\"PoS\",\"PoW/PoS\",\"PoW/PoS\",\"PoW/PoS\",\"PoW/PoS\",\"PoW\",\"PoW\",\"PoW\",\"PoW/PoS\",\"DPoS\",\"PoW/PoS\",\"PoW\",\"PoW/PoS\",\"PoW\",\"PoW/PoS\",\"PoW\",\"PoW/PoS\",\"PoS\",\"PoW/PoS\",\"PoW/PoS\",\"PoW\",\"PoW/PoS\",\"PoW/PoS\",\"PoW/PoS\",\"PoW\",\"PoW/PoS\",\"PoW\",\"PoW/PoS\",\"PoW\",\"PoW/PoS\",\"PoW/PoS\",\"PoS\",\"PoW\",\"PoW\",\"Proof of Trust\",\"PoW/PoS\",\"DPoS\",\"PoS\",\"PoW/PoS\",\"PoW/PoS\",\"PoW\",\"PoW/PoS\",\"PoW\",\"DPoS\",\"PoW\",\"DPoS\",\"PoS\",\"LPoS\",\"PoS\",\"DPoS\",\"PoS/LPoS\",\"DPoS\",\"PoW/PoS\",\"PoW\",\"PoW\",\"PoS\"],\"TotalCoinSupply\":[\"42\",\"532000000\",\"314159265359\",\"21000000\",\"0\",\"84000000\",\"22000000\",\"0\",\"210000000\",\"21000000\",\"3600570502\",\"21000000000\",\"22000000\",\"12500000\",\"21000000\",\"350000000\",\"20000000\",\"64000000\",\"16768584\",\"0\",\"2000000000\",\"384000000000\",\"169795588\",\"250000000\",\"100000000\",\"0\",\"247000000\",\"84000000\",\"48166000\",\"500000\",\"21000000 \",\"1000000\",\"13140000\",\"18000000\",\"40000000000\",\"4380000\",\"16555000000\",\"21000000000\",\"13500000000\",\"21000000 \",\"299792458\",\"32000000\",\"0\",\"0\",\"11235813\",\"336000000\",\"1420609614\",\"70000000\",\"72245700\",\"120000000\",\"0\",\"90600000000\",\"22000000\",\"21000000\",\"265420800\",\"20000000\",\"1350000\",\"100000000\",\"42000000\",\"200000000\",\"0\",\"10000000\",\"2419200000\",\"16180000\",\"0\",\"15000000000\",\"21000000\",\"337000000\",\"0\",\"3770000\",\"420000000\",\"98000000\",\"0\",\"21000000\",\"250000000\",\"51200000\",\"0\",\"1000\",\"888000000\",\"100000000\",\"47011968\",\"2300000000\",\"10000000\",\"42000000\",\"80000000\",\"250000\",\"0\",\"1600000000\",\"100000000\",\"23000000\",\"0\",\"84000000\",\"265420800\",\"5500000\",\"0\",\"45000000\",\"0\",\"1000000000\",\"184467440735\",\"10000000000\",\"2158812800\",\"500000000\",\"105120000\",\"68000000\",\"0\",\"1680000000\",\"0\",\"166386000\",\"12000000\",\"2628000\",\"500000000\",\"160000000\",\"0\",\"10000000\",\"1000000000\",\"1000000000\",\"20000000\",\"0\",\"0\",\"3371337\",\"20000000\",\"10000000000\",\"1840000000\",\"619478\",\"21000000\",\"92000000000\",\"0\",\"78000000\",\"33000000\",\"65789100\",\"53760000\",\"5060000\",\"21000000\",\"0\",\"210240000\",\"250000000\",\"100000000\",\"16906397\",\"50000000\",\"0\",\"1000000000\",\"26298000\",\"16000000\",\"21000000\",\"21000000\",\"210000000\",\"81962100\",\"22000000\",\"26550000000\",\"84000000\",\"10500000\",\"21626280000 \",\"0\",\"42000000\",\"221052632\",\"84000000\",\"30000000\",\"168351300\",\"24000000\",\"384000000\",\" 99000000000\",\"40000000\",\"2147483647\",\"20000000\",\"20000000\",\"25000000\",\"75000000\",\"222725000\",\"525000000\",\"90000000\",\"139000000\",\"616448\",\"33500000\",\"2000000000\",\"44333333\",\"100000000\",\"200000000\",\"25000000\",\"657000000\",\"200000000\",\"50000000\",\"90000000\",\"10000000\",\"21000000\",\"9736000\",\"3000000\",\"21000000\",\"1200000000\",\"0\",\"200000000\",\"0\",\"10638298\",\"3100000000\",\"30000000\",\"20000000000\",\"74000000\",\"0\",\"1500000000\",\"21400000\",\"39999898\",\"2500124\",\"100000000\",\"301000000\",\"7506000000\",\"26205539\",\"21000000\",\"125000000\",\"30000000\",\"10000000000\",\"500000000\",\"850000000\",\"3853326.77707314\",\"50000000\",\"38540000 \",\"42000000\",\"228000000\",\"20000000\",\"60000000\",\"20000000\",\"33000000\",\"76500000\",\"28000000\",\"650659833\",\"5000000\",\"21000000\",\"144000000\",\"32514916898\",\"13000000\",\"3315789\",\"15000000\",\"78835200\",\"2714286\",\"25000000\",\"9999999\",\"500000000\",\"21000000\",\"9354000\",\"20000000\",\"100000000000\",\"21933333\",\"185000000\",\"55000000\",\"110000000\",\"3360000\",\"14524851.4827\",\"1000000000\",\"17000000\",\"1000000000\",\"100000000 \",\"21000000\",\"34426423\",\"2232901\",\"100000000\",\"36900000\",\"110000000\",\"4000000000\",\"110290030\",\"100000000\",\"48252000\",\"400000000\",\"500000000\",\"21212121\",\"28600000\",\"1000000000\",\"75000000000\",\"40000000\",\"35520400\",\"2000000000\",\"2500000000\",\"30000000\",\"105000000\",\"90000000000\",\"200084200\",\"72000000\",\"100000000\",\"105000000\",\"50000000000\",\"0\",\"340282367\",\"30000000\",\"2000000000\",\"10000000\",\"100000000\",\"120000000\",\"100000000\",\"19276800\",\"30000000\",\" 75000000\",\"60000000\",\"18900000\",\"50000000000\",\"54000000\",\"18898187.6216583\",\"21000000\",\"200000000000\",\"5000000000\",\"137500000\",\"1100000000\",\"100000000\",\"21000000\",\"9507271\",\"17405891.19707116\",\"86712634466\",\"10500000000\",\"61599965\",\"0\",\"20000000\",\"84000000\",\"100000000\",\"100000000\",\"48252000\",\"4200000\",\"88888888\",\"91388946\",\"45000000000\",\"27000000\",\"21000000000\",\"400000000\",\"1800000000\",\"15733333\",\"27000000\",\"24000000\",\"21000000\",\"25000000000\",\"100000000\",\"1200000000\",\"60000000\",\"156306732.71\",\"21000000\",\"200000000\",\"100000000\",\"21000000\",\"14788275.991\",\"9000000000\",\"350000000\",\"45000000\",\"280000000\",\"31800000\",\"144000000\",\"500000000\",\"30000000000\",\"210000000\",\"660000000\",\"210000000\",\"85000000000\",\"12500000\",\"10000000000\",\"27716121\",\"20000000\",\"550000000\",\"999481516\",\"50000000000\",\"150000000\",\"4999999999\",\"50000000\",\" 90000000000\",\"19800000\",\"21000000\",\"120000000\",\"500000000\",\"64000000\",\"900000000\",\"4000000\",\"21000000\",\"23000000\",\"20166000\",\"23000000\",\"25000000\",\"1618033\",\"30000000\",\"1000000000000\",\"16600000\",\"232000000\",\"336000000\",\"10000000000\",\"100000000\",\"1100000000\",\"800000000\",\"5200000000\",\"840000000\",\"40000000\",\"18406979840\",\"500000000\",\"19340594\",\"252460800\",\"25000000\",\"60000000\",\"124000000\",\"1000000000\",\"6500000000\",\"1000000000\",\"21000000\",\"25000000\",\"50000000\",\"3000000\",\"5000000\",\"70000000\",\"500000000\",\"300000000\",\"21000000\",\"88000000\",\"30000000\",\"100000000\",\"100000000\",\"200000000\",\"80000000\",\"18400000\",\"45000000\",\"5121951220\",\"21000000\",\"26280000\",\"21000000\",\"18000000\",\"26000000\",\"10500000\",\"600000518\",\"150000000\",\"184000000000\",\"10200000000\",\"44000000\",\"168000000\",\"100000000\",\"1000000000\",\"84000000\",\"90000000\",\"92000000000\",\"650000000 \",\"100262205\",\"18081806 \",\"22075700\",\"21000000\",\"21000000\",\"82546564\",\"21000000\",\"5151000\",\"16880000000\",\"52500000\",\"100000000\",\"22105263\",\"1000000000\",\"1750000000\",\"88188888\",\"210000000\",\"184470000000\",\"55000000\",\"50000000\",\"260000000\",\"210000000\",\"2100000000\",\"366000000\",\"100000000\",\"25000000\",\"18000000000\",\"1000000000\",\"100000000\",\"1000000000\",\"7600000000\",\"50000000\",\"84000000\",\"21000000\",\"70000000000\",\"0\",\"8080000000\",\"54000000\",\"105120001.44\",\"25228800\",\"105000000\",\"21000000\",\"120000000\",\"21000000\",\"262800000\",\"19035999\",\"30886000\",\"13370000\",\"74800000000\",\"100000000\",\"19700000\",\"84000000\",\"500000000\",\"5000000000\",\"420000000\",\"64000000\",\"2100000\",\"168000000\",\"30000000\",\"1000000000\",\"35000000000\",\"98100000000\",\"0\",\"4000000000\",\"200000000\",\"7000000000\",\"54256119\",\"21000000\",\"0\",\"500000000\",\"1000000000\",\"10500000000\",\"190000000\",\"1000000000\",\"42000000\",\"15000000\",\"50000000000\",\"400000000\",\"105000000\",\"208000000\",\"160000000\",\"9000000\",\"5000000\",\"182000000\",\"16504333\",\"105000000\",\"159918400\",\"10008835635\",\"300000000\",\"60168145\",\"2800000\",\"120000\",\"2100000000\",\"0\",\"24487944\",\"0\",\"1000000000\",\"100000000\",\"8634140\",\"990000000000\",\"1000000000\",\"2000000000\",\"250000000\",\"1400222610\",\"21000000\",\"1000000\"],\"TotalCoinsMined\":{\"__ndarray__\":\"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\",\"dtype\":\"float64\",\"order\":\"little\",\"shape\":[532]}},\"selected\":{\"id\":\"1622\"},\"selection_policy\":{\"id\":\"1671\"}},\"id\":\"1621\",\"type\":\"ColumnDataSource\"},{\"attributes\":{\"editor\":{\"id\":\"1644\"},\"field\":\"PC_1\",\"formatter\":{\"id\":\"1643\"},\"title\":\"PC 1\"},\"id\":\"1645\",\"type\":\"TableColumn\"},{\"attributes\":{},\"id\":\"1628\",\"type\":\"StringFormatter\"},{\"attributes\":{},\"id\":\"1622\",\"type\":\"Selection\"},{\"attributes\":{},\"id\":\"1671\",\"type\":\"UnionRenderers\"},{\"attributes\":{\"margin\":[5,5,5,5],\"name\":\"HSpacer02822\",\"sizing_mode\":\"stretch_width\"},\"id\":\"1675\",\"type\":\"Spacer\"},{\"attributes\":{\"format\":\"0,0.0[00000]\"},\"id\":\"1633\",\"type\":\"NumberFormatter\"},{\"attributes\":{},\"id\":\"1664\",\"type\":\"IntEditor\"}],\"root_ids\":[\"1619\"]},\"title\":\"Bokeh Application\",\"version\":\"2.3.2\"}};\n",
       "    var render_items = [{\"docid\":\"46aa0314-07bd-4067-8bf6-fd76fc5d4fb2\",\"root_ids\":[\"1619\"],\"roots\":{\"1619\":\"6f824c25-5e26-4650-a451-bfb66cf5321d\"}}];\n",
       "    root.Bokeh.embed.embed_items_notebook(docs_json, render_items);\n",
       "  }\n",
       "  if (root.Bokeh !== undefined && root.Bokeh.Panel !== undefined) {\n",
       "    embed_document(root);\n",
       "  } else {\n",
       "    var attempts = 0;\n",
       "    var timer = setInterval(function(root) {\n",
       "      if (root.Bokeh !== undefined && root.Bokeh.Panel !== undefined) {\n",
       "        clearInterval(timer);\n",
       "        embed_document(root);\n",
       "      } else if (document.readyState == \"complete\") {\n",
       "        attempts++;\n",
       "        if (attempts > 100) {\n",
       "          clearInterval(timer);\n",
       "          console.log(\"Bokeh: ERROR: Unable to run BokehJS code because BokehJS library is missing\");\n",
       "        }\n",
       "      }\n",
       "    }, 10, root)\n",
       "  }\n",
       "})(window);</script>"
      ],
      "text/plain": [
       ":Table   [Algorithm,ProofType,TotalCoinsMined,TotalCoinSupply,PC 1,PC 2,PC 3,CoinName,Class]"
      ]
     },
     "execution_count": 43,
     "metadata": {
      "application/vnd.holoviews_exec.v0+json": {
       "id": "1619"
      }
     },
     "output_type": "execute_result"
    }
   ],
   "source": [
    "# Create a table with tradable cryptocurrencies.\n",
    "clustered_df.hvplot.table()"
   ]
  },
  {
   "cell_type": "code",
   "execution_count": 44,
   "metadata": {},
   "outputs": [
    {
     "name": "stdout",
     "output_type": "stream",
     "text": [
      " There are 532 tradable cryptocurrencies\n"
     ]
    }
   ],
   "source": [
    "#Print the total number of tradable cryptocurrencies.\n",
    "print(f' There are {clustered_df[\"CoinName\"].count()} tradable cryptocurrencies')"
   ]
  },
  {
   "cell_type": "code",
   "execution_count": 45,
   "metadata": {},
   "outputs": [
    {
     "data": {
      "text/plain": [
       "array([[0.00000000e+00, 4.20000000e-11],\n",
       "       [1.06585544e-03, 5.32000000e-04],\n",
       "       [2.95755135e-02, 3.14159265e-01],\n",
       "       ...,\n",
       "       [9.90135079e-04, 1.40022261e-03],\n",
       "       [7.37028150e-06, 2.10000000e-05],\n",
       "       [1.29582282e-07, 1.00000000e-06]])"
      ]
     },
     "execution_count": 45,
     "metadata": {},
     "output_type": "execute_result"
    }
   ],
   "source": [
    "# Scaling data to create the scatter plot with tradable cryptocurrencies.\n",
    "scaling_data = clustered_df.copy()\n",
    "scaling_data_2 = scaling_data.drop(\n",
    "    [\"Algorithm\", \"ProofType\",\"PC 1\", \"PC 2\", \"PC 3\", \"CoinName\", \"Class\"], \n",
    "    axis=1\n",
    ")\n",
    "min_max = MinMaxScaler().fit_transform(scaling_data_2)\n",
    "min_max"
   ]
  },
  {
   "cell_type": "code",
   "execution_count": 46,
   "metadata": {},
   "outputs": [
    {
     "data": {
      "text/html": [
       "<div>\n",
       "<style scoped>\n",
       "    .dataframe tbody tr th:only-of-type {\n",
       "        vertical-align: middle;\n",
       "    }\n",
       "\n",
       "    .dataframe tbody tr th {\n",
       "        vertical-align: top;\n",
       "    }\n",
       "\n",
       "    .dataframe thead th {\n",
       "        text-align: right;\n",
       "    }\n",
       "</style>\n",
       "<table border=\"1\" class=\"dataframe\">\n",
       "  <thead>\n",
       "    <tr style=\"text-align: right;\">\n",
       "      <th></th>\n",
       "      <th>TotalCoinSupply</th>\n",
       "      <th>TotalCoinsMined</th>\n",
       "      <th>CoinName</th>\n",
       "      <th>Class</th>\n",
       "    </tr>\n",
       "  </thead>\n",
       "  <tbody>\n",
       "    <tr>\n",
       "      <th>42</th>\n",
       "      <td>4.200000e-11</td>\n",
       "      <td>0.000000</td>\n",
       "      <td>42 Coin</td>\n",
       "      <td>2</td>\n",
       "    </tr>\n",
       "    <tr>\n",
       "      <th>404</th>\n",
       "      <td>5.320000e-04</td>\n",
       "      <td>0.001066</td>\n",
       "      <td>404Coin</td>\n",
       "      <td>2</td>\n",
       "    </tr>\n",
       "    <tr>\n",
       "      <th>1337</th>\n",
       "      <td>3.141593e-01</td>\n",
       "      <td>0.029576</td>\n",
       "      <td>EliteCoin</td>\n",
       "      <td>2</td>\n",
       "    </tr>\n",
       "    <tr>\n",
       "      <th>BTC</th>\n",
       "      <td>2.100000e-05</td>\n",
       "      <td>0.000018</td>\n",
       "      <td>Bitcoin</td>\n",
       "      <td>0</td>\n",
       "    </tr>\n",
       "    <tr>\n",
       "      <th>ETH</th>\n",
       "      <td>0.000000e+00</td>\n",
       "      <td>0.000109</td>\n",
       "      <td>Ethereum</td>\n",
       "      <td>0</td>\n",
       "    </tr>\n",
       "    <tr>\n",
       "      <th>LTC</th>\n",
       "      <td>8.400000e-05</td>\n",
       "      <td>0.000064</td>\n",
       "      <td>Litecoin</td>\n",
       "      <td>0</td>\n",
       "    </tr>\n",
       "    <tr>\n",
       "      <th>DASH</th>\n",
       "      <td>2.200000e-05</td>\n",
       "      <td>0.000009</td>\n",
       "      <td>Dash</td>\n",
       "      <td>2</td>\n",
       "    </tr>\n",
       "    <tr>\n",
       "      <th>XMR</th>\n",
       "      <td>0.000000e+00</td>\n",
       "      <td>0.000017</td>\n",
       "      <td>Monero</td>\n",
       "      <td>0</td>\n",
       "    </tr>\n",
       "    <tr>\n",
       "      <th>ETC</th>\n",
       "      <td>2.100000e-04</td>\n",
       "      <td>0.000115</td>\n",
       "      <td>Ethereum Classic</td>\n",
       "      <td>0</td>\n",
       "    </tr>\n",
       "    <tr>\n",
       "      <th>ZEC</th>\n",
       "      <td>2.100000e-05</td>\n",
       "      <td>0.000007</td>\n",
       "      <td>ZCash</td>\n",
       "      <td>0</td>\n",
       "    </tr>\n",
       "  </tbody>\n",
       "</table>\n",
       "</div>"
      ],
      "text/plain": [
       "      TotalCoinSupply  TotalCoinsMined          CoinName  Class\n",
       "42       4.200000e-11         0.000000           42 Coin      2\n",
       "404      5.320000e-04         0.001066           404Coin      2\n",
       "1337     3.141593e-01         0.029576         EliteCoin      2\n",
       "BTC      2.100000e-05         0.000018           Bitcoin      0\n",
       "ETH      0.000000e+00         0.000109          Ethereum      0\n",
       "LTC      8.400000e-05         0.000064          Litecoin      0\n",
       "DASH     2.200000e-05         0.000009              Dash      2\n",
       "XMR      0.000000e+00         0.000017            Monero      0\n",
       "ETC      2.100000e-04         0.000115  Ethereum Classic      0\n",
       "ZEC      2.100000e-05         0.000007             ZCash      0"
      ]
     },
     "execution_count": 46,
     "metadata": {},
     "output_type": "execute_result"
    }
   ],
   "source": [
    "# Create a new DataFrame that has the scaled data with the clustered_df DataFrame index.\n",
    "# Create DF for new data\n",
    "min_max_df = pd.DataFrame(\n",
    "    data=min_max,\n",
    "    columns=[\"TotalCoinsMined\", \"TotalCoinSupply\"],\n",
    "    index=clustered_df.index\n",
    ")\n",
    "\n",
    "# Reorder columns\n",
    "plot_df = min_max_df.reindex(columns=[\"TotalCoinSupply\",\"TotalCoinsMined\"])\n",
    "\n",
    "# Add the \"CoinName\" column from the clustered_df DataFrame to the new DataFrame.\n",
    "plot_df[\"CoinName\"] = coin_name_df[\"CoinName\"]\n",
    "\n",
    "# Add the \"Class\" column from the clustered_df DataFrame to the new DataFrame. \n",
    "plot_df[\"Class\"] = clustered_df[\"Class\"]\n",
    "\n",
    "plot_df.head(10)"
   ]
  },
  {
   "cell_type": "code",
   "execution_count": 47,
   "metadata": {},
   "outputs": [
    {
     "data": {},
     "metadata": {},
     "output_type": "display_data"
    },
    {
     "data": {
      "application/vnd.holoviews_exec.v0+json": "",
      "text/html": [
       "<div id='1687'>\n",
       "\n",
       "\n",
       "\n",
       "\n",
       "\n",
       "  <div class=\"bk-root\" id=\"30695bac-2627-40ec-bef4-1179dfa49d61\" data-root-id=\"1687\"></div>\n",
       "</div>\n",
       "<script type=\"application/javascript\">(function(root) {\n",
       "  function embed_document(root) {\n",
       "    var docs_json = {\"80457d55-4813-4b51-b96d-5ff0d3a26f36\":{\"defs\":[],\"roots\":{\"references\":[{\"attributes\":{\"end\":1.042857142857143,\"reset_end\":1.042857142857143,\"reset_start\":-0.04285714285714286,\"start\":-0.04285714285714286,\"tags\":[[[\"TotalCoinsMined\",\"TotalCoinsMined\",null]]]},\"id\":\"1689\",\"type\":\"Range1d\"},{\"attributes\":{\"fill_alpha\":{\"value\":0.2},\"fill_color\":{\"value\":\"#6d904f\"},\"line_alpha\":{\"value\":0.2},\"line_color\":{\"value\":\"#6d904f\"},\"size\":{\"value\":5.477225575051661},\"x\":{\"field\":\"TotalCoinsMined\"},\"y\":{\"field\":\"TotalCoinSupply\"}},\"id\":\"1803\",\"type\":\"Scatter\"},{\"attributes\":{\"fill_color\":{\"value\":\"#30a2da\"},\"line_color\":{\"value\":\"#30a2da\"},\"size\":{\"value\":5.477225575051661},\"x\":{\"field\":\"TotalCoinsMined\"},\"y\":{\"field\":\"TotalCoinSupply\"}},\"id\":\"1734\",\"type\":\"Scatter\"},{\"attributes\":{\"label\":{\"value\":\"1\"},\"renderers\":[{\"id\":\"1758\"}]},\"id\":\"1772\",\"type\":\"LegendItem\"},{\"attributes\":{\"label\":{\"value\":\"0\"},\"renderers\":[{\"id\":\"1737\"}]},\"id\":\"1750\",\"type\":\"LegendItem\"},{\"attributes\":{\"click_policy\":\"mute\",\"items\":[{\"id\":\"1750\"},{\"id\":\"1772\"},{\"id\":\"1796\"},{\"id\":\"1822\"}],\"location\":[0,0],\"title\":\"Class\"},\"id\":\"1749\",\"type\":\"Legend\"},{\"attributes\":{},\"id\":\"1712\",\"type\":\"SaveTool\"},{\"attributes\":{\"fill_color\":{\"value\":\"#6d904f\"},\"line_color\":{\"value\":\"#6d904f\"},\"size\":{\"value\":5.477225575051661},\"x\":{\"field\":\"TotalCoinsMined\"},\"y\":{\"field\":\"TotalCoinSupply\"}},\"id\":\"1801\",\"type\":\"Scatter\"},{\"attributes\":{\"fill_alpha\":{\"value\":0.1},\"fill_color\":{\"value\":\"#6d904f\"},\"line_alpha\":{\"value\":0.1},\"line_color\":{\"value\":\"#6d904f\"},\"size\":{\"value\":5.477225575051661},\"x\":{\"field\":\"TotalCoinsMined\"},\"y\":{\"field\":\"TotalCoinSupply\"}},\"id\":\"1802\",\"type\":\"Scatter\"},{\"attributes\":{\"text_color\":\"black\",\"text_font_size\":\"12pt\"},\"id\":\"1696\",\"type\":\"Title\"},{\"attributes\":{\"active_multi\":null,\"tools\":[{\"id\":\"1691\"},{\"id\":\"1712\"},{\"id\":\"1713\"},{\"id\":\"1714\"},{\"id\":\"1715\"},{\"id\":\"1716\"}]},\"id\":\"1718\",\"type\":\"Toolbar\"},{\"attributes\":{\"data_source\":{\"id\":\"1731\"},\"glyph\":{\"id\":\"1734\"},\"hover_glyph\":null,\"muted_glyph\":{\"id\":\"1736\"},\"nonselection_glyph\":{\"id\":\"1735\"},\"selection_glyph\":{\"id\":\"1751\"},\"view\":{\"id\":\"1738\"}},\"id\":\"1737\",\"type\":\"GlyphRenderer\"},{\"attributes\":{},\"id\":\"1714\",\"type\":\"WheelZoomTool\"},{\"attributes\":{\"axis\":{\"id\":\"1708\"},\"dimension\":1,\"grid_line_color\":null,\"ticker\":null},\"id\":\"1711\",\"type\":\"Grid\"},{\"attributes\":{\"source\":{\"id\":\"1774\"}},\"id\":\"1781\",\"type\":\"CDSView\"},{\"attributes\":{\"axis_label\":\"TotalCoinSupply\",\"formatter\":{\"id\":\"1728\"},\"major_label_policy\":{\"id\":\"1730\"},\"ticker\":{\"id\":\"1709\"}},\"id\":\"1708\",\"type\":\"LinearAxis\"},{\"attributes\":{\"end\":1.1,\"reset_end\":1.1,\"reset_start\":-0.1,\"start\":-0.1,\"tags\":[[[\"TotalCoinSupply\",\"TotalCoinSupply\",null]]]},\"id\":\"1690\",\"type\":\"Range1d\"},{\"attributes\":{\"axis\":{\"id\":\"1704\"},\"grid_line_color\":null,\"ticker\":null},\"id\":\"1707\",\"type\":\"Grid\"},{\"attributes\":{\"fill_alpha\":{\"value\":0.2},\"fill_color\":{\"value\":\"#30a2da\"},\"line_alpha\":{\"value\":0.2},\"line_color\":{\"value\":\"#30a2da\"},\"size\":{\"value\":5.477225575051661},\"x\":{\"field\":\"TotalCoinsMined\"},\"y\":{\"field\":\"TotalCoinSupply\"}},\"id\":\"1736\",\"type\":\"Scatter\"},{\"attributes\":{\"overlay\":{\"id\":\"1717\"}},\"id\":\"1715\",\"type\":\"BoxZoomTool\"},{\"attributes\":{\"fill_alpha\":{\"value\":0.1},\"fill_color\":{\"value\":\"#e5ae38\"},\"line_alpha\":{\"value\":0.1},\"line_color\":{\"value\":\"#e5ae38\"},\"size\":{\"value\":5.477225575051661},\"x\":{\"field\":\"TotalCoinsMined\"},\"y\":{\"field\":\"TotalCoinSupply\"}},\"id\":\"1778\",\"type\":\"Scatter\"},{\"attributes\":{\"bottom_units\":\"screen\",\"fill_alpha\":0.5,\"fill_color\":\"lightgrey\",\"left_units\":\"screen\",\"level\":\"overlay\",\"line_alpha\":1.0,\"line_color\":\"black\",\"line_dash\":[4,4],\"line_width\":2,\"right_units\":\"screen\",\"syncable\":false,\"top_units\":\"screen\"},\"id\":\"1717\",\"type\":\"BoxAnnotation\"},{\"attributes\":{},\"id\":\"1794\",\"type\":\"UnionRenderers\"},{\"attributes\":{\"data\":{\"Class\":[0,0,0,0,0,0,0,0,0,0,0,0,0,0,0,0,0,0,0,0,0,0,0,0,0,0,0,0,0,0,0,0,0,0,0,0,0,0,0,0,0,0,0,0,0,0,0,0,0,0,0,0,0,0,0,0,0,0,0,0,0,0,0,0,0,0,0,0,0,0,0,0,0,0,0,0,0,0,0,0,0,0,0,0,0,0,0,0,0,0,0,0,0,0,0,0,0,0,0,0,0,0,0,0,0,0,0,0,0,0,0,0,0,0,0,0,0,0,0,0,0,0,0,0,0,0,0,0,0,0,0,0,0,0,0,0,0,0,0,0,0,0,0,0,0,0,0,0,0,0,0,0,0,0,0,0,0,0,0,0,0,0,0,0,0,0,0,0,0,0,0,0,0,0,0,0,0,0,0,0,0,0,0,0,0,0,0,0,0,0,0,0,0,0,0,0,0,0,0,0,0,0,0,0,0,0,0,0,0,0,0,0,0,0,0,0,0,0,0,0,0,0,0,0,0,0,0,0,0,0,0,0,0,0,0,0,0,0],\"CoinName\":[\"Bitcoin\",\"Ethereum\",\"Litecoin\",\"Monero\",\"Ethereum Classic\",\"ZCash\",\"DigiByte\",\"ProsperCoin\",\"Spreadcoin\",\"Argentum\",\"MyriadCoin\",\"MoonCoin\",\"ZetaCoin\",\"SexCoin\",\"Quatloo\",\"QuarkCoin\",\"Riecoin\",\"Digitalcoin \",\"Catcoin\",\"CannaCoin\",\"CryptCoin\",\"Verge\",\"DevCoin\",\"EarthCoin\",\"E-Gulden\",\"Einsteinium\",\"Emerald\",\"Franko\",\"FeatherCoin\",\"GrandCoin\",\"GlobalCoin\",\"GoldCoin\",\"Infinite Coin\",\"IXcoin\",\"KrugerCoin\",\"LuckyCoin\",\"Litebar \",\"MegaCoin\",\"MediterraneanCoin\",\"MinCoin\",\"NobleCoin\",\"Namecoin\",\"NyanCoin\",\"RonPaulCoin\",\"StableCoin\",\"SmartCoin\",\"SysCoin\",\"TigerCoin\",\"TerraCoin\",\"UnbreakableCoin\",\"Unobtanium\",\"UroCoin\",\"ViaCoin\",\"Vertcoin\",\"WorldCoin\",\"JouleCoin\",\"ByteCoin\",\"DigitalNote \",\"MonaCoin\",\"Gulden\",\"PesetaCoin\",\"Wild Beast Coin\",\"Flo\",\"ArtByte\",\"Folding Coin\",\"Unitus\",\"CypherPunkCoin\",\"OmniCron\",\"GreenCoin\",\"Cryptonite\",\"MasterCoin\",\"SoonCoin\",\"1Credit\",\"MarsCoin \",\"Crypto\",\"Anarchists Prime\",\"BowsCoin\",\"Song Coin\",\"BitZeny\",\"Expanse\",\"Siacoin\",\"MindCoin\",\"I0coin\",\"Revolution VR\",\"HOdlcoin\",\"Gamecredits\",\"CarpeDiemCoin\",\"Adzcoin\",\"SoilCoin\",\"YoCoin\",\"SibCoin\",\"Francs\",\"BolivarCoin\",\"Omni\",\"PizzaCoin\",\"Komodo\",\"Karbo\",\"ZayedCoin\",\"Circuits of Value\",\"DopeCoin\",\"DollarCoin\",\"Shilling\",\"ZCoin\",\"Elementrem\",\"ZClassic\",\"KiloCoin\",\"ArtexCoin\",\"Kurrent\",\"Cannabis Industry Coin\",\"OsmiumCoin\",\"Bikercoins\",\"HexxCoin\",\"PacCoin\",\"Citadel\",\"BeaverCoin\",\"VaultCoin\",\"Zero\",\"Canada eCoin\",\"Zoin\",\"DubaiCoin\",\"EB3coin\",\"Coinonat\",\"BenjiRolls\",\"ILCoin\",\"EquiTrader\",\"Quantum Resistant Ledger\",\"Dynamic\",\"Nano\",\"ChanCoin\",\"Dinastycoin\",\"DigitalPrice\",\"Unify\",\"SocialCoin\",\"ArcticCoin\",\"DAS\",\"LeviarCoin\",\"Bitcore\",\"gCn Coin\",\"SmartCash\",\"Onix\",\"Bitcoin Cash\",\"Sojourn Coin\",\"NewYorkCoin\",\"FrazCoin\",\"Kronecoin\",\"AdCoin\",\"Linx\",\"Sumokoin\",\"BitcoinZ\",\"Elements\",\"VIVO Coin\",\"Bitcoin Gold\",\"Pirl\",\"eBoost\",\"Pura\",\"Innova\",\"Ellaism\",\"GoByte\",\"SHIELD\",\"UltraNote\",\"BitCoal\",\"DaxxCoin\",\"AC3\",\"Lethean\",\"PopularCoin\",\"Photon\",\"Sucre\",\"SparksPay\",\"GunCoin\",\"IrishCoin\",\"Pioneer Coin\",\"UnitedBitcoin\",\"Interzone\",\"TurtleCoin\",\"MUNcoin\",\"Niobio Cash\",\"ShareChain\",\"Travelflex\",\"KREDS\",\"BitFlip\",\"LottoCoin\",\"Crypto Improvement Fund\",\"Callisto Network\",\"BitTube\",\"Poseidon\",\"Aidos Kuneen\",\"Bitrolium\",\"Alpenschillling\",\"FuturoCoin\",\"Monero Classic\",\"Jumpcoin\",\"Infinex\",\"KEYCO\",\"GINcoin\",\"PlatinCoin\",\"Loki\",\"Newton Coin\",\"MassGrid\",\"PluraCoin\",\"Motion\",\"PlusOneCoin\",\"Axe\",\"HexCoin\",\"Webchain\",\"Ryo\",\"Urals Coin\",\"Qwertycoin\",\"Project Pai\",\"Azart\",\"Xchange\",\"CrypticCoin\",\"Actinium\",\"Bitcoin SV\",\"FREDEnergy\",\"Universal Molecule\",\"Lithium\",\"Exosis\",\"Block-Logic\",\"Beam\",\"Bithereum\",\"SLICE\",\"BLAST\",\"Bitcoin Rhodium\",\"GlobalToken\",\"SolarCoin\",\"UFO Coin\",\"BlakeCoin\",\"Crypto Escudo\",\"Crown Coin\",\"SmileyCoin\",\"Groestlcoin\",\"Bata\",\"Pakcoin\",\"JoinCoin\",\"Vollar\",\"Reality Clash\",\"Beldex\",\"Horizen\"],\"TotalCoinSupply\":{\"__ndarray__\":\"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\",\"dtype\":\"float64\",\"order\":\"little\",\"shape\":[238]},\"TotalCoinsMined\":{\"__ndarray__\":\"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\",\"dtype\":\"float64\",\"order\":\"little\",\"shape\":[238]}},\"selected\":{\"id\":\"1732\"},\"selection_policy\":{\"id\":\"1747\"}},\"id\":\"1731\",\"type\":\"ColumnDataSource\"},{\"attributes\":{},\"id\":\"1728\",\"type\":\"BasicTickFormatter\"},{\"attributes\":{\"angle\":{\"value\":0.0},\"fill_alpha\":{\"value\":1.0},\"fill_color\":{\"value\":\"#e5ae38\"},\"hatch_alpha\":{\"value\":1.0},\"hatch_color\":{\"value\":\"black\"},\"hatch_scale\":{\"value\":12.0},\"hatch_weight\":{\"value\":1.0},\"line_alpha\":{\"value\":1.0},\"line_cap\":{\"value\":\"butt\"},\"line_color\":{\"value\":\"#e5ae38\"},\"line_dash\":{\"value\":[]},\"line_dash_offset\":{\"value\":0},\"line_join\":{\"value\":\"bevel\"},\"line_width\":{\"value\":1},\"marker\":{\"value\":\"circle\"},\"size\":{\"value\":5.477225575051661},\"x\":{\"field\":\"TotalCoinsMined\"},\"y\":{\"field\":\"TotalCoinSupply\"}},\"id\":\"1797\",\"type\":\"Scatter\"},{\"attributes\":{\"margin\":[5,5,5,5],\"name\":\"HSpacer03015\",\"sizing_mode\":\"stretch_width\"},\"id\":\"1688\",\"type\":\"Spacer\"},{\"attributes\":{\"below\":[{\"id\":\"1704\"}],\"center\":[{\"id\":\"1707\"},{\"id\":\"1711\"}],\"height\":300,\"left\":[{\"id\":\"1708\"}],\"margin\":[5,5,5,5],\"min_border_bottom\":10,\"min_border_left\":10,\"min_border_right\":10,\"min_border_top\":10,\"renderers\":[{\"id\":\"1737\"},{\"id\":\"1758\"},{\"id\":\"1780\"},{\"id\":\"1804\"}],\"right\":[{\"id\":\"1749\"}],\"sizing_mode\":\"fixed\",\"title\":{\"id\":\"1696\"},\"toolbar\":{\"id\":\"1718\"},\"width\":700,\"x_range\":{\"id\":\"1689\"},\"x_scale\":{\"id\":\"1700\"},\"y_range\":{\"id\":\"1690\"},\"y_scale\":{\"id\":\"1702\"}},\"id\":\"1695\",\"subtype\":\"Figure\",\"type\":\"Plot\"},{\"attributes\":{\"data_source\":{\"id\":\"1774\"},\"glyph\":{\"id\":\"1777\"},\"hover_glyph\":null,\"muted_glyph\":{\"id\":\"1779\"},\"nonselection_glyph\":{\"id\":\"1778\"},\"selection_glyph\":{\"id\":\"1797\"},\"view\":{\"id\":\"1781\"}},\"id\":\"1780\",\"type\":\"GlyphRenderer\"},{\"attributes\":{\"fill_color\":{\"value\":\"#e5ae38\"},\"line_color\":{\"value\":\"#e5ae38\"},\"size\":{\"value\":5.477225575051661},\"x\":{\"field\":\"TotalCoinsMined\"},\"y\":{\"field\":\"TotalCoinSupply\"}},\"id\":\"1777\",\"type\":\"Scatter\"},{\"attributes\":{},\"id\":\"1713\",\"type\":\"PanTool\"},{\"attributes\":{\"source\":{\"id\":\"1752\"}},\"id\":\"1759\",\"type\":\"CDSView\"},{\"attributes\":{\"data\":{\"Class\":[3],\"CoinName\":[\"BitTorrent\"],\"TotalCoinSupply\":{\"__ndarray__\":\"rkfhehSu7z8=\",\"dtype\":\"float64\",\"order\":\"little\",\"shape\":[1]},\"TotalCoinsMined\":{\"__ndarray__\":\"AAAAAAAA8D8=\",\"dtype\":\"float64\",\"order\":\"little\",\"shape\":[1]}},\"selected\":{\"id\":\"1799\"},\"selection_policy\":{\"id\":\"1820\"}},\"id\":\"1798\",\"type\":\"ColumnDataSource\"},{\"attributes\":{},\"id\":\"1820\",\"type\":\"UnionRenderers\"},{\"attributes\":{\"fill_alpha\":{\"value\":0.2},\"fill_color\":{\"value\":\"#e5ae38\"},\"line_alpha\":{\"value\":0.2},\"line_color\":{\"value\":\"#e5ae38\"},\"size\":{\"value\":5.477225575051661},\"x\":{\"field\":\"TotalCoinsMined\"},\"y\":{\"field\":\"TotalCoinSupply\"}},\"id\":\"1779\",\"type\":\"Scatter\"},{\"attributes\":{},\"id\":\"1727\",\"type\":\"AllLabels\"},{\"attributes\":{\"children\":[{\"id\":\"1688\"},{\"id\":\"1695\"},{\"id\":\"1968\"}],\"margin\":[0,0,0,0],\"name\":\"Row03011\",\"tags\":[\"embedded\"]},\"id\":\"1687\",\"type\":\"Row\"},{\"attributes\":{},\"id\":\"1702\",\"type\":\"LinearScale\"},{\"attributes\":{\"data_source\":{\"id\":\"1798\"},\"glyph\":{\"id\":\"1801\"},\"hover_glyph\":null,\"muted_glyph\":{\"id\":\"1803\"},\"nonselection_glyph\":{\"id\":\"1802\"},\"selection_glyph\":{\"id\":\"1823\"},\"view\":{\"id\":\"1805\"}},\"id\":\"1804\",\"type\":\"GlyphRenderer\"},{\"attributes\":{\"source\":{\"id\":\"1798\"}},\"id\":\"1805\",\"type\":\"CDSView\"},{\"attributes\":{},\"id\":\"1775\",\"type\":\"Selection\"},{\"attributes\":{\"label\":{\"value\":\"3\"},\"renderers\":[{\"id\":\"1804\"}]},\"id\":\"1822\",\"type\":\"LegendItem\"},{\"attributes\":{\"fill_alpha\":{\"value\":0.1},\"fill_color\":{\"value\":\"#fc4f30\"},\"line_alpha\":{\"value\":0.1},\"line_color\":{\"value\":\"#fc4f30\"},\"size\":{\"value\":5.477225575051661},\"x\":{\"field\":\"TotalCoinsMined\"},\"y\":{\"field\":\"TotalCoinSupply\"}},\"id\":\"1756\",\"type\":\"Scatter\"},{\"attributes\":{\"axis_label\":\"TotalCoinsMined\",\"formatter\":{\"id\":\"1725\"},\"major_label_policy\":{\"id\":\"1727\"},\"ticker\":{\"id\":\"1705\"}},\"id\":\"1704\",\"type\":\"LinearAxis\"},{\"attributes\":{\"callback\":null,\"renderers\":[{\"id\":\"1737\"},{\"id\":\"1758\"},{\"id\":\"1780\"},{\"id\":\"1804\"}],\"tags\":[\"hv_created\"],\"tooltips\":[[\"Class\",\"@{Class}\"],[\"TotalCoinsMined\",\"@{TotalCoinsMined}\"],[\"TotalCoinSupply\",\"@{TotalCoinSupply}\"],[\"CoinName\",\"@{CoinName}\"]]},\"id\":\"1691\",\"type\":\"HoverTool\"},{\"attributes\":{\"angle\":{\"value\":0.0},\"fill_alpha\":{\"value\":1.0},\"fill_color\":{\"value\":\"#fc4f30\"},\"hatch_alpha\":{\"value\":1.0},\"hatch_color\":{\"value\":\"black\"},\"hatch_scale\":{\"value\":12.0},\"hatch_weight\":{\"value\":1.0},\"line_alpha\":{\"value\":1.0},\"line_cap\":{\"value\":\"butt\"},\"line_color\":{\"value\":\"#fc4f30\"},\"line_dash\":{\"value\":[]},\"line_dash_offset\":{\"value\":0},\"line_join\":{\"value\":\"bevel\"},\"line_width\":{\"value\":1},\"marker\":{\"value\":\"circle\"},\"size\":{\"value\":5.477225575051661},\"x\":{\"field\":\"TotalCoinsMined\"},\"y\":{\"field\":\"TotalCoinSupply\"}},\"id\":\"1773\",\"type\":\"Scatter\"},{\"attributes\":{},\"id\":\"1705\",\"type\":\"BasicTicker\"},{\"attributes\":{\"data\":{\"Class\":[1,1,1,1,1,1],\"CoinName\":[\"Vechain\",\"BiblePay\",\"LitecoinCash\",\"Poa Network\",\"Acute Angle Cloud\",\"Waves\"],\"TotalCoinSupply\":{\"__ndarray__\":\"+nQumcwytj+U9gZfmEx1P7x5qkNuhks/hFoo4ZaLMD/8qfHSTWJQPyxDHOviNho/\",\"dtype\":\"float64\",\"order\":\"little\",\"shape\":[6]},\"TotalCoinsMined\":{\"__ndarray__\":\"zaDgBxGurD+PWA2R2lNdP5CkxfJKIUU/nBkleI8SKz96Q0MFuIxQP/tFfmC/eho/\",\"dtype\":\"float64\",\"order\":\"little\",\"shape\":[6]}},\"selected\":{\"id\":\"1753\"},\"selection_policy\":{\"id\":\"1770\"}},\"id\":\"1752\",\"type\":\"ColumnDataSource\"},{\"attributes\":{},\"id\":\"1753\",\"type\":\"Selection\"},{\"attributes\":{\"fill_alpha\":{\"value\":0.2},\"fill_color\":{\"value\":\"#fc4f30\"},\"line_alpha\":{\"value\":0.2},\"line_color\":{\"value\":\"#fc4f30\"},\"size\":{\"value\":5.477225575051661},\"x\":{\"field\":\"TotalCoinsMined\"},\"y\":{\"field\":\"TotalCoinSupply\"}},\"id\":\"1757\",\"type\":\"Scatter\"},{\"attributes\":{\"data_source\":{\"id\":\"1752\"},\"glyph\":{\"id\":\"1755\"},\"hover_glyph\":null,\"muted_glyph\":{\"id\":\"1757\"},\"nonselection_glyph\":{\"id\":\"1756\"},\"selection_glyph\":{\"id\":\"1773\"},\"view\":{\"id\":\"1759\"}},\"id\":\"1758\",\"type\":\"GlyphRenderer\"},{\"attributes\":{},\"id\":\"1716\",\"type\":\"ResetTool\"},{\"attributes\":{\"data\":{\"Class\":[2,2,2,2,2,2,2,2,2,2,2,2,2,2,2,2,2,2,2,2,2,2,2,2,2,2,2,2,2,2,2,2,2,2,2,2,2,2,2,2,2,2,2,2,2,2,2,2,2,2,2,2,2,2,2,2,2,2,2,2,2,2,2,2,2,2,2,2,2,2,2,2,2,2,2,2,2,2,2,2,2,2,2,2,2,2,2,2,2,2,2,2,2,2,2,2,2,2,2,2,2,2,2,2,2,2,2,2,2,2,2,2,2,2,2,2,2,2,2,2,2,2,2,2,2,2,2,2,2,2,2,2,2,2,2,2,2,2,2,2,2,2,2,2,2,2,2,2,2,2,2,2,2,2,2,2,2,2,2,2,2,2,2,2,2,2,2,2,2,2,2,2,2,2,2,2,2,2,2,2,2,2,2,2,2,2,2,2,2,2,2,2,2,2,2,2,2,2,2,2,2,2,2,2,2,2,2,2,2,2,2,2,2,2,2,2,2,2,2,2,2,2,2,2,2,2,2,2,2,2,2,2,2,2,2,2,2,2,2,2,2,2,2,2,2,2,2,2,2,2,2,2,2,2,2,2,2,2,2,2,2,2,2,2,2,2,2,2,2,2,2,2,2,2,2,2,2,2,2,2,2,2,2,2,2,2,2],\"CoinName\":[\"42 Coin\",\"404Coin\",\"EliteCoin\",\"Dash\",\"Bitshares\",\"BitcoinDark\",\"PayCoin\",\"KoboCoin\",\"Aurora Coin\",\"BlueCoin\",\"EnergyCoin\",\"BitBar\",\"CryptoBullion\",\"CasinoCoin\",\"Diamond\",\"Exclusive Coin\",\"FlutterCoin\",\"HoboNickels\",\"HyperStake\",\"IOCoin\",\"MaxCoin\",\"MintCoin\",\"MazaCoin\",\"Nautilus Coin\",\"NavCoin\",\"OpalCoin\",\"Orbitcoin\",\"PotCoin\",\"PhoenixCoin\",\"Reddcoin\",\"SuperCoin\",\"SyncCoin\",\"TeslaCoin\",\"TittieCoin\",\"TorCoin\",\"UnitaryStatus Dollar\",\"UltraCoin\",\"VeriCoin\",\"X11 Coin\",\"Crypti\",\"StealthCoin\",\"ZCC Coin\",\"BurstCoin\",\"StorjCoin\",\"Neutron\",\"FairCoin\",\"RubyCoin\",\"Kore\",\"Dnotes\",\"8BIT Coin\",\"Sativa Coin\",\"Ucoin\",\"Vtorrent\",\"IslaCoin\",\"Nexus\",\"Droidz\",\"Squall Coin\",\"Diggits\",\"Paycon\",\"Emercoin\",\"EverGreenCoin\",\"Decred\",\"EDRCoin\",\"Hitcoin\",\"DubaiCoin\",\"PWR Coin\",\"BillaryCoin\",\"GPU Coin\",\"EuropeCoin\",\"ZeitCoin\",\"SwingCoin\",\"SafeExchangeCoin\",\"Nebuchadnezzar\",\"Ratecoin\",\"Revenu\",\"Clockcoin\",\"VIP Tokens\",\"BitSend\",\"Let it Ride\",\"PutinCoin\",\"iBankCoin\",\"Frankywillcoin\",\"MudraCoin\",\"Lutetium Coin\",\"GoldBlocks\",\"CarterCoin\",\"BitTokens\",\"MustangCoin\",\"ZoneCoin\",\"RootCoin\",\"BitCurrency\",\"Swiscoin\",\"BuzzCoin\",\"Opair\",\"PesoBit\",\"Halloween Coin\",\"CoffeeCoin\",\"RoyalCoin\",\"GanjaCoin V2\",\"TeamUP\",\"LanaCoin\",\"ARK\",\"InsaneCoin\",\"EmberCoin\",\"XenixCoin\",\"FreeCoin\",\"PLNCoin\",\"AquariusCoin\",\"Creatio\",\"Eternity\",\"Eurocoin\",\"BitcoinFast\",\"Stakenet\",\"BitConnect Coin\",\"MoneyCoin\",\"Enigma\",\"Russiacoin\",\"PandaCoin\",\"GameUnits\",\"GAKHcoin\",\"Allsafe\",\"LiteCreed\",\"Klingon Empire Darsek\",\"Internet of People\",\"KushCoin\",\"Printerium\",\"Impeach\",\"Zilbercoin\",\"FirstCoin\",\"FindCoin\",\"OpenChat\",\"RenosCoin\",\"VirtacoinPlus\",\"TajCoin\",\"Impact\",\"Atmos\",\"HappyCoin\",\"MacronCoin\",\"Condensate\",\"Independent Money System\",\"ArgusCoin\",\"LomoCoin\",\"ProCurrency\",\"GoldReserve\",\"GrowthCoin\",\"Phreak\",\"Degas Coin\",\"HTML5 Coin\",\"Ultimate Secure Cash\",\"QTUM\",\"Espers\",\"Denarius\",\"Virta Unique Coin\",\"Bitcoin Planet\",\"BritCoin\",\"Linda\",\"DeepOnion\",\"Signatum\",\"Cream\",\"Monoeci\",\"Draftcoin\",\"Stakecoin\",\"CoinonatX\",\"Ethereum Dark\",\"Obsidian\",\"Cardano\",\"Regalcoin\",\"TrezarCoin\",\"TerraNovaCoin\",\"Rupee\",\"WomenCoin\",\"Theresa May Coin\",\"NamoCoin\",\"LUXCoin\",\"Xios\",\"Bitcloud 2.0\",\"KekCoin\",\"BlackholeCoin\",\"Infinity Economics\",\"Magnet\",\"Lamden Tau\",\"Electra\",\"Bitcoin Diamond\",\"Cash & Back Coin\",\"Bulwark\",\"Kalkulus\",\"GermanCoin\",\"LiteCoin Ultra\",\"PhantomX\",\"Digiwage\",\"Trollcoin\",\"Litecoin Plus\",\"Monkey Project\",\"TokenPay\",\"1717 Masonic Commemorative Token\",\"My Big Coin\",\"Unified Society USDEX\",\"Tokyo Coin\",\"Stipend\",\"Pushi\",\"Ellerium\",\"Velox\",\"Ontology\",\"Bitspace\",\"Briacoin\",\"Ignition\",\"MedicCoin\",\"Bitcoin Green\",\"Deviant Coin\",\"Abjcoin\",\"Semux\",\"Carebit\",\"Zealium\",\"Proton\",\"iDealCash\",\"Bitcoin Incognito\",\"HollyWoodCoin\",\"Swisscoin\",\"Xt3ch\",\"TheVig\",\"EmaratCoin\",\"Dekado\",\"Lynx\",\"Poseidon Quark\",\"BitcoinWSpectrum\",\"Muse\",\"Trivechain\",\"Dystem\",\"Giant\",\"Peony Coin\",\"Absolute Coin\",\"Vitae\",\"TPCash\",\"ARENON\",\"EUNO\",\"MMOCoin\",\"Ketan\",\"XDNA\",\"PAXEX\",\"ThunderStake\",\"Kcash\",\"Bettex coin\",\"BitMoney\",\"Junson Ming Chan Coin\",\"HerbCoin\",\"PirateCash\",\"Oduwa\",\"Galilel\",\"Crypto Sports\",\"Credit\",\"Dash Platinum\",\"Nasdacoin\",\"Beetle Coin\",\"Titan Coin\",\"Award\",\"Insane Coin\",\"ALAX\",\"LiteDoge\",\"TruckCoin\",\"OrangeCoin\",\"BitstarCoin\",\"NeosCoin\",\"HyperCoin\",\"PinkCoin\",\"AudioCoin\",\"IncaKoin\",\"Piggy Coin\",\"Genstake\",\"XiaoMiCoin\",\"CapriCoin\",\" ClubCoin\",\"Radium\",\"Creditbit \",\"OKCash\",\"Lisk\",\"HiCoin\",\"WhiteCoin\",\"FriendshipCoin\",\"Triangles Coin\",\"EOS\",\"Oxycoin\",\"TigerCash\",\"Particl\",\"Nxt\",\"ZEPHYR\",\"Gapcoin\",\"BitcoinPlus\"],\"TotalCoinSupply\":{\"__ndarray__\":\"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\",\"dtype\":\"float64\",\"order\":\"little\",\"shape\":[287]},\"TotalCoinsMined\":{\"__ndarray__\":\"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\",\"dtype\":\"float64\",\"order\":\"little\",\"shape\":[287]}},\"selected\":{\"id\":\"1775\"},\"selection_policy\":{\"id\":\"1794\"}},\"id\":\"1774\",\"type\":\"ColumnDataSource\"},{\"attributes\":{},\"id\":\"1709\",\"type\":\"BasicTicker\"},{\"attributes\":{\"fill_alpha\":{\"value\":0.1},\"fill_color\":{\"value\":\"#30a2da\"},\"line_alpha\":{\"value\":0.1},\"line_color\":{\"value\":\"#30a2da\"},\"size\":{\"value\":5.477225575051661},\"x\":{\"field\":\"TotalCoinsMined\"},\"y\":{\"field\":\"TotalCoinSupply\"}},\"id\":\"1735\",\"type\":\"Scatter\"},{\"attributes\":{},\"id\":\"1725\",\"type\":\"BasicTickFormatter\"},{\"attributes\":{\"fill_color\":{\"value\":\"#fc4f30\"},\"line_color\":{\"value\":\"#fc4f30\"},\"size\":{\"value\":5.477225575051661},\"x\":{\"field\":\"TotalCoinsMined\"},\"y\":{\"field\":\"TotalCoinSupply\"}},\"id\":\"1755\",\"type\":\"Scatter\"},{\"attributes\":{},\"id\":\"1747\",\"type\":\"UnionRenderers\"},{\"attributes\":{},\"id\":\"1732\",\"type\":\"Selection\"},{\"attributes\":{\"margin\":[5,5,5,5],\"name\":\"HSpacer03016\",\"sizing_mode\":\"stretch_width\"},\"id\":\"1968\",\"type\":\"Spacer\"},{\"attributes\":{\"angle\":{\"value\":0.0},\"fill_alpha\":{\"value\":1.0},\"fill_color\":{\"value\":\"#6d904f\"},\"hatch_alpha\":{\"value\":1.0},\"hatch_color\":{\"value\":\"black\"},\"hatch_scale\":{\"value\":12.0},\"hatch_weight\":{\"value\":1.0},\"line_alpha\":{\"value\":1.0},\"line_cap\":{\"value\":\"butt\"},\"line_color\":{\"value\":\"#6d904f\"},\"line_dash\":{\"value\":[]},\"line_dash_offset\":{\"value\":0},\"line_join\":{\"value\":\"bevel\"},\"line_width\":{\"value\":1},\"marker\":{\"value\":\"circle\"},\"size\":{\"value\":5.477225575051661},\"x\":{\"field\":\"TotalCoinsMined\"},\"y\":{\"field\":\"TotalCoinSupply\"}},\"id\":\"1823\",\"type\":\"Scatter\"},{\"attributes\":{},\"id\":\"1700\",\"type\":\"LinearScale\"},{\"attributes\":{},\"id\":\"1799\",\"type\":\"Selection\"},{\"attributes\":{},\"id\":\"1770\",\"type\":\"UnionRenderers\"},{\"attributes\":{\"source\":{\"id\":\"1731\"}},\"id\":\"1738\",\"type\":\"CDSView\"},{\"attributes\":{\"label\":{\"value\":\"2\"},\"renderers\":[{\"id\":\"1780\"}]},\"id\":\"1796\",\"type\":\"LegendItem\"},{\"attributes\":{\"angle\":{\"value\":0.0},\"fill_alpha\":{\"value\":1.0},\"fill_color\":{\"value\":\"#30a2da\"},\"hatch_alpha\":{\"value\":1.0},\"hatch_color\":{\"value\":\"black\"},\"hatch_scale\":{\"value\":12.0},\"hatch_weight\":{\"value\":1.0},\"line_alpha\":{\"value\":1.0},\"line_cap\":{\"value\":\"butt\"},\"line_color\":{\"value\":\"#30a2da\"},\"line_dash\":{\"value\":[]},\"line_dash_offset\":{\"value\":0},\"line_join\":{\"value\":\"bevel\"},\"line_width\":{\"value\":1},\"marker\":{\"value\":\"circle\"},\"size\":{\"value\":5.477225575051661},\"x\":{\"field\":\"TotalCoinsMined\"},\"y\":{\"field\":\"TotalCoinSupply\"}},\"id\":\"1751\",\"type\":\"Scatter\"},{\"attributes\":{},\"id\":\"1730\",\"type\":\"AllLabels\"}],\"root_ids\":[\"1687\"]},\"title\":\"Bokeh Application\",\"version\":\"2.3.2\"}};\n",
       "    var render_items = [{\"docid\":\"80457d55-4813-4b51-b96d-5ff0d3a26f36\",\"root_ids\":[\"1687\"],\"roots\":{\"1687\":\"30695bac-2627-40ec-bef4-1179dfa49d61\"}}];\n",
       "    root.Bokeh.embed.embed_items_notebook(docs_json, render_items);\n",
       "  }\n",
       "  if (root.Bokeh !== undefined && root.Bokeh.Panel !== undefined) {\n",
       "    embed_document(root);\n",
       "  } else {\n",
       "    var attempts = 0;\n",
       "    var timer = setInterval(function(root) {\n",
       "      if (root.Bokeh !== undefined && root.Bokeh.Panel !== undefined) {\n",
       "        clearInterval(timer);\n",
       "        embed_document(root);\n",
       "      } else if (document.readyState == \"complete\") {\n",
       "        attempts++;\n",
       "        if (attempts > 100) {\n",
       "          clearInterval(timer);\n",
       "          console.log(\"Bokeh: ERROR: Unable to run BokehJS code because BokehJS library is missing\");\n",
       "        }\n",
       "      }\n",
       "    }, 10, root)\n",
       "  }\n",
       "})(window);</script>"
      ],
      "text/plain": [
       ":NdOverlay   [Class]\n",
       "   :Scatter   [TotalCoinsMined]   (TotalCoinSupply,CoinName)"
      ]
     },
     "execution_count": 47,
     "metadata": {
      "application/vnd.holoviews_exec.v0+json": {
       "id": "1687"
      }
     },
     "output_type": "execute_result"
    }
   ],
   "source": [
    "# Create a hvplot.scatter plot using x=\"TotalCoinsMined\" and y=\"TotalCoinSupply\".\n",
    "plot_df.hvplot.scatter(\n",
    "    x=\"TotalCoinsMined\",\n",
    "    y=\"TotalCoinSupply\",\n",
    "    by=\"Class\",\n",
    "    hover_cols=[\"CoinName\"],\n",
    ")"
   ]
  },
  {
   "cell_type": "code",
   "execution_count": null,
   "metadata": {},
   "outputs": [],
   "source": []
  }
 ],
 "metadata": {
  "file_extension": ".py",
  "kernelspec": {
   "display_name": "mlenv",
   "language": "python",
   "name": "mlenv"
  },
  "language_info": {
   "codemirror_mode": {
    "name": "ipython",
    "version": 3
   },
   "file_extension": ".py",
   "mimetype": "text/x-python",
   "name": "python",
   "nbconvert_exporter": "python",
   "pygments_lexer": "ipython3",
   "version": "3.9.4"
  },
  "latex_envs": {
   "LaTeX_envs_menu_present": true,
   "autoclose": false,
   "autocomplete": true,
   "bibliofile": "biblio.bib",
   "cite_by": "apalike",
   "current_citInitial": 1,
   "eqLabelWithNumbers": true,
   "eqNumInitial": 1,
   "hotkeys": {
    "equation": "Ctrl-E",
    "itemize": "Ctrl-I"
   },
   "labels_anchors": false,
   "latex_user_defs": false,
   "report_style_numbering": false,
   "user_envs_cfg": false
  },
  "mimetype": "text/x-python",
  "name": "python",
  "npconvert_exporter": "python",
  "pygments_lexer": "ipython3",
  "version": 3
 },
 "nbformat": 4,
 "nbformat_minor": 4
}
